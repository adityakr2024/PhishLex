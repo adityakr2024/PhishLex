{
 "cells": [
  {
   "cell_type": "markdown",
   "id": "b50ed2bf-7f34-4739-b252-2f92d1081790",
   "metadata": {},
   "source": [
    "Loading required Libraries\r\n"
   ]
  },
  {
   "cell_type": "code",
   "execution_count": 1,
   "id": "388a7cc4-7158-47eb-9a3c-ca683fc60340",
   "metadata": {},
   "outputs": [],
   "source": [
    "import numpy as np\n",
    "import pandas as pd\n",
    "import matplotlib.pyplot as plt\n",
    "%matplotlib inline\n",
    "import seaborn as sns\n",
    "from sklearn import metrics\n",
    "import re\n",
    "import warnings\n",
    "warnings.filterwarnings('ignore')"
   ]
  },
  {
   "cell_type": "markdown",
   "id": "ad5368b3-a654-4caf-9853-ec8578b139c9",
   "metadata": {},
   "source": [
    "Loading the data"
   ]
  },
  {
   "cell_type": "code",
   "execution_count": 2,
   "id": "32431d07-3d0f-48d8-a744-3aa0c2a778d3",
   "metadata": {},
   "outputs": [],
   "source": [
    "df = pd.read_csv('urldataset.csv')"
   ]
  },
  {
   "cell_type": "code",
   "execution_count": 3,
   "id": "9c6b98d4-de9d-4dff-a8ed-0d4fd4ea9684",
   "metadata": {},
   "outputs": [
    {
     "data": {
      "text/html": [
       "<div>\n",
       "<style scoped>\n",
       "    .dataframe tbody tr th:only-of-type {\n",
       "        vertical-align: middle;\n",
       "    }\n",
       "\n",
       "    .dataframe tbody tr th {\n",
       "        vertical-align: top;\n",
       "    }\n",
       "\n",
       "    .dataframe thead th {\n",
       "        text-align: right;\n",
       "    }\n",
       "</style>\n",
       "<table border=\"1\" class=\"dataframe\">\n",
       "  <thead>\n",
       "    <tr style=\"text-align: right;\">\n",
       "      <th></th>\n",
       "      <th>url</th>\n",
       "      <th>result</th>\n",
       "    </tr>\n",
       "  </thead>\n",
       "  <tbody>\n",
       "    <tr>\n",
       "      <th>0</th>\n",
       "      <td>https://sellait.site/id/app/user.php</td>\n",
       "      <td>1</td>\n",
       "    </tr>\n",
       "    <tr>\n",
       "      <th>1</th>\n",
       "      <td>https://solucioneskinesicas.com/Sella/app/user...</td>\n",
       "      <td>1</td>\n",
       "    </tr>\n",
       "    <tr>\n",
       "      <th>2</th>\n",
       "      <td>https://open-spotify.site/it/Autenticazione/ap...</td>\n",
       "      <td>1</td>\n",
       "    </tr>\n",
       "    <tr>\n",
       "      <th>3</th>\n",
       "      <td>https://sellabanca.site/Autenticazione/app/use...</td>\n",
       "      <td>1</td>\n",
       "    </tr>\n",
       "    <tr>\n",
       "      <th>4</th>\n",
       "      <td>https://1r5applmnt.com</td>\n",
       "      <td>1</td>\n",
       "    </tr>\n",
       "  </tbody>\n",
       "</table>\n",
       "</div>"
      ],
      "text/plain": [
       "                                                 url  result\n",
       "0               https://sellait.site/id/app/user.php       1\n",
       "1  https://solucioneskinesicas.com/Sella/app/user...       1\n",
       "2  https://open-spotify.site/it/Autenticazione/ap...       1\n",
       "3  https://sellabanca.site/Autenticazione/app/use...       1\n",
       "4                             https://1r5applmnt.com       1"
      ]
     },
     "execution_count": 3,
     "metadata": {},
     "output_type": "execute_result"
    }
   ],
   "source": [
    "df.head()"
   ]
  },
  {
   "cell_type": "code",
   "execution_count": 4,
   "id": "c545ac6b-6822-405b-bc38-64b7530c67fb",
   "metadata": {},
   "outputs": [],
   "source": [
    "# Length of URL\n",
    "df['url_length'] = df['url'].apply(lambda x: len(x))\n",
    "\n",
    "# URL has http\n",
    "df['url_has_http//'] = df['url'].apply(lambda x: 1 if 'http://' in x else 0)\n",
    "\n",
    "# URL has https\n",
    "df['url_has_https//'] = df['url'].apply(lambda x: 1 if 'https://' in x else 0)\n",
    "\n",
    "# URL has num\n",
    "df['url_contains_num'] = df['url'].apply(lambda url: 1 if re.search(r'\\d', url) else 0)\n",
    "\n",
    "# Number of dots\n",
    "df['url_num_dots'] = df['url'].apply(lambda x: x.count('.'))\n",
    "\n",
    "# Number of slashes\n",
    "df['url_num_slashes'] = df['url'].apply(lambda x: x.count('/'))\n",
    "\n",
    "# Number of Dash\n",
    "df['number_of_dash'] = df['url'].apply(lambda x: x.count('-'))\n",
    "\n",
    "# @ Symbol\n",
    "df['has_at_symbol'] = df['url'].apply(lambda x: 1 if '@' in x else 0)\n",
    "\n",
    "# Tilde Symbol\n",
    "df['has_tilde_symbol'] = df['url'].apply(lambda x: 1 if '~' in x else 0)\n",
    "\n",
    "# Number of Underscore\n",
    "df['number_of_underscore'] = df['url'].apply(lambda x: x.count('_'))\n",
    "\n",
    "# Number of NumPercent\n",
    "df['number_of_numpercent'] = df['url'].apply(lambda x: x.count('%'))\n",
    "\n",
    "# Number of Ampersand\n",
    "df['number_of_ampersand'] = df['url'].apply(lambda x: x.count('&'))\n",
    "\n",
    "# Number of Hash\n",
    "df['number_of_hash'] = df['url'].apply(lambda x: x.count('#'))\n",
    "\n",
    "# URL contains IP address\n",
    "df['url_contains_ip'] = df['url'].apply(lambda url: 1 if re.search(r'\\b(?:[0-9]{1,3}\\.){3}[0-9]{1,3}\\b', url) else 0)\n"
   ]
  },
  {
   "cell_type": "code",
   "execution_count": 5,
   "id": "3c53468e-b8b0-4a18-99c6-a608f5a69963",
   "metadata": {},
   "outputs": [
    {
     "data": {
      "text/html": [
       "<div>\n",
       "<style scoped>\n",
       "    .dataframe tbody tr th:only-of-type {\n",
       "        vertical-align: middle;\n",
       "    }\n",
       "\n",
       "    .dataframe tbody tr th {\n",
       "        vertical-align: top;\n",
       "    }\n",
       "\n",
       "    .dataframe thead th {\n",
       "        text-align: right;\n",
       "    }\n",
       "</style>\n",
       "<table border=\"1\" class=\"dataframe\">\n",
       "  <thead>\n",
       "    <tr style=\"text-align: right;\">\n",
       "      <th></th>\n",
       "      <th>url</th>\n",
       "      <th>result</th>\n",
       "      <th>url_length</th>\n",
       "      <th>url_has_http//</th>\n",
       "      <th>url_has_https//</th>\n",
       "      <th>url_contains_num</th>\n",
       "      <th>url_num_dots</th>\n",
       "      <th>url_num_slashes</th>\n",
       "      <th>number_of_dash</th>\n",
       "      <th>has_at_symbol</th>\n",
       "      <th>has_tilde_symbol</th>\n",
       "      <th>number_of_underscore</th>\n",
       "      <th>number_of_numpercent</th>\n",
       "      <th>number_of_ampersand</th>\n",
       "      <th>number_of_hash</th>\n",
       "      <th>url_contains_ip</th>\n",
       "    </tr>\n",
       "  </thead>\n",
       "  <tbody>\n",
       "    <tr>\n",
       "      <th>0</th>\n",
       "      <td>https://sellait.site/id/app/user.php</td>\n",
       "      <td>1</td>\n",
       "      <td>36</td>\n",
       "      <td>0</td>\n",
       "      <td>1</td>\n",
       "      <td>0</td>\n",
       "      <td>2</td>\n",
       "      <td>5</td>\n",
       "      <td>0</td>\n",
       "      <td>0</td>\n",
       "      <td>0</td>\n",
       "      <td>0</td>\n",
       "      <td>0</td>\n",
       "      <td>0</td>\n",
       "      <td>0</td>\n",
       "      <td>0</td>\n",
       "    </tr>\n",
       "    <tr>\n",
       "      <th>1</th>\n",
       "      <td>https://solucioneskinesicas.com/Sella/app/user...</td>\n",
       "      <td>1</td>\n",
       "      <td>50</td>\n",
       "      <td>0</td>\n",
       "      <td>1</td>\n",
       "      <td>0</td>\n",
       "      <td>2</td>\n",
       "      <td>5</td>\n",
       "      <td>0</td>\n",
       "      <td>0</td>\n",
       "      <td>0</td>\n",
       "      <td>0</td>\n",
       "      <td>0</td>\n",
       "      <td>0</td>\n",
       "      <td>0</td>\n",
       "      <td>0</td>\n",
       "    </tr>\n",
       "    <tr>\n",
       "      <th>2</th>\n",
       "      <td>https://open-spotify.site/it/Autenticazione/ap...</td>\n",
       "      <td>1</td>\n",
       "      <td>56</td>\n",
       "      <td>0</td>\n",
       "      <td>1</td>\n",
       "      <td>0</td>\n",
       "      <td>2</td>\n",
       "      <td>6</td>\n",
       "      <td>1</td>\n",
       "      <td>0</td>\n",
       "      <td>0</td>\n",
       "      <td>0</td>\n",
       "      <td>0</td>\n",
       "      <td>0</td>\n",
       "      <td>0</td>\n",
       "      <td>0</td>\n",
       "    </tr>\n",
       "    <tr>\n",
       "      <th>3</th>\n",
       "      <td>https://sellabanca.site/Autenticazione/app/use...</td>\n",
       "      <td>1</td>\n",
       "      <td>51</td>\n",
       "      <td>0</td>\n",
       "      <td>1</td>\n",
       "      <td>0</td>\n",
       "      <td>2</td>\n",
       "      <td>5</td>\n",
       "      <td>0</td>\n",
       "      <td>0</td>\n",
       "      <td>0</td>\n",
       "      <td>0</td>\n",
       "      <td>0</td>\n",
       "      <td>0</td>\n",
       "      <td>0</td>\n",
       "      <td>0</td>\n",
       "    </tr>\n",
       "    <tr>\n",
       "      <th>4</th>\n",
       "      <td>https://1r5applmnt.com</td>\n",
       "      <td>1</td>\n",
       "      <td>22</td>\n",
       "      <td>0</td>\n",
       "      <td>1</td>\n",
       "      <td>1</td>\n",
       "      <td>1</td>\n",
       "      <td>2</td>\n",
       "      <td>0</td>\n",
       "      <td>0</td>\n",
       "      <td>0</td>\n",
       "      <td>0</td>\n",
       "      <td>0</td>\n",
       "      <td>0</td>\n",
       "      <td>0</td>\n",
       "      <td>0</td>\n",
       "    </tr>\n",
       "  </tbody>\n",
       "</table>\n",
       "</div>"
      ],
      "text/plain": [
       "                                                 url  result  url_length  \\\n",
       "0               https://sellait.site/id/app/user.php       1          36   \n",
       "1  https://solucioneskinesicas.com/Sella/app/user...       1          50   \n",
       "2  https://open-spotify.site/it/Autenticazione/ap...       1          56   \n",
       "3  https://sellabanca.site/Autenticazione/app/use...       1          51   \n",
       "4                             https://1r5applmnt.com       1          22   \n",
       "\n",
       "   url_has_http//  url_has_https//  url_contains_num  url_num_dots  \\\n",
       "0               0                1                 0             2   \n",
       "1               0                1                 0             2   \n",
       "2               0                1                 0             2   \n",
       "3               0                1                 0             2   \n",
       "4               0                1                 1             1   \n",
       "\n",
       "   url_num_slashes  number_of_dash  has_at_symbol  has_tilde_symbol  \\\n",
       "0                5               0              0                 0   \n",
       "1                5               0              0                 0   \n",
       "2                6               1              0                 0   \n",
       "3                5               0              0                 0   \n",
       "4                2               0              0                 0   \n",
       "\n",
       "   number_of_underscore  number_of_numpercent  number_of_ampersand  \\\n",
       "0                     0                     0                    0   \n",
       "1                     0                     0                    0   \n",
       "2                     0                     0                    0   \n",
       "3                     0                     0                    0   \n",
       "4                     0                     0                    0   \n",
       "\n",
       "   number_of_hash  url_contains_ip  \n",
       "0               0                0  \n",
       "1               0                0  \n",
       "2               0                0  \n",
       "3               0                0  \n",
       "4               0                0  "
      ]
     },
     "execution_count": 5,
     "metadata": {},
     "output_type": "execute_result"
    }
   ],
   "source": [
    "df.head()"
   ]
  },
  {
   "cell_type": "code",
   "execution_count": 6,
   "id": "930f9698-9ddf-4ce4-bb15-2f4eedf84c32",
   "metadata": {},
   "outputs": [],
   "source": [
    "df = df.drop(['url'], axis = 1)"
   ]
  },
  {
   "cell_type": "code",
   "execution_count": 7,
   "id": "1895308c-8283-40ef-9e30-18e5fc073074",
   "metadata": {},
   "outputs": [
    {
     "data": {
      "text/html": [
       "<div>\n",
       "<style scoped>\n",
       "    .dataframe tbody tr th:only-of-type {\n",
       "        vertical-align: middle;\n",
       "    }\n",
       "\n",
       "    .dataframe tbody tr th {\n",
       "        vertical-align: top;\n",
       "    }\n",
       "\n",
       "    .dataframe thead th {\n",
       "        text-align: right;\n",
       "    }\n",
       "</style>\n",
       "<table border=\"1\" class=\"dataframe\">\n",
       "  <thead>\n",
       "    <tr style=\"text-align: right;\">\n",
       "      <th></th>\n",
       "      <th>result</th>\n",
       "      <th>url_length</th>\n",
       "      <th>url_has_http//</th>\n",
       "      <th>url_has_https//</th>\n",
       "      <th>url_contains_num</th>\n",
       "      <th>url_num_dots</th>\n",
       "      <th>url_num_slashes</th>\n",
       "      <th>number_of_dash</th>\n",
       "      <th>has_at_symbol</th>\n",
       "      <th>has_tilde_symbol</th>\n",
       "      <th>number_of_underscore</th>\n",
       "      <th>number_of_numpercent</th>\n",
       "      <th>number_of_ampersand</th>\n",
       "      <th>number_of_hash</th>\n",
       "      <th>url_contains_ip</th>\n",
       "    </tr>\n",
       "  </thead>\n",
       "  <tbody>\n",
       "    <tr>\n",
       "      <th>0</th>\n",
       "      <td>1</td>\n",
       "      <td>36</td>\n",
       "      <td>0</td>\n",
       "      <td>1</td>\n",
       "      <td>0</td>\n",
       "      <td>2</td>\n",
       "      <td>5</td>\n",
       "      <td>0</td>\n",
       "      <td>0</td>\n",
       "      <td>0</td>\n",
       "      <td>0</td>\n",
       "      <td>0</td>\n",
       "      <td>0</td>\n",
       "      <td>0</td>\n",
       "      <td>0</td>\n",
       "    </tr>\n",
       "    <tr>\n",
       "      <th>1</th>\n",
       "      <td>1</td>\n",
       "      <td>50</td>\n",
       "      <td>0</td>\n",
       "      <td>1</td>\n",
       "      <td>0</td>\n",
       "      <td>2</td>\n",
       "      <td>5</td>\n",
       "      <td>0</td>\n",
       "      <td>0</td>\n",
       "      <td>0</td>\n",
       "      <td>0</td>\n",
       "      <td>0</td>\n",
       "      <td>0</td>\n",
       "      <td>0</td>\n",
       "      <td>0</td>\n",
       "    </tr>\n",
       "    <tr>\n",
       "      <th>2</th>\n",
       "      <td>1</td>\n",
       "      <td>56</td>\n",
       "      <td>0</td>\n",
       "      <td>1</td>\n",
       "      <td>0</td>\n",
       "      <td>2</td>\n",
       "      <td>6</td>\n",
       "      <td>1</td>\n",
       "      <td>0</td>\n",
       "      <td>0</td>\n",
       "      <td>0</td>\n",
       "      <td>0</td>\n",
       "      <td>0</td>\n",
       "      <td>0</td>\n",
       "      <td>0</td>\n",
       "    </tr>\n",
       "    <tr>\n",
       "      <th>3</th>\n",
       "      <td>1</td>\n",
       "      <td>51</td>\n",
       "      <td>0</td>\n",
       "      <td>1</td>\n",
       "      <td>0</td>\n",
       "      <td>2</td>\n",
       "      <td>5</td>\n",
       "      <td>0</td>\n",
       "      <td>0</td>\n",
       "      <td>0</td>\n",
       "      <td>0</td>\n",
       "      <td>0</td>\n",
       "      <td>0</td>\n",
       "      <td>0</td>\n",
       "      <td>0</td>\n",
       "    </tr>\n",
       "    <tr>\n",
       "      <th>4</th>\n",
       "      <td>1</td>\n",
       "      <td>22</td>\n",
       "      <td>0</td>\n",
       "      <td>1</td>\n",
       "      <td>1</td>\n",
       "      <td>1</td>\n",
       "      <td>2</td>\n",
       "      <td>0</td>\n",
       "      <td>0</td>\n",
       "      <td>0</td>\n",
       "      <td>0</td>\n",
       "      <td>0</td>\n",
       "      <td>0</td>\n",
       "      <td>0</td>\n",
       "      <td>0</td>\n",
       "    </tr>\n",
       "  </tbody>\n",
       "</table>\n",
       "</div>"
      ],
      "text/plain": [
       "   result  url_length  url_has_http//  url_has_https//  url_contains_num  \\\n",
       "0       1          36               0                1                 0   \n",
       "1       1          50               0                1                 0   \n",
       "2       1          56               0                1                 0   \n",
       "3       1          51               0                1                 0   \n",
       "4       1          22               0                1                 1   \n",
       "\n",
       "   url_num_dots  url_num_slashes  number_of_dash  has_at_symbol  \\\n",
       "0             2                5               0              0   \n",
       "1             2                5               0              0   \n",
       "2             2                6               1              0   \n",
       "3             2                5               0              0   \n",
       "4             1                2               0              0   \n",
       "\n",
       "   has_tilde_symbol  number_of_underscore  number_of_numpercent  \\\n",
       "0                 0                     0                     0   \n",
       "1                 0                     0                     0   \n",
       "2                 0                     0                     0   \n",
       "3                 0                     0                     0   \n",
       "4                 0                     0                     0   \n",
       "\n",
       "   number_of_ampersand  number_of_hash  url_contains_ip  \n",
       "0                    0               0                0  \n",
       "1                    0               0                0  \n",
       "2                    0               0                0  \n",
       "3                    0               0                0  \n",
       "4                    0               0                0  "
      ]
     },
     "execution_count": 7,
     "metadata": {},
     "output_type": "execute_result"
    }
   ],
   "source": [
    "df.head()"
   ]
  },
  {
   "cell_type": "code",
   "execution_count": 8,
   "id": "dcca3e91-da4b-4b7d-a138-7fb220a2f989",
   "metadata": {},
   "outputs": [
    {
     "data": {
      "text/plain": [
       "result\n",
       "0    480324\n",
       "1    259798\n",
       "Name: count, dtype: int64"
      ]
     },
     "execution_count": 8,
     "metadata": {},
     "output_type": "execute_result"
    }
   ],
   "source": [
    "df['result'].value_counts()"
   ]
  },
  {
   "cell_type": "code",
   "execution_count": 9,
   "id": "b185bd96-2309-4521-9058-8483816efcc4",
   "metadata": {},
   "outputs": [
    {
     "data": {
      "text/plain": [
       "(740122, 15)"
      ]
     },
     "execution_count": 9,
     "metadata": {},
     "output_type": "execute_result"
    }
   ],
   "source": [
    "df.shape"
   ]
  },
  {
   "cell_type": "code",
   "execution_count": 10,
   "id": "c7b63121-7a97-4f5d-91e3-758fa1301d8d",
   "metadata": {},
   "outputs": [
    {
     "data": {
      "text/plain": [
       "Index(['result', 'url_length', 'url_has_http//', 'url_has_https//',\n",
       "       'url_contains_num', 'url_num_dots', 'url_num_slashes', 'number_of_dash',\n",
       "       'has_at_symbol', 'has_tilde_symbol', 'number_of_underscore',\n",
       "       'number_of_numpercent', 'number_of_ampersand', 'number_of_hash',\n",
       "       'url_contains_ip'],\n",
       "      dtype='object')"
      ]
     },
     "execution_count": 10,
     "metadata": {},
     "output_type": "execute_result"
    }
   ],
   "source": [
    "df.columns"
   ]
  },
  {
   "cell_type": "code",
   "execution_count": 11,
   "id": "50cb745e-7f8e-40d0-9fe9-039e29961be9",
   "metadata": {},
   "outputs": [
    {
     "name": "stdout",
     "output_type": "stream",
     "text": [
      "<class 'pandas.core.frame.DataFrame'>\n",
      "RangeIndex: 740122 entries, 0 to 740121\n",
      "Data columns (total 15 columns):\n",
      " #   Column                Non-Null Count   Dtype\n",
      "---  ------                --------------   -----\n",
      " 0   result                740122 non-null  int64\n",
      " 1   url_length            740122 non-null  int64\n",
      " 2   url_has_http//        740122 non-null  int64\n",
      " 3   url_has_https//       740122 non-null  int64\n",
      " 4   url_contains_num      740122 non-null  int64\n",
      " 5   url_num_dots          740122 non-null  int64\n",
      " 6   url_num_slashes       740122 non-null  int64\n",
      " 7   number_of_dash        740122 non-null  int64\n",
      " 8   has_at_symbol         740122 non-null  int64\n",
      " 9   has_tilde_symbol      740122 non-null  int64\n",
      " 10  number_of_underscore  740122 non-null  int64\n",
      " 11  number_of_numpercent  740122 non-null  int64\n",
      " 12  number_of_ampersand   740122 non-null  int64\n",
      " 13  number_of_hash        740122 non-null  int64\n",
      " 14  url_contains_ip       740122 non-null  int64\n",
      "dtypes: int64(15)\n",
      "memory usage: 84.7 MB\n"
     ]
    }
   ],
   "source": [
    "df.info()"
   ]
  },
  {
   "cell_type": "code",
   "execution_count": 12,
   "id": "37d49339-6df5-418a-a49a-6ab3bc57e972",
   "metadata": {},
   "outputs": [
    {
     "data": {
      "text/html": [
       "<div>\n",
       "<style scoped>\n",
       "    .dataframe tbody tr th:only-of-type {\n",
       "        vertical-align: middle;\n",
       "    }\n",
       "\n",
       "    .dataframe tbody tr th {\n",
       "        vertical-align: top;\n",
       "    }\n",
       "\n",
       "    .dataframe thead th {\n",
       "        text-align: right;\n",
       "    }\n",
       "</style>\n",
       "<table border=\"1\" class=\"dataframe\">\n",
       "  <thead>\n",
       "    <tr style=\"text-align: right;\">\n",
       "      <th></th>\n",
       "      <th>result</th>\n",
       "      <th>url_length</th>\n",
       "      <th>url_has_http//</th>\n",
       "      <th>url_has_https//</th>\n",
       "      <th>url_contains_num</th>\n",
       "      <th>url_num_dots</th>\n",
       "      <th>url_num_slashes</th>\n",
       "      <th>number_of_dash</th>\n",
       "      <th>has_at_symbol</th>\n",
       "      <th>has_tilde_symbol</th>\n",
       "      <th>number_of_underscore</th>\n",
       "      <th>number_of_numpercent</th>\n",
       "      <th>number_of_ampersand</th>\n",
       "      <th>number_of_hash</th>\n",
       "      <th>url_contains_ip</th>\n",
       "    </tr>\n",
       "  </thead>\n",
       "  <tbody>\n",
       "    <tr>\n",
       "      <th>count</th>\n",
       "      <td>740122.000000</td>\n",
       "      <td>740122.000000</td>\n",
       "      <td>740122.000000</td>\n",
       "      <td>740122.000000</td>\n",
       "      <td>740122.000000</td>\n",
       "      <td>740122.000000</td>\n",
       "      <td>740122.000000</td>\n",
       "      <td>740122.000000</td>\n",
       "      <td>740122.000000</td>\n",
       "      <td>740122.000000</td>\n",
       "      <td>740122.000000</td>\n",
       "      <td>740122.000000</td>\n",
       "      <td>740122.000000</td>\n",
       "      <td>740122.000000</td>\n",
       "      <td>740122.000000</td>\n",
       "    </tr>\n",
       "    <tr>\n",
       "      <th>mean</th>\n",
       "      <td>0.351021</td>\n",
       "      <td>53.036285</td>\n",
       "      <td>0.209429</td>\n",
       "      <td>0.791841</td>\n",
       "      <td>0.432390</td>\n",
       "      <td>2.480873</td>\n",
       "      <td>3.751690</td>\n",
       "      <td>0.938478</td>\n",
       "      <td>0.007062</td>\n",
       "      <td>0.005217</td>\n",
       "      <td>0.279330</td>\n",
       "      <td>0.069514</td>\n",
       "      <td>0.106288</td>\n",
       "      <td>0.003125</td>\n",
       "      <td>0.007270</td>\n",
       "    </tr>\n",
       "    <tr>\n",
       "      <th>std</th>\n",
       "      <td>0.477290</td>\n",
       "      <td>61.024163</td>\n",
       "      <td>0.406901</td>\n",
       "      <td>0.405991</td>\n",
       "      <td>0.495408</td>\n",
       "      <td>1.105274</td>\n",
       "      <td>1.706932</td>\n",
       "      <td>2.262154</td>\n",
       "      <td>0.083741</td>\n",
       "      <td>0.072038</td>\n",
       "      <td>1.135541</td>\n",
       "      <td>1.080245</td>\n",
       "      <td>0.757299</td>\n",
       "      <td>0.195804</td>\n",
       "      <td>0.084956</td>\n",
       "    </tr>\n",
       "    <tr>\n",
       "      <th>min</th>\n",
       "      <td>0.000000</td>\n",
       "      <td>8.000000</td>\n",
       "      <td>0.000000</td>\n",
       "      <td>0.000000</td>\n",
       "      <td>0.000000</td>\n",
       "      <td>0.000000</td>\n",
       "      <td>2.000000</td>\n",
       "      <td>0.000000</td>\n",
       "      <td>0.000000</td>\n",
       "      <td>0.000000</td>\n",
       "      <td>0.000000</td>\n",
       "      <td>0.000000</td>\n",
       "      <td>0.000000</td>\n",
       "      <td>0.000000</td>\n",
       "      <td>0.000000</td>\n",
       "    </tr>\n",
       "    <tr>\n",
       "      <th>25%</th>\n",
       "      <td>0.000000</td>\n",
       "      <td>30.000000</td>\n",
       "      <td>0.000000</td>\n",
       "      <td>1.000000</td>\n",
       "      <td>0.000000</td>\n",
       "      <td>2.000000</td>\n",
       "      <td>2.000000</td>\n",
       "      <td>0.000000</td>\n",
       "      <td>0.000000</td>\n",
       "      <td>0.000000</td>\n",
       "      <td>0.000000</td>\n",
       "      <td>0.000000</td>\n",
       "      <td>0.000000</td>\n",
       "      <td>0.000000</td>\n",
       "      <td>0.000000</td>\n",
       "    </tr>\n",
       "    <tr>\n",
       "      <th>50%</th>\n",
       "      <td>0.000000</td>\n",
       "      <td>43.000000</td>\n",
       "      <td>0.000000</td>\n",
       "      <td>1.000000</td>\n",
       "      <td>0.000000</td>\n",
       "      <td>2.000000</td>\n",
       "      <td>3.000000</td>\n",
       "      <td>0.000000</td>\n",
       "      <td>0.000000</td>\n",
       "      <td>0.000000</td>\n",
       "      <td>0.000000</td>\n",
       "      <td>0.000000</td>\n",
       "      <td>0.000000</td>\n",
       "      <td>0.000000</td>\n",
       "      <td>0.000000</td>\n",
       "    </tr>\n",
       "    <tr>\n",
       "      <th>75%</th>\n",
       "      <td>1.000000</td>\n",
       "      <td>63.000000</td>\n",
       "      <td>0.000000</td>\n",
       "      <td>1.000000</td>\n",
       "      <td>1.000000</td>\n",
       "      <td>3.000000</td>\n",
       "      <td>5.000000</td>\n",
       "      <td>1.000000</td>\n",
       "      <td>0.000000</td>\n",
       "      <td>0.000000</td>\n",
       "      <td>0.000000</td>\n",
       "      <td>0.000000</td>\n",
       "      <td>0.000000</td>\n",
       "      <td>0.000000</td>\n",
       "      <td>0.000000</td>\n",
       "    </tr>\n",
       "    <tr>\n",
       "      <th>max</th>\n",
       "      <td>1.000000</td>\n",
       "      <td>25523.000000</td>\n",
       "      <td>1.000000</td>\n",
       "      <td>1.000000</td>\n",
       "      <td>1.000000</td>\n",
       "      <td>99.000000</td>\n",
       "      <td>119.000000</td>\n",
       "      <td>286.000000</td>\n",
       "      <td>1.000000</td>\n",
       "      <td>1.000000</td>\n",
       "      <td>200.000000</td>\n",
       "      <td>149.000000</td>\n",
       "      <td>50.000000</td>\n",
       "      <td>152.000000</td>\n",
       "      <td>1.000000</td>\n",
       "    </tr>\n",
       "  </tbody>\n",
       "</table>\n",
       "</div>"
      ],
      "text/plain": [
       "              result     url_length  url_has_http//  url_has_https//  \\\n",
       "count  740122.000000  740122.000000   740122.000000    740122.000000   \n",
       "mean        0.351021      53.036285        0.209429         0.791841   \n",
       "std         0.477290      61.024163        0.406901         0.405991   \n",
       "min         0.000000       8.000000        0.000000         0.000000   \n",
       "25%         0.000000      30.000000        0.000000         1.000000   \n",
       "50%         0.000000      43.000000        0.000000         1.000000   \n",
       "75%         1.000000      63.000000        0.000000         1.000000   \n",
       "max         1.000000   25523.000000        1.000000         1.000000   \n",
       "\n",
       "       url_contains_num   url_num_dots  url_num_slashes  number_of_dash  \\\n",
       "count     740122.000000  740122.000000    740122.000000   740122.000000   \n",
       "mean           0.432390       2.480873         3.751690        0.938478   \n",
       "std            0.495408       1.105274         1.706932        2.262154   \n",
       "min            0.000000       0.000000         2.000000        0.000000   \n",
       "25%            0.000000       2.000000         2.000000        0.000000   \n",
       "50%            0.000000       2.000000         3.000000        0.000000   \n",
       "75%            1.000000       3.000000         5.000000        1.000000   \n",
       "max            1.000000      99.000000       119.000000      286.000000   \n",
       "\n",
       "       has_at_symbol  has_tilde_symbol  number_of_underscore  \\\n",
       "count  740122.000000     740122.000000         740122.000000   \n",
       "mean        0.007062          0.005217              0.279330   \n",
       "std         0.083741          0.072038              1.135541   \n",
       "min         0.000000          0.000000              0.000000   \n",
       "25%         0.000000          0.000000              0.000000   \n",
       "50%         0.000000          0.000000              0.000000   \n",
       "75%         0.000000          0.000000              0.000000   \n",
       "max         1.000000          1.000000            200.000000   \n",
       "\n",
       "       number_of_numpercent  number_of_ampersand  number_of_hash  \\\n",
       "count         740122.000000        740122.000000   740122.000000   \n",
       "mean               0.069514             0.106288        0.003125   \n",
       "std                1.080245             0.757299        0.195804   \n",
       "min                0.000000             0.000000        0.000000   \n",
       "25%                0.000000             0.000000        0.000000   \n",
       "50%                0.000000             0.000000        0.000000   \n",
       "75%                0.000000             0.000000        0.000000   \n",
       "max              149.000000            50.000000      152.000000   \n",
       "\n",
       "       url_contains_ip  \n",
       "count    740122.000000  \n",
       "mean          0.007270  \n",
       "std           0.084956  \n",
       "min           0.000000  \n",
       "25%           0.000000  \n",
       "50%           0.000000  \n",
       "75%           0.000000  \n",
       "max           1.000000  "
      ]
     },
     "execution_count": 12,
     "metadata": {},
     "output_type": "execute_result"
    }
   ],
   "source": [
    "df.describe()"
   ]
  },
  {
   "cell_type": "code",
   "execution_count": 13,
   "id": "8bc201be-b269-448a-8ef5-1b01224a07ad",
   "metadata": {},
   "outputs": [
    {
     "data": {
      "text/plain": [
       "result                    2\n",
       "url_length              774\n",
       "url_has_http//            2\n",
       "url_has_https//           2\n",
       "url_contains_num          2\n",
       "url_num_dots             40\n",
       "url_num_slashes          43\n",
       "number_of_dash           54\n",
       "has_at_symbol             2\n",
       "has_tilde_symbol          2\n",
       "number_of_underscore     50\n",
       "number_of_numpercent     79\n",
       "number_of_ampersand      36\n",
       "number_of_hash            9\n",
       "url_contains_ip           2\n",
       "dtype: int64"
      ]
     },
     "execution_count": 13,
     "metadata": {},
     "output_type": "execute_result"
    }
   ],
   "source": [
    "df.nunique()"
   ]
  },
  {
   "cell_type": "code",
   "execution_count": 14,
   "id": "bd60c91c-f10f-4821-bd0c-6a036b22b268",
   "metadata": {},
   "outputs": [
    {
     "data": {
      "text/plain": [
       "result                  0\n",
       "url_length              0\n",
       "url_has_http//          0\n",
       "url_has_https//         0\n",
       "url_contains_num        0\n",
       "url_num_dots            0\n",
       "url_num_slashes         0\n",
       "number_of_dash          0\n",
       "has_at_symbol           0\n",
       "has_tilde_symbol        0\n",
       "number_of_underscore    0\n",
       "number_of_numpercent    0\n",
       "number_of_ampersand     0\n",
       "number_of_hash          0\n",
       "url_contains_ip         0\n",
       "dtype: int64"
      ]
     },
     "execution_count": 14,
     "metadata": {},
     "output_type": "execute_result"
    }
   ],
   "source": [
    "df.isnull().sum()"
   ]
  },
  {
   "cell_type": "code",
   "execution_count": 15,
   "id": "fd08adc4-ba9b-4cf9-999e-df2962e0ef26",
   "metadata": {},
   "outputs": [
    {
     "data": {
      "text/html": [
       "<div>\n",
       "<style scoped>\n",
       "    .dataframe tbody tr th:only-of-type {\n",
       "        vertical-align: middle;\n",
       "    }\n",
       "\n",
       "    .dataframe tbody tr th {\n",
       "        vertical-align: top;\n",
       "    }\n",
       "\n",
       "    .dataframe thead th {\n",
       "        text-align: right;\n",
       "    }\n",
       "</style>\n",
       "<table border=\"1\" class=\"dataframe\">\n",
       "  <thead>\n",
       "    <tr style=\"text-align: right;\">\n",
       "      <th></th>\n",
       "      <th>count</th>\n",
       "      <th>mean</th>\n",
       "      <th>std</th>\n",
       "      <th>min</th>\n",
       "      <th>25%</th>\n",
       "      <th>50%</th>\n",
       "      <th>75%</th>\n",
       "      <th>max</th>\n",
       "    </tr>\n",
       "  </thead>\n",
       "  <tbody>\n",
       "    <tr>\n",
       "      <th>result</th>\n",
       "      <td>740122.0</td>\n",
       "      <td>0.351021</td>\n",
       "      <td>0.477290</td>\n",
       "      <td>0.0</td>\n",
       "      <td>0.0</td>\n",
       "      <td>0.0</td>\n",
       "      <td>1.0</td>\n",
       "      <td>1.0</td>\n",
       "    </tr>\n",
       "    <tr>\n",
       "      <th>url_length</th>\n",
       "      <td>740122.0</td>\n",
       "      <td>53.036285</td>\n",
       "      <td>61.024163</td>\n",
       "      <td>8.0</td>\n",
       "      <td>30.0</td>\n",
       "      <td>43.0</td>\n",
       "      <td>63.0</td>\n",
       "      <td>25523.0</td>\n",
       "    </tr>\n",
       "    <tr>\n",
       "      <th>url_has_http//</th>\n",
       "      <td>740122.0</td>\n",
       "      <td>0.209429</td>\n",
       "      <td>0.406901</td>\n",
       "      <td>0.0</td>\n",
       "      <td>0.0</td>\n",
       "      <td>0.0</td>\n",
       "      <td>0.0</td>\n",
       "      <td>1.0</td>\n",
       "    </tr>\n",
       "    <tr>\n",
       "      <th>url_has_https//</th>\n",
       "      <td>740122.0</td>\n",
       "      <td>0.791841</td>\n",
       "      <td>0.405991</td>\n",
       "      <td>0.0</td>\n",
       "      <td>1.0</td>\n",
       "      <td>1.0</td>\n",
       "      <td>1.0</td>\n",
       "      <td>1.0</td>\n",
       "    </tr>\n",
       "    <tr>\n",
       "      <th>url_contains_num</th>\n",
       "      <td>740122.0</td>\n",
       "      <td>0.432390</td>\n",
       "      <td>0.495408</td>\n",
       "      <td>0.0</td>\n",
       "      <td>0.0</td>\n",
       "      <td>0.0</td>\n",
       "      <td>1.0</td>\n",
       "      <td>1.0</td>\n",
       "    </tr>\n",
       "    <tr>\n",
       "      <th>url_num_dots</th>\n",
       "      <td>740122.0</td>\n",
       "      <td>2.480873</td>\n",
       "      <td>1.105274</td>\n",
       "      <td>0.0</td>\n",
       "      <td>2.0</td>\n",
       "      <td>2.0</td>\n",
       "      <td>3.0</td>\n",
       "      <td>99.0</td>\n",
       "    </tr>\n",
       "    <tr>\n",
       "      <th>url_num_slashes</th>\n",
       "      <td>740122.0</td>\n",
       "      <td>3.751690</td>\n",
       "      <td>1.706932</td>\n",
       "      <td>2.0</td>\n",
       "      <td>2.0</td>\n",
       "      <td>3.0</td>\n",
       "      <td>5.0</td>\n",
       "      <td>119.0</td>\n",
       "    </tr>\n",
       "    <tr>\n",
       "      <th>number_of_dash</th>\n",
       "      <td>740122.0</td>\n",
       "      <td>0.938478</td>\n",
       "      <td>2.262154</td>\n",
       "      <td>0.0</td>\n",
       "      <td>0.0</td>\n",
       "      <td>0.0</td>\n",
       "      <td>1.0</td>\n",
       "      <td>286.0</td>\n",
       "    </tr>\n",
       "    <tr>\n",
       "      <th>has_at_symbol</th>\n",
       "      <td>740122.0</td>\n",
       "      <td>0.007062</td>\n",
       "      <td>0.083741</td>\n",
       "      <td>0.0</td>\n",
       "      <td>0.0</td>\n",
       "      <td>0.0</td>\n",
       "      <td>0.0</td>\n",
       "      <td>1.0</td>\n",
       "    </tr>\n",
       "    <tr>\n",
       "      <th>has_tilde_symbol</th>\n",
       "      <td>740122.0</td>\n",
       "      <td>0.005217</td>\n",
       "      <td>0.072038</td>\n",
       "      <td>0.0</td>\n",
       "      <td>0.0</td>\n",
       "      <td>0.0</td>\n",
       "      <td>0.0</td>\n",
       "      <td>1.0</td>\n",
       "    </tr>\n",
       "    <tr>\n",
       "      <th>number_of_underscore</th>\n",
       "      <td>740122.0</td>\n",
       "      <td>0.279330</td>\n",
       "      <td>1.135541</td>\n",
       "      <td>0.0</td>\n",
       "      <td>0.0</td>\n",
       "      <td>0.0</td>\n",
       "      <td>0.0</td>\n",
       "      <td>200.0</td>\n",
       "    </tr>\n",
       "    <tr>\n",
       "      <th>number_of_numpercent</th>\n",
       "      <td>740122.0</td>\n",
       "      <td>0.069514</td>\n",
       "      <td>1.080245</td>\n",
       "      <td>0.0</td>\n",
       "      <td>0.0</td>\n",
       "      <td>0.0</td>\n",
       "      <td>0.0</td>\n",
       "      <td>149.0</td>\n",
       "    </tr>\n",
       "    <tr>\n",
       "      <th>number_of_ampersand</th>\n",
       "      <td>740122.0</td>\n",
       "      <td>0.106288</td>\n",
       "      <td>0.757299</td>\n",
       "      <td>0.0</td>\n",
       "      <td>0.0</td>\n",
       "      <td>0.0</td>\n",
       "      <td>0.0</td>\n",
       "      <td>50.0</td>\n",
       "    </tr>\n",
       "    <tr>\n",
       "      <th>number_of_hash</th>\n",
       "      <td>740122.0</td>\n",
       "      <td>0.003125</td>\n",
       "      <td>0.195804</td>\n",
       "      <td>0.0</td>\n",
       "      <td>0.0</td>\n",
       "      <td>0.0</td>\n",
       "      <td>0.0</td>\n",
       "      <td>152.0</td>\n",
       "    </tr>\n",
       "    <tr>\n",
       "      <th>url_contains_ip</th>\n",
       "      <td>740122.0</td>\n",
       "      <td>0.007270</td>\n",
       "      <td>0.084956</td>\n",
       "      <td>0.0</td>\n",
       "      <td>0.0</td>\n",
       "      <td>0.0</td>\n",
       "      <td>0.0</td>\n",
       "      <td>1.0</td>\n",
       "    </tr>\n",
       "  </tbody>\n",
       "</table>\n",
       "</div>"
      ],
      "text/plain": [
       "                         count       mean        std  min   25%   50%   75%  \\\n",
       "result                740122.0   0.351021   0.477290  0.0   0.0   0.0   1.0   \n",
       "url_length            740122.0  53.036285  61.024163  8.0  30.0  43.0  63.0   \n",
       "url_has_http//        740122.0   0.209429   0.406901  0.0   0.0   0.0   0.0   \n",
       "url_has_https//       740122.0   0.791841   0.405991  0.0   1.0   1.0   1.0   \n",
       "url_contains_num      740122.0   0.432390   0.495408  0.0   0.0   0.0   1.0   \n",
       "url_num_dots          740122.0   2.480873   1.105274  0.0   2.0   2.0   3.0   \n",
       "url_num_slashes       740122.0   3.751690   1.706932  2.0   2.0   3.0   5.0   \n",
       "number_of_dash        740122.0   0.938478   2.262154  0.0   0.0   0.0   1.0   \n",
       "has_at_symbol         740122.0   0.007062   0.083741  0.0   0.0   0.0   0.0   \n",
       "has_tilde_symbol      740122.0   0.005217   0.072038  0.0   0.0   0.0   0.0   \n",
       "number_of_underscore  740122.0   0.279330   1.135541  0.0   0.0   0.0   0.0   \n",
       "number_of_numpercent  740122.0   0.069514   1.080245  0.0   0.0   0.0   0.0   \n",
       "number_of_ampersand   740122.0   0.106288   0.757299  0.0   0.0   0.0   0.0   \n",
       "number_of_hash        740122.0   0.003125   0.195804  0.0   0.0   0.0   0.0   \n",
       "url_contains_ip       740122.0   0.007270   0.084956  0.0   0.0   0.0   0.0   \n",
       "\n",
       "                          max  \n",
       "result                    1.0  \n",
       "url_length            25523.0  \n",
       "url_has_http//            1.0  \n",
       "url_has_https//           1.0  \n",
       "url_contains_num          1.0  \n",
       "url_num_dots             99.0  \n",
       "url_num_slashes         119.0  \n",
       "number_of_dash          286.0  \n",
       "has_at_symbol             1.0  \n",
       "has_tilde_symbol          1.0  \n",
       "number_of_underscore    200.0  \n",
       "number_of_numpercent    149.0  \n",
       "number_of_ampersand      50.0  \n",
       "number_of_hash          152.0  \n",
       "url_contains_ip           1.0  "
      ]
     },
     "execution_count": 15,
     "metadata": {},
     "output_type": "execute_result"
    }
   ],
   "source": [
    "df.describe().T"
   ]
  },
  {
   "cell_type": "code",
   "execution_count": 16,
   "id": "d9fe2407-8505-4f41-a493-c9c19bd51e42",
   "metadata": {},
   "outputs": [
    {
     "data": {
      "text/plain": [
       "649432"
      ]
     },
     "execution_count": 16,
     "metadata": {},
     "output_type": "execute_result"
    }
   ],
   "source": [
    "df.duplicated().sum()"
   ]
  },
  {
   "cell_type": "code",
   "execution_count": 17,
   "id": "bfcdfdcc-8ffb-4c5f-9cfe-fd25ad1d8c77",
   "metadata": {},
   "outputs": [],
   "source": [
    "df.drop_duplicates(inplace=True)"
   ]
  },
  {
   "cell_type": "code",
   "execution_count": 18,
   "id": "4bb2d21f-4a62-4888-8c4d-a1e76ee2ceb3",
   "metadata": {},
   "outputs": [
    {
     "data": {
      "text/plain": [
       "0"
      ]
     },
     "execution_count": 18,
     "metadata": {},
     "output_type": "execute_result"
    }
   ],
   "source": [
    "df.duplicated().sum()"
   ]
  },
  {
   "cell_type": "code",
   "execution_count": 19,
   "id": "6e4c0e6d-2166-4172-a492-a48c276f2a39",
   "metadata": {},
   "outputs": [
    {
     "data": {
      "text/plain": [
       "(90690, 15)"
      ]
     },
     "execution_count": 19,
     "metadata": {},
     "output_type": "execute_result"
    }
   ],
   "source": [
    "df.shape"
   ]
  },
  {
   "cell_type": "code",
   "execution_count": 20,
   "id": "bd71c860-1186-4d95-80a1-1634cdf68ead",
   "metadata": {},
   "outputs": [
    {
     "name": "stdout",
     "output_type": "stream",
     "text": [
      "The Value counts of result :\n",
      "result\n",
      "0    47058\n",
      "1    43632 \n",
      "\n",
      "The Value counts of url_has_http// :\n",
      "url_has_http//\n",
      "0    62011\n",
      "1    28679 \n",
      "\n",
      "The Value counts of url_has_https// :\n",
      "url_has_https//\n",
      "1    62588\n",
      "0    28102 \n",
      "\n"
     ]
    }
   ],
   "source": [
    "clmns=['result','url_has_http//','url_has_https//']\n",
    "for i in clmns:\n",
    "    print(f\"The Value counts of {i} :\")\n",
    "    print(df[i].value_counts().to_string(),'\\n')"
   ]
  },
  {
   "cell_type": "code",
   "execution_count": 21,
   "id": "ae1ba6b0-6ed0-499e-b473-eb0eae60186f",
   "metadata": {},
   "outputs": [
    {
     "data": {
      "image/png": "[encoded data removed]",
      "text/plain": [
       "<Figure size 640x480 with 1 Axes>"
      ]
     },
     "metadata": {},
     "output_type": "display_data"
    }
   ],
   "source": [
    "\n",
    "df['result'].value_counts().plot(kind='pie',autopct='%1.2f%%')\n",
    "plt.title(\"Phishing Count\")\n",
    "plt.show()"
   ]
  },
  {
   "cell_type": "markdown",
   "id": "0c75e534-cb45-4686-9e4c-43216955e8b5",
   "metadata": {},
   "source": [
    "0 = Not phis(legitmate)\n",
    "1 = phising"
   ]
  },
  {
   "cell_type": "code",
   "execution_count": 29,
   "id": "b192248b-ee5d-4ce4-8df2-84902f189c24",
   "metadata": {},
   "outputs": [
    {
     "data": {
      "text/plain": [
       "<Axes: xlabel='result'>"
      ]
     },
     "execution_count": 29,
     "metadata": {},
     "output_type": "execute_result"
    },
    {
     "data": {
      "image/png": "[encoded data removed]",
      "text/plain": [
       "<Figure size 640x480 with 1 Axes>"
      ]
     },
     "metadata": {},
     "output_type": "display_data"
    }
   ],
   "source": [
    "sns.distplot( a=df[\"result\"], hist=True, kde=False, rug=False )"
   ]
  },
  {
   "cell_type": "code",
   "execution_count": 30,
   "id": "56e934f6-f90b-4a1f-b1ce-afd81fe9d469",
   "metadata": {},
   "outputs": [
    {
     "data": {
      "text/plain": [
       "<Axes: xlabel='result', ylabel='Density'>"
      ]
     },
     "execution_count": 30,
     "metadata": {},
     "output_type": "execute_result"
    },
    {
     "data": {
      "image/png": "[encoded data removed]",
      "text/plain": [
       "<Figure size 640x480 with 1 Axes>"
      ]
     },
     "metadata": {},
     "output_type": "display_data"
    }
   ],
   "source": [
    "sns.kdeplot(df['result'])\n"
   ]
  },
  {
   "cell_type": "code",
   "execution_count": 36,
   "id": "2ea24a9c-48b3-4ec8-8543-631343e91473",
   "metadata": {},
   "outputs": [
    {
     "data": {
      "image/png": "[encoded data removed]",
      "text/plain": [
       "<Figure size 1500x1500 with 2 Axes>"
      ]
     },
     "metadata": {},
     "output_type": "display_data"
    }
   ],
   "source": [
    "\n",
    "plt.figure(figsize=(15,15))\n",
    "sns.heatmap(df.corr(), annot=True)\n",
    "plt.show()"
   ]
  },
  {
   "cell_type": "code",
   "execution_count": 37,
   "id": "1cb97760-a57f-430a-9911-c45a1448c6f4",
   "metadata": {},
   "outputs": [
    {
     "data": {
      "text/html": [
       "<div>\n",
       "<style scoped>\n",
       "    .dataframe tbody tr th:only-of-type {\n",
       "        vertical-align: middle;\n",
       "    }\n",
       "\n",
       "    .dataframe tbody tr th {\n",
       "        vertical-align: top;\n",
       "    }\n",
       "\n",
       "    .dataframe thead th {\n",
       "        text-align: right;\n",
       "    }\n",
       "</style>\n",
       "<table border=\"1\" class=\"dataframe\">\n",
       "  <thead>\n",
       "    <tr style=\"text-align: right;\">\n",
       "      <th></th>\n",
       "      <th>result</th>\n",
       "      <th>url_length</th>\n",
       "      <th>url_has_http//</th>\n",
       "      <th>url_has_https//</th>\n",
       "      <th>url_contains_num</th>\n",
       "      <th>url_num_dots</th>\n",
       "      <th>url_num_slashes</th>\n",
       "      <th>number_of_dash</th>\n",
       "      <th>has_at_symbol</th>\n",
       "      <th>has_tilde_symbol</th>\n",
       "      <th>number_of_underscore</th>\n",
       "      <th>number_of_numpercent</th>\n",
       "      <th>number_of_ampersand</th>\n",
       "      <th>number_of_hash</th>\n",
       "      <th>url_contains_ip</th>\n",
       "    </tr>\n",
       "  </thead>\n",
       "  <tbody>\n",
       "    <tr>\n",
       "      <th>result</th>\n",
       "      <td>1.000000</td>\n",
       "      <td>0.064364</td>\n",
       "      <td>0.706208</td>\n",
       "      <td>-0.694453</td>\n",
       "      <td>-0.006228</td>\n",
       "      <td>0.100274</td>\n",
       "      <td>0.106274</td>\n",
       "      <td>-0.225094</td>\n",
       "      <td>0.207643</td>\n",
       "      <td>-0.020911</td>\n",
       "      <td>-0.134809</td>\n",
       "      <td>0.016651</td>\n",
       "      <td>0.125187</td>\n",
       "      <td>0.037708</td>\n",
       "      <td>0.125217</td>\n",
       "    </tr>\n",
       "    <tr>\n",
       "      <th>url_length</th>\n",
       "      <td>0.064364</td>\n",
       "      <td>1.000000</td>\n",
       "      <td>0.042321</td>\n",
       "      <td>-0.028331</td>\n",
       "      <td>0.119537</td>\n",
       "      <td>0.268261</td>\n",
       "      <td>0.175573</td>\n",
       "      <td>0.224724</td>\n",
       "      <td>0.031884</td>\n",
       "      <td>-0.017645</td>\n",
       "      <td>0.176587</td>\n",
       "      <td>0.296155</td>\n",
       "      <td>0.286757</td>\n",
       "      <td>0.022426</td>\n",
       "      <td>0.054155</td>\n",
       "    </tr>\n",
       "    <tr>\n",
       "      <th>url_has_http//</th>\n",
       "      <td>0.706208</td>\n",
       "      <td>0.042321</td>\n",
       "      <td>1.000000</td>\n",
       "      <td>-0.983470</td>\n",
       "      <td>-0.031712</td>\n",
       "      <td>0.158921</td>\n",
       "      <td>0.169581</td>\n",
       "      <td>-0.191123</td>\n",
       "      <td>0.121468</td>\n",
       "      <td>0.009277</td>\n",
       "      <td>-0.091826</td>\n",
       "      <td>0.019724</td>\n",
       "      <td>0.137262</td>\n",
       "      <td>-0.003365</td>\n",
       "      <td>0.164260</td>\n",
       "    </tr>\n",
       "    <tr>\n",
       "      <th>url_has_https//</th>\n",
       "      <td>-0.694453</td>\n",
       "      <td>-0.028331</td>\n",
       "      <td>-0.983470</td>\n",
       "      <td>1.000000</td>\n",
       "      <td>0.036568</td>\n",
       "      <td>-0.127231</td>\n",
       "      <td>-0.145530</td>\n",
       "      <td>0.189546</td>\n",
       "      <td>-0.124412</td>\n",
       "      <td>-0.011054</td>\n",
       "      <td>0.093691</td>\n",
       "      <td>-0.020242</td>\n",
       "      <td>-0.106388</td>\n",
       "      <td>0.003312</td>\n",
       "      <td>-0.111083</td>\n",
       "    </tr>\n",
       "    <tr>\n",
       "      <th>url_contains_num</th>\n",
       "      <td>-0.006228</td>\n",
       "      <td>0.119537</td>\n",
       "      <td>-0.031712</td>\n",
       "      <td>0.036568</td>\n",
       "      <td>1.000000</td>\n",
       "      <td>0.087773</td>\n",
       "      <td>0.057023</td>\n",
       "      <td>0.110307</td>\n",
       "      <td>-0.012062</td>\n",
       "      <td>-0.038141</td>\n",
       "      <td>0.034165</td>\n",
       "      <td>0.095325</td>\n",
       "      <td>0.158346</td>\n",
       "      <td>0.006057</td>\n",
       "      <td>0.078838</td>\n",
       "    </tr>\n",
       "    <tr>\n",
       "      <th>url_num_dots</th>\n",
       "      <td>0.100274</td>\n",
       "      <td>0.268261</td>\n",
       "      <td>0.158921</td>\n",
       "      <td>-0.127231</td>\n",
       "      <td>0.087773</td>\n",
       "      <td>1.000000</td>\n",
       "      <td>0.121849</td>\n",
       "      <td>0.082661</td>\n",
       "      <td>0.133951</td>\n",
       "      <td>0.054991</td>\n",
       "      <td>0.102119</td>\n",
       "      <td>0.275189</td>\n",
       "      <td>0.443535</td>\n",
       "      <td>0.027481</td>\n",
       "      <td>0.216401</td>\n",
       "    </tr>\n",
       "    <tr>\n",
       "      <th>url_num_slashes</th>\n",
       "      <td>0.106274</td>\n",
       "      <td>0.175573</td>\n",
       "      <td>0.169581</td>\n",
       "      <td>-0.145530</td>\n",
       "      <td>0.057023</td>\n",
       "      <td>0.121849</td>\n",
       "      <td>1.000000</td>\n",
       "      <td>0.073122</td>\n",
       "      <td>0.020796</td>\n",
       "      <td>0.019945</td>\n",
       "      <td>0.059978</td>\n",
       "      <td>0.011751</td>\n",
       "      <td>0.008108</td>\n",
       "      <td>0.007726</td>\n",
       "      <td>0.051114</td>\n",
       "    </tr>\n",
       "    <tr>\n",
       "      <th>number_of_dash</th>\n",
       "      <td>-0.225094</td>\n",
       "      <td>0.224724</td>\n",
       "      <td>-0.191123</td>\n",
       "      <td>0.189546</td>\n",
       "      <td>0.110307</td>\n",
       "      <td>0.082661</td>\n",
       "      <td>0.073122</td>\n",
       "      <td>1.000000</td>\n",
       "      <td>-0.072777</td>\n",
       "      <td>-0.063341</td>\n",
       "      <td>0.029477</td>\n",
       "      <td>0.163386</td>\n",
       "      <td>-0.033403</td>\n",
       "      <td>-0.008469</td>\n",
       "      <td>-0.046788</td>\n",
       "    </tr>\n",
       "    <tr>\n",
       "      <th>has_at_symbol</th>\n",
       "      <td>0.207643</td>\n",
       "      <td>0.031884</td>\n",
       "      <td>0.121468</td>\n",
       "      <td>-0.124412</td>\n",
       "      <td>-0.012062</td>\n",
       "      <td>0.133951</td>\n",
       "      <td>0.020796</td>\n",
       "      <td>-0.072777</td>\n",
       "      <td>1.000000</td>\n",
       "      <td>-0.021229</td>\n",
       "      <td>-0.050297</td>\n",
       "      <td>-0.009044</td>\n",
       "      <td>0.075306</td>\n",
       "      <td>0.066122</td>\n",
       "      <td>-0.018429</td>\n",
       "    </tr>\n",
       "    <tr>\n",
       "      <th>has_tilde_symbol</th>\n",
       "      <td>-0.020911</td>\n",
       "      <td>-0.017645</td>\n",
       "      <td>0.009277</td>\n",
       "      <td>-0.011054</td>\n",
       "      <td>-0.038141</td>\n",
       "      <td>0.054991</td>\n",
       "      <td>0.019945</td>\n",
       "      <td>-0.063341</td>\n",
       "      <td>-0.021229</td>\n",
       "      <td>1.000000</td>\n",
       "      <td>-0.034964</td>\n",
       "      <td>-0.013528</td>\n",
       "      <td>-0.029158</td>\n",
       "      <td>0.000289</td>\n",
       "      <td>0.105356</td>\n",
       "    </tr>\n",
       "    <tr>\n",
       "      <th>number_of_underscore</th>\n",
       "      <td>-0.134809</td>\n",
       "      <td>0.176587</td>\n",
       "      <td>-0.091826</td>\n",
       "      <td>0.093691</td>\n",
       "      <td>0.034165</td>\n",
       "      <td>0.102119</td>\n",
       "      <td>0.059978</td>\n",
       "      <td>0.029477</td>\n",
       "      <td>-0.050297</td>\n",
       "      <td>-0.034964</td>\n",
       "      <td>1.000000</td>\n",
       "      <td>0.185716</td>\n",
       "      <td>0.100611</td>\n",
       "      <td>-0.004339</td>\n",
       "      <td>-0.015324</td>\n",
       "    </tr>\n",
       "    <tr>\n",
       "      <th>number_of_numpercent</th>\n",
       "      <td>0.016651</td>\n",
       "      <td>0.296155</td>\n",
       "      <td>0.019724</td>\n",
       "      <td>-0.020242</td>\n",
       "      <td>0.095325</td>\n",
       "      <td>0.275189</td>\n",
       "      <td>0.011751</td>\n",
       "      <td>0.163386</td>\n",
       "      <td>-0.009044</td>\n",
       "      <td>-0.013528</td>\n",
       "      <td>0.185716</td>\n",
       "      <td>1.000000</td>\n",
       "      <td>0.225737</td>\n",
       "      <td>0.008277</td>\n",
       "      <td>0.045263</td>\n",
       "    </tr>\n",
       "    <tr>\n",
       "      <th>number_of_ampersand</th>\n",
       "      <td>0.125187</td>\n",
       "      <td>0.286757</td>\n",
       "      <td>0.137262</td>\n",
       "      <td>-0.106388</td>\n",
       "      <td>0.158346</td>\n",
       "      <td>0.443535</td>\n",
       "      <td>0.008108</td>\n",
       "      <td>-0.033403</td>\n",
       "      <td>0.075306</td>\n",
       "      <td>-0.029158</td>\n",
       "      <td>0.100611</td>\n",
       "      <td>0.225737</td>\n",
       "      <td>1.000000</td>\n",
       "      <td>0.023740</td>\n",
       "      <td>0.128115</td>\n",
       "    </tr>\n",
       "    <tr>\n",
       "      <th>number_of_hash</th>\n",
       "      <td>0.037708</td>\n",
       "      <td>0.022426</td>\n",
       "      <td>-0.003365</td>\n",
       "      <td>0.003312</td>\n",
       "      <td>0.006057</td>\n",
       "      <td>0.027481</td>\n",
       "      <td>0.007726</td>\n",
       "      <td>-0.008469</td>\n",
       "      <td>0.066122</td>\n",
       "      <td>0.000289</td>\n",
       "      <td>-0.004339</td>\n",
       "      <td>0.008277</td>\n",
       "      <td>0.023740</td>\n",
       "      <td>1.000000</td>\n",
       "      <td>-0.003025</td>\n",
       "    </tr>\n",
       "    <tr>\n",
       "      <th>url_contains_ip</th>\n",
       "      <td>0.125217</td>\n",
       "      <td>0.054155</td>\n",
       "      <td>0.164260</td>\n",
       "      <td>-0.111083</td>\n",
       "      <td>0.078838</td>\n",
       "      <td>0.216401</td>\n",
       "      <td>0.051114</td>\n",
       "      <td>-0.046788</td>\n",
       "      <td>-0.018429</td>\n",
       "      <td>0.105356</td>\n",
       "      <td>-0.015324</td>\n",
       "      <td>0.045263</td>\n",
       "      <td>0.128115</td>\n",
       "      <td>-0.003025</td>\n",
       "      <td>1.000000</td>\n",
       "    </tr>\n",
       "  </tbody>\n",
       "</table>\n",
       "</div>"
      ],
      "text/plain": [
       "                        result  url_length  url_has_http//  url_has_https//  \\\n",
       "result                1.000000    0.064364        0.706208        -0.694453   \n",
       "url_length            0.064364    1.000000        0.042321        -0.028331   \n",
       "url_has_http//        0.706208    0.042321        1.000000        -0.983470   \n",
       "url_has_https//      -0.694453   -0.028331       -0.983470         1.000000   \n",
       "url_contains_num     -0.006228    0.119537       -0.031712         0.036568   \n",
       "url_num_dots          0.100274    0.268261        0.158921        -0.127231   \n",
       "url_num_slashes       0.106274    0.175573        0.169581        -0.145530   \n",
       "number_of_dash       -0.225094    0.224724       -0.191123         0.189546   \n",
       "has_at_symbol         0.207643    0.031884        0.121468        -0.124412   \n",
       "has_tilde_symbol     -0.020911   -0.017645        0.009277        -0.011054   \n",
       "number_of_underscore -0.134809    0.176587       -0.091826         0.093691   \n",
       "number_of_numpercent  0.016651    0.296155        0.019724        -0.020242   \n",
       "number_of_ampersand   0.125187    0.286757        0.137262        -0.106388   \n",
       "number_of_hash        0.037708    0.022426       -0.003365         0.003312   \n",
       "url_contains_ip       0.125217    0.054155        0.164260        -0.111083   \n",
       "\n",
       "                      url_contains_num  url_num_dots  url_num_slashes  \\\n",
       "result                       -0.006228      0.100274         0.106274   \n",
       "url_length                    0.119537      0.268261         0.175573   \n",
       "url_has_http//               -0.031712      0.158921         0.169581   \n",
       "url_has_https//               0.036568     -0.127231        -0.145530   \n",
       "url_contains_num              1.000000      0.087773         0.057023   \n",
       "url_num_dots                  0.087773      1.000000         0.121849   \n",
       "url_num_slashes               0.057023      0.121849         1.000000   \n",
       "number_of_dash                0.110307      0.082661         0.073122   \n",
       "has_at_symbol                -0.012062      0.133951         0.020796   \n",
       "has_tilde_symbol             -0.038141      0.054991         0.019945   \n",
       "number_of_underscore          0.034165      0.102119         0.059978   \n",
       "number_of_numpercent          0.095325      0.275189         0.011751   \n",
       "number_of_ampersand           0.158346      0.443535         0.008108   \n",
       "number_of_hash                0.006057      0.027481         0.007726   \n",
       "url_contains_ip               0.078838      0.216401         0.051114   \n",
       "\n",
       "                      number_of_dash  has_at_symbol  has_tilde_symbol  \\\n",
       "result                     -0.225094       0.207643         -0.020911   \n",
       "url_length                  0.224724       0.031884         -0.017645   \n",
       "url_has_http//             -0.191123       0.121468          0.009277   \n",
       "url_has_https//             0.189546      -0.124412         -0.011054   \n",
       "url_contains_num            0.110307      -0.012062         -0.038141   \n",
       "url_num_dots                0.082661       0.133951          0.054991   \n",
       "url_num_slashes             0.073122       0.020796          0.019945   \n",
       "number_of_dash              1.000000      -0.072777         -0.063341   \n",
       "has_at_symbol              -0.072777       1.000000         -0.021229   \n",
       "has_tilde_symbol           -0.063341      -0.021229          1.000000   \n",
       "number_of_underscore        0.029477      -0.050297         -0.034964   \n",
       "number_of_numpercent        0.163386      -0.009044         -0.013528   \n",
       "number_of_ampersand        -0.033403       0.075306         -0.029158   \n",
       "number_of_hash             -0.008469       0.066122          0.000289   \n",
       "url_contains_ip            -0.046788      -0.018429          0.105356   \n",
       "\n",
       "                      number_of_underscore  number_of_numpercent  \\\n",
       "result                           -0.134809              0.016651   \n",
       "url_length                        0.176587              0.296155   \n",
       "url_has_http//                   -0.091826              0.019724   \n",
       "url_has_https//                   0.093691             -0.020242   \n",
       "url_contains_num                  0.034165              0.095325   \n",
       "url_num_dots                      0.102119              0.275189   \n",
       "url_num_slashes                   0.059978              0.011751   \n",
       "number_of_dash                    0.029477              0.163386   \n",
       "has_at_symbol                    -0.050297             -0.009044   \n",
       "has_tilde_symbol                 -0.034964             -0.013528   \n",
       "number_of_underscore              1.000000              0.185716   \n",
       "number_of_numpercent              0.185716              1.000000   \n",
       "number_of_ampersand               0.100611              0.225737   \n",
       "number_of_hash                   -0.004339              0.008277   \n",
       "url_contains_ip                  -0.015324              0.045263   \n",
       "\n",
       "                      number_of_ampersand  number_of_hash  url_contains_ip  \n",
       "result                           0.125187        0.037708         0.125217  \n",
       "url_length                       0.286757        0.022426         0.054155  \n",
       "url_has_http//                   0.137262       -0.003365         0.164260  \n",
       "url_has_https//                 -0.106388        0.003312        -0.111083  \n",
       "url_contains_num                 0.158346        0.006057         0.078838  \n",
       "url_num_dots                     0.443535        0.027481         0.216401  \n",
       "url_num_slashes                  0.008108        0.007726         0.051114  \n",
       "number_of_dash                  -0.033403       -0.008469        -0.046788  \n",
       "has_at_symbol                    0.075306        0.066122        -0.018429  \n",
       "has_tilde_symbol                -0.029158        0.000289         0.105356  \n",
       "number_of_underscore             0.100611       -0.004339        -0.015324  \n",
       "number_of_numpercent             0.225737        0.008277         0.045263  \n",
       "number_of_ampersand              1.000000        0.023740         0.128115  \n",
       "number_of_hash                   0.023740        1.000000        -0.003025  \n",
       "url_contains_ip                  0.128115       -0.003025         1.000000  "
      ]
     },
     "execution_count": 37,
     "metadata": {},
     "output_type": "execute_result"
    }
   ],
   "source": [
    "df.corr()"
   ]
  },
  {
   "cell_type": "code",
   "execution_count": 38,
   "id": "a49627b5-5321-4c1e-b29a-2d7b587871a9",
   "metadata": {},
   "outputs": [
    {
     "data": {
      "image/png": "[encoded data removed]",
      "text/plain": [
       "<Figure size 640x480 with 1 Axes>"
      ]
     },
     "metadata": {},
     "output_type": "display_data"
    },
    {
     "data": {
      "image/png": "[encoded data removed]",
      "text/plain": [
       "<Figure size 640x480 with 1 Axes>"
      ]
     },
     "metadata": {},
     "output_type": "display_data"
    },
    {
     "data": {
      "image/png": "[encoded data removed]",
      "text/plain": [
       "<Figure size 640x480 with 1 Axes>"
      ]
     },
     "metadata": {},
     "output_type": "display_data"
    },
    {
     "data": {
      "image/png": "[encoded data removed]",
      "text/plain": [
       "<Figure size 640x480 with 1 Axes>"
      ]
     },
     "metadata": {},
     "output_type": "display_data"
    },
    {
     "data": {
      "image/png": "[encoded data removed]",
      "text/plain": [
       "<Figure size 640x480 with 1 Axes>"
      ]
     },
     "metadata": {},
     "output_type": "display_data"
    },
    {
     "data": {
      "image/png": "[encoded data removed]",
      "text/plain": [
       "<Figure size 640x480 with 1 Axes>"
      ]
     },
     "metadata": {},
     "output_type": "display_data"
    },
    {
     "data": {
      "image/png": "[encoded data removed]",
      "text/plain": [
       "<Figure size 640x480 with 1 Axes>"
      ]
     },
     "metadata": {},
     "output_type": "display_data"
    },
    {
     "data": {
      "image/png": "[encoded data removed]",
      "text/plain": [
       "<Figure size 640x480 with 1 Axes>"
      ]
     },
     "metadata": {},
     "output_type": "display_data"
    },
    {
     "data": {
      "image/png": "[encoded data removed]",
      "text/plain": [
       "<Figure size 640x480 with 1 Axes>"
      ]
     },
     "metadata": {},
     "output_type": "display_data"
    },
    {
     "data": {
      "image/png": "[encoded data removed]",
      "text/plain": [
       "<Figure size 640x480 with 1 Axes>"
      ]
     },
     "metadata": {},
     "output_type": "display_data"
    },
    {
     "data": {
      "image/png": "[encoded data removed]",
      "text/plain": [
       "<Figure size 640x480 with 1 Axes>"
      ]
     },
     "metadata": {},
     "output_type": "display_data"
    },
    {
     "data": {
      "image/png": "[encoded data removed]",
      "text/plain": [
       "<Figure size 640x480 with 1 Axes>"
      ]
     },
     "metadata": {},
     "output_type": "display_data"
    },
    {
     "data": {
      "image/png": "[encoded data removed]",
      "text/plain": [
       "<Figure size 640x480 with 1 Axes>"
      ]
     },
     "metadata": {},
     "output_type": "display_data"
    },
    {
     "data": {
      "image/png": "[encoded data removed]",
      "text/plain": [
       "<Figure size 640x480 with 1 Axes>"
      ]
     },
     "metadata": {},
     "output_type": "display_data"
    },
    {
     "data": {
      "image/png": "[encoded data removed]",
      "text/plain": [
       "<Figure size 640x480 with 1 Axes>"
      ]
     },
     "metadata": {},
     "output_type": "display_data"
    }
   ],
   "source": [
    "\n",
    "for i in df.columns:\n",
    "    if type(df[i][0])!=str:\n",
    "        sns.boxplot(df[i])\n",
    "        plt.title(i)\n",
    "        plt.show()"
   ]
  },
  {
   "cell_type": "code",
   "execution_count": 22,
   "id": "79a25741-f7fb-4936-9472-8c7dc7e7895d",
   "metadata": {},
   "outputs": [],
   "source": [
    "\n",
    "# Z-score method\n",
    "z_scores = np.abs((df - df.mean()) / df.std())\n",
    "outliers = df[z_scores > 3] \n"
   ]
  },
  {
   "cell_type": "code",
   "execution_count": 23,
   "id": "32e93e62-7f5a-4cc7-917f-c3effb38f6ab",
   "metadata": {},
   "outputs": [],
   "source": [
    "\n",
    "# IQR method\n",
    "Q1 = df.quantile(0.25)\n",
    "Q3 = df.quantile(0.75)\n",
    "IQR = Q3 - Q1\n",
    "outliers = df[(df < (Q1 - 1.5 * IQR)) | (df > (Q3 + 1.5 * IQR))]"
   ]
  },
  {
   "cell_type": "code",
   "execution_count": 24,
   "id": "24b86a0d-dea1-4ccf-be2e-f790e145f50e",
   "metadata": {},
   "outputs": [],
   "source": [
    "#Handle outliers\n",
    "# Remove outliers\n",
    "df_cleaned = df.drop(outliers.index)"
   ]
  },
  {
   "cell_type": "code",
   "execution_count": 25,
   "id": "fac28379-6acd-4262-a7b3-2b2ea49ae2f3",
   "metadata": {},
   "outputs": [],
   "source": [
    "\n",
    "# Replace outliers with median\n",
    "df_cleaned = df.copy()\n",
    "df_cleaned=np.where(z_scores>3,df.median(),df)"
   ]
  },
  {
   "cell_type": "code",
   "execution_count": 26,
   "id": "ba222403-7018-46ea-8a66-dded67e5d126",
   "metadata": {},
   "outputs": [],
   "source": [
    "\n",
    "# Apply log transformation\n",
    "df_cleaned = np.log1p(df+0.0001)"
   ]
  },
  {
   "cell_type": "code",
   "execution_count": 27,
   "id": "52c0b0f6-338d-4105-8289-6f23165a0fd3",
   "metadata": {},
   "outputs": [
    {
     "name": "stdout",
     "output_type": "stream",
     "text": [
      "             result    url_length  url_has_http//  url_has_https//  \\\n",
      "count  90690.000000  90690.000000    90690.000000     90690.000000   \n",
      "mean       0.333557      4.454137        0.219279         0.478428   \n",
      "std        0.346303      0.494221        0.322295         0.320517   \n",
      "min        0.000100      2.197236        0.000100         0.000100   \n",
      "25%        0.000100      4.158885        0.000100         0.000100   \n",
      "50%        0.000100      4.418842        0.000100         0.693197   \n",
      "75%        0.693197      4.709531        0.693197         0.693197   \n",
      "max        0.693197     10.147374        0.693197         0.693197   \n",
      "\n",
      "       url_contains_num  url_num_dots  url_num_slashes  number_of_dash  \\\n",
      "count      90690.000000  90690.000000     90690.000000    90690.000000   \n",
      "mean           0.499758      1.368672         1.786450        0.841039   \n",
      "std            0.310893      0.361132         0.325897        0.858388   \n",
      "min            0.000100      0.000100         1.098646        0.000100   \n",
      "25%            0.000100      1.098646         1.609458        0.000100   \n",
      "50%            0.693197      1.386319         1.791776        0.693197   \n",
      "75%            0.693197      1.609458         2.079454        1.386319   \n",
      "max            0.693197      4.605171         4.787493        5.659483   \n",
      "\n",
      "       has_at_symbol  has_tilde_symbol  number_of_underscore  \\\n",
      "count   90690.000000      90690.000000          90690.000000   \n",
      "mean        0.028935          0.015179              0.416913   \n",
      "std         0.138399          0.101112              0.658806   \n",
      "min         0.000100          0.000100              0.000100   \n",
      "25%         0.000100          0.000100              0.000100   \n",
      "50%         0.000100          0.000100              0.000100   \n",
      "75%         0.000100          0.000100              0.693197   \n",
      "max         0.693197          0.693197              5.303305   \n",
      "\n",
      "       number_of_numpercent  number_of_ampersand  number_of_hash  \\\n",
      "count          90690.000000         90690.000000    90690.000000   \n",
      "mean               0.136097             0.206890        0.012200   \n",
      "std                0.460036             0.514085        0.094922   \n",
      "min                0.000100             0.000100        0.000100   \n",
      "25%                0.000100             0.000100        0.000100   \n",
      "50%                0.000100             0.000100        0.000100   \n",
      "75%                0.000100             0.000100        0.000100   \n",
      "max                5.010636             3.931828        5.030439   \n",
      "\n",
      "       url_contains_ip  \n",
      "count     90690.000000  \n",
      "mean          0.011052  \n",
      "std           0.086433  \n",
      "min           0.000100  \n",
      "25%           0.000100  \n",
      "50%           0.000100  \n",
      "75%           0.000100  \n",
      "max           0.693197  \n"
     ]
    }
   ],
   "source": [
    "\n",
    "# Validate the results\n",
    "print(df_cleaned.describe())"
   ]
  },
  {
   "cell_type": "code",
   "execution_count": 45,
   "id": "48db6617-9cf1-4e4c-8282-d1754e6afdea",
   "metadata": {},
   "outputs": [
    {
     "data": {
      "image/png": "[encoded data removed]",
      "text/plain": [
       "<Figure size 640x480 with 16 Axes>"
      ]
     },
     "metadata": {},
     "output_type": "display_data"
    }
   ],
   "source": [
    "\n",
    "df_cleaned.hist()\n",
    "plt.show()"
   ]
  },
  {
   "cell_type": "code",
   "execution_count": 46,
   "id": "5f5eaf80-d539-4b2d-b09f-0bf03d07b8b6",
   "metadata": {},
   "outputs": [
    {
     "data": {
      "image/png": "[encoded data removed]",
      "text/plain": [
       "<Figure size 1000x600 with 2 Axes>"
      ]
     },
     "metadata": {},
     "output_type": "display_data"
    }
   ],
   "source": [
    "# Verify the results using box plots\n",
    "\n",
    "plt.figure(figsize=(10, 6))\n",
    "\n",
    "\n",
    "# Original data\n",
    "\n",
    "plt.subplot(1, 2, 1)\n",
    "\n",
    "plt.boxplot(df.values)\n",
    "\n",
    "plt.title('Original Data')\n",
    "\n",
    "\n",
    "# Cleaned data\n",
    "\n",
    "plt.subplot(1, 2, 2)\n",
    "\n",
    "plt.boxplot(df_cleaned.values)\n",
    "\n",
    "plt.title('Cleaned Data')\n",
    "\n",
    "plt.show()"
   ]
  },
  {
   "cell_type": "code",
   "execution_count": 28,
   "id": "7e285eda-145e-4e03-ba06-d1ce90de5481",
   "metadata": {},
   "outputs": [],
   "source": [
    "X = df.drop([\"result\"],axis =1)\n",
    "y = df[\"result\"]"
   ]
  },
  {
   "cell_type": "code",
   "execution_count": 29,
   "id": "6680f677-82e8-4046-9b96-df9974a344f4",
   "metadata": {},
   "outputs": [
    {
     "data": {
      "text/html": [
       "<div>\n",
       "<style scoped>\n",
       "    .dataframe tbody tr th:only-of-type {\n",
       "        vertical-align: middle;\n",
       "    }\n",
       "\n",
       "    .dataframe tbody tr th {\n",
       "        vertical-align: top;\n",
       "    }\n",
       "\n",
       "    .dataframe thead th {\n",
       "        text-align: right;\n",
       "    }\n",
       "</style>\n",
       "<table border=\"1\" class=\"dataframe\">\n",
       "  <thead>\n",
       "    <tr style=\"text-align: right;\">\n",
       "      <th></th>\n",
       "      <th>url_length</th>\n",
       "      <th>url_has_http//</th>\n",
       "      <th>url_has_https//</th>\n",
       "      <th>url_contains_num</th>\n",
       "      <th>url_num_dots</th>\n",
       "      <th>url_num_slashes</th>\n",
       "      <th>number_of_dash</th>\n",
       "      <th>has_at_symbol</th>\n",
       "      <th>has_tilde_symbol</th>\n",
       "      <th>number_of_underscore</th>\n",
       "      <th>number_of_numpercent</th>\n",
       "      <th>number_of_ampersand</th>\n",
       "      <th>number_of_hash</th>\n",
       "      <th>url_contains_ip</th>\n",
       "    </tr>\n",
       "  </thead>\n",
       "  <tbody>\n",
       "    <tr>\n",
       "      <th>0</th>\n",
       "      <td>-0.424981</td>\n",
       "      <td>-0.680061</td>\n",
       "      <td>0.670074</td>\n",
       "      <td>-1.607180</td>\n",
       "      <td>-0.587180</td>\n",
       "      <td>-0.133377</td>\n",
       "      <td>-0.576583</td>\n",
       "      <td>-0.208349</td>\n",
       "      <td>-0.149128</td>\n",
       "      <td>-0.407268</td>\n",
       "      <td>-0.153354</td>\n",
       "      <td>-0.295187</td>\n",
       "      <td>-0.036462</td>\n",
       "      <td>-0.126707</td>\n",
       "    </tr>\n",
       "    <tr>\n",
       "      <th>1</th>\n",
       "      <td>-0.330511</td>\n",
       "      <td>-0.680061</td>\n",
       "      <td>0.670074</td>\n",
       "      <td>-1.607180</td>\n",
       "      <td>-0.587180</td>\n",
       "      <td>-0.133377</td>\n",
       "      <td>-0.576583</td>\n",
       "      <td>-0.208349</td>\n",
       "      <td>-0.149128</td>\n",
       "      <td>-0.407268</td>\n",
       "      <td>-0.153354</td>\n",
       "      <td>-0.295187</td>\n",
       "      <td>-0.036462</td>\n",
       "      <td>-0.126707</td>\n",
       "    </tr>\n",
       "    <tr>\n",
       "      <th>2</th>\n",
       "      <td>-0.290024</td>\n",
       "      <td>-0.680061</td>\n",
       "      <td>0.670074</td>\n",
       "      <td>-1.607180</td>\n",
       "      <td>-0.587180</td>\n",
       "      <td>0.302183</td>\n",
       "      <td>-0.349966</td>\n",
       "      <td>-0.208349</td>\n",
       "      <td>-0.149128</td>\n",
       "      <td>-0.407268</td>\n",
       "      <td>-0.153354</td>\n",
       "      <td>-0.295187</td>\n",
       "      <td>-0.036462</td>\n",
       "      <td>-0.126707</td>\n",
       "    </tr>\n",
       "    <tr>\n",
       "      <th>3</th>\n",
       "      <td>-0.323763</td>\n",
       "      <td>-0.680061</td>\n",
       "      <td>0.670074</td>\n",
       "      <td>-1.607180</td>\n",
       "      <td>-0.587180</td>\n",
       "      <td>-0.133377</td>\n",
       "      <td>-0.576583</td>\n",
       "      <td>-0.208349</td>\n",
       "      <td>-0.149128</td>\n",
       "      <td>-0.407268</td>\n",
       "      <td>-0.153354</td>\n",
       "      <td>-0.295187</td>\n",
       "      <td>-0.036462</td>\n",
       "      <td>-0.126707</td>\n",
       "    </tr>\n",
       "    <tr>\n",
       "      <th>4</th>\n",
       "      <td>-0.519450</td>\n",
       "      <td>-0.680061</td>\n",
       "      <td>0.670074</td>\n",
       "      <td>0.622208</td>\n",
       "      <td>-1.062856</td>\n",
       "      <td>-1.440057</td>\n",
       "      <td>-0.576583</td>\n",
       "      <td>-0.208349</td>\n",
       "      <td>-0.149128</td>\n",
       "      <td>-0.407268</td>\n",
       "      <td>-0.153354</td>\n",
       "      <td>-0.295187</td>\n",
       "      <td>-0.036462</td>\n",
       "      <td>-0.126707</td>\n",
       "    </tr>\n",
       "    <tr>\n",
       "      <th>...</th>\n",
       "      <td>...</td>\n",
       "      <td>...</td>\n",
       "      <td>...</td>\n",
       "      <td>...</td>\n",
       "      <td>...</td>\n",
       "      <td>...</td>\n",
       "      <td>...</td>\n",
       "      <td>...</td>\n",
       "      <td>...</td>\n",
       "      <td>...</td>\n",
       "      <td>...</td>\n",
       "      <td>...</td>\n",
       "      <td>...</td>\n",
       "      <td>...</td>\n",
       "    </tr>\n",
       "    <tr>\n",
       "      <th>90685</th>\n",
       "      <td>-0.141572</td>\n",
       "      <td>1.470457</td>\n",
       "      <td>-1.492371</td>\n",
       "      <td>-1.607180</td>\n",
       "      <td>0.364170</td>\n",
       "      <td>0.302183</td>\n",
       "      <td>0.329885</td>\n",
       "      <td>-0.208349</td>\n",
       "      <td>-0.149128</td>\n",
       "      <td>-0.407268</td>\n",
       "      <td>-0.153354</td>\n",
       "      <td>-0.295187</td>\n",
       "      <td>-0.036462</td>\n",
       "      <td>-0.126707</td>\n",
       "    </tr>\n",
       "    <tr>\n",
       "      <th>90686</th>\n",
       "      <td>-0.377746</td>\n",
       "      <td>1.470457</td>\n",
       "      <td>-1.492371</td>\n",
       "      <td>0.622208</td>\n",
       "      <td>-1.062856</td>\n",
       "      <td>0.302183</td>\n",
       "      <td>-0.576583</td>\n",
       "      <td>-0.208349</td>\n",
       "      <td>-0.149128</td>\n",
       "      <td>-0.017608</td>\n",
       "      <td>-0.153354</td>\n",
       "      <td>-0.295187</td>\n",
       "      <td>-0.036462</td>\n",
       "      <td>-0.126707</td>\n",
       "    </tr>\n",
       "    <tr>\n",
       "      <th>90687</th>\n",
       "      <td>1.234984</td>\n",
       "      <td>-0.680061</td>\n",
       "      <td>0.670074</td>\n",
       "      <td>0.622208</td>\n",
       "      <td>-0.111505</td>\n",
       "      <td>1.173303</td>\n",
       "      <td>0.783119</td>\n",
       "      <td>-0.208349</td>\n",
       "      <td>-0.149128</td>\n",
       "      <td>1.930693</td>\n",
       "      <td>-0.153354</td>\n",
       "      <td>1.380659</td>\n",
       "      <td>-0.036462</td>\n",
       "      <td>-0.126707</td>\n",
       "    </tr>\n",
       "    <tr>\n",
       "      <th>90688</th>\n",
       "      <td>-0.134824</td>\n",
       "      <td>1.470457</td>\n",
       "      <td>-1.492371</td>\n",
       "      <td>0.622208</td>\n",
       "      <td>-0.587180</td>\n",
       "      <td>-1.004497</td>\n",
       "      <td>-0.576583</td>\n",
       "      <td>-0.208349</td>\n",
       "      <td>-0.149128</td>\n",
       "      <td>-0.017608</td>\n",
       "      <td>-0.153354</td>\n",
       "      <td>-0.295187</td>\n",
       "      <td>-0.036462</td>\n",
       "      <td>-0.126707</td>\n",
       "    </tr>\n",
       "    <tr>\n",
       "      <th>90689</th>\n",
       "      <td>-0.317016</td>\n",
       "      <td>-0.680061</td>\n",
       "      <td>0.670074</td>\n",
       "      <td>0.622208</td>\n",
       "      <td>-0.587180</td>\n",
       "      <td>0.737743</td>\n",
       "      <td>-0.349966</td>\n",
       "      <td>-0.208349</td>\n",
       "      <td>-0.149128</td>\n",
       "      <td>-0.407268</td>\n",
       "      <td>-0.153354</td>\n",
       "      <td>-0.295187</td>\n",
       "      <td>-0.036462</td>\n",
       "      <td>-0.126707</td>\n",
       "    </tr>\n",
       "  </tbody>\n",
       "</table>\n",
       "<p>90690 rows × 14 columns</p>\n",
       "</div>"
      ],
      "text/plain": [
       "       url_length  url_has_http//  url_has_https//  url_contains_num  \\\n",
       "0       -0.424981       -0.680061         0.670074         -1.607180   \n",
       "1       -0.330511       -0.680061         0.670074         -1.607180   \n",
       "2       -0.290024       -0.680061         0.670074         -1.607180   \n",
       "3       -0.323763       -0.680061         0.670074         -1.607180   \n",
       "4       -0.519450       -0.680061         0.670074          0.622208   \n",
       "...           ...             ...              ...               ...   \n",
       "90685   -0.141572        1.470457        -1.492371         -1.607180   \n",
       "90686   -0.377746        1.470457        -1.492371          0.622208   \n",
       "90687    1.234984       -0.680061         0.670074          0.622208   \n",
       "90688   -0.134824        1.470457        -1.492371          0.622208   \n",
       "90689   -0.317016       -0.680061         0.670074          0.622208   \n",
       "\n",
       "       url_num_dots  url_num_slashes  number_of_dash  has_at_symbol  \\\n",
       "0         -0.587180        -0.133377       -0.576583      -0.208349   \n",
       "1         -0.587180        -0.133377       -0.576583      -0.208349   \n",
       "2         -0.587180         0.302183       -0.349966      -0.208349   \n",
       "3         -0.587180        -0.133377       -0.576583      -0.208349   \n",
       "4         -1.062856        -1.440057       -0.576583      -0.208349   \n",
       "...             ...              ...             ...            ...   \n",
       "90685      0.364170         0.302183        0.329885      -0.208349   \n",
       "90686     -1.062856         0.302183       -0.576583      -0.208349   \n",
       "90687     -0.111505         1.173303        0.783119      -0.208349   \n",
       "90688     -0.587180        -1.004497       -0.576583      -0.208349   \n",
       "90689     -0.587180         0.737743       -0.349966      -0.208349   \n",
       "\n",
       "       has_tilde_symbol  number_of_underscore  number_of_numpercent  \\\n",
       "0             -0.149128             -0.407268             -0.153354   \n",
       "1             -0.149128             -0.407268             -0.153354   \n",
       "2             -0.149128             -0.407268             -0.153354   \n",
       "3             -0.149128             -0.407268             -0.153354   \n",
       "4             -0.149128             -0.407268             -0.153354   \n",
       "...                 ...                   ...                   ...   \n",
       "90685         -0.149128             -0.407268             -0.153354   \n",
       "90686         -0.149128             -0.017608             -0.153354   \n",
       "90687         -0.149128              1.930693             -0.153354   \n",
       "90688         -0.149128             -0.017608             -0.153354   \n",
       "90689         -0.149128             -0.407268             -0.153354   \n",
       "\n",
       "       number_of_ampersand  number_of_hash  url_contains_ip  \n",
       "0                -0.295187       -0.036462        -0.126707  \n",
       "1                -0.295187       -0.036462        -0.126707  \n",
       "2                -0.295187       -0.036462        -0.126707  \n",
       "3                -0.295187       -0.036462        -0.126707  \n",
       "4                -0.295187       -0.036462        -0.126707  \n",
       "...                    ...             ...              ...  \n",
       "90685            -0.295187       -0.036462        -0.126707  \n",
       "90686            -0.295187       -0.036462        -0.126707  \n",
       "90687             1.380659       -0.036462        -0.126707  \n",
       "90688            -0.295187       -0.036462        -0.126707  \n",
       "90689            -0.295187       -0.036462        -0.126707  \n",
       "\n",
       "[90690 rows x 14 columns]"
      ]
     },
     "execution_count": 29,
     "metadata": {},
     "output_type": "execute_result"
    }
   ],
   "source": [
    "\n",
    "from sklearn.preprocessing import StandardScaler\n",
    "scaler=StandardScaler()\n",
    "clmn_names=X.columns\n",
    "scaled=scaler.fit_transform(X)\n",
    "features=pd.DataFrame(scaled,columns=clmn_names)\n",
    "features"
   ]
  },
  {
   "cell_type": "code",
   "execution_count": 30,
   "id": "1cb4d634-e8ed-45f0-9635-5d473f7b03e3",
   "metadata": {},
   "outputs": [
    {
     "data": {
      "text/plain": [
       "((72552, 14), (72552,), (18138, 14), (18138,))"
      ]
     },
     "execution_count": 30,
     "metadata": {},
     "output_type": "execute_result"
    }
   ],
   "source": [
    "\n",
    "from sklearn.model_selection import train_test_split\n",
    "X_train, X_test, y_train, y_test = train_test_split(features, y, test_size = 0.2, random_state = 42)\n",
    "X_train.shape, y_train.shape, X_test.shape, y_test.shape"
   ]
  },
  {
   "cell_type": "code",
   "execution_count": 31,
   "id": "d4d6539b-effc-44f1-bc26-ec6685141506",
   "metadata": {},
   "outputs": [
    {
     "data": {
      "text/plain": [
       "(72552, 14)"
      ]
     },
     "execution_count": 31,
     "metadata": {},
     "output_type": "execute_result"
    }
   ],
   "source": [
    "X_train.shape\n"
   ]
  },
  {
   "cell_type": "code",
   "execution_count": 32,
   "id": "bb2198c6-6682-42fa-8e3f-f95d48959f47",
   "metadata": {},
   "outputs": [
    {
     "data": {
      "text/plain": [
       "(72552,)"
      ]
     },
     "execution_count": 32,
     "metadata": {},
     "output_type": "execute_result"
    }
   ],
   "source": [
    "y_train.shape\n"
   ]
  },
  {
   "cell_type": "code",
   "execution_count": 33,
   "id": "2f2e01cd-44d7-4cde-a808-fbc6e327f908",
   "metadata": {},
   "outputs": [
    {
     "data": {
      "text/plain": [
       "(18138, 14)"
      ]
     },
     "execution_count": 33,
     "metadata": {},
     "output_type": "execute_result"
    }
   ],
   "source": [
    "X_test.shape\n"
   ]
  },
  {
   "cell_type": "code",
   "execution_count": 34,
   "id": "04d696dc-4159-4804-8a26-71f75459cb03",
   "metadata": {},
   "outputs": [
    {
     "data": {
      "text/plain": [
       "(18138,)"
      ]
     },
     "execution_count": 34,
     "metadata": {},
     "output_type": "execute_result"
    }
   ],
   "source": [
    "y_test.shape\n"
   ]
  },
  {
   "cell_type": "code",
   "execution_count": 35,
   "id": "8730e74f-9cc6-4c46-be59-695600fe982a",
   "metadata": {},
   "outputs": [
    {
     "data": {
      "text/plain": [
       "result\n",
       "0         37545\n",
       "1         37545\n",
       "Name: count, dtype: int64"
      ]
     },
     "execution_count": 35,
     "metadata": {},
     "output_type": "execute_result"
    }
   ],
   "source": [
    "from imblearn.over_sampling import SMOTE\n",
    "smote=SMOTE(sampling_strategy=1)\n",
    "X_train,y_train=smote.fit_resample(X_train,y_train)\n",
    "pd.DataFrame(y_train).value_counts()"
   ]
  },
  {
   "cell_type": "markdown",
   "id": "27bbb1fc-4e86-492d-b836-65e4c7bc5552",
   "metadata": {},
   "source": [
    "Logistic Regression"
   ]
  },
  {
   "cell_type": "code",
   "execution_count": 55,
   "id": "acc8d112-86fe-430a-93fe-f674b4c81b00",
   "metadata": {},
   "outputs": [],
   "source": [
    "\n",
    "from sklearn.linear_model import LogisticRegression\n",
    "# instantiate the model\n",
    "log = LogisticRegression()\n",
    "# fit the model \n",
    "Log=log.fit(X_train,y_train)\n",
    "predict=Log.predict(X_test)"
   ]
  },
  {
   "cell_type": "code",
   "execution_count": 38,
   "id": "5f3145f7-2309-4c1c-8554-c6c375fb849e",
   "metadata": {},
   "outputs": [],
   "source": [
    "from sklearn.metrics import accuracy_score,confusion_matrix,classification_report\n"
   ]
  },
  {
   "cell_type": "code",
   "execution_count": 57,
   "id": "f6cf91e4-4167-4762-99e1-183e4c9e6925",
   "metadata": {},
   "outputs": [
    {
     "data": {
      "text/plain": [
       "0.8728636012790826"
      ]
     },
     "execution_count": 57,
     "metadata": {},
     "output_type": "execute_result"
    }
   ],
   "source": [
    "accuracy_score(y_test,predict)\n"
   ]
  },
  {
   "cell_type": "code",
   "execution_count": 58,
   "id": "96cb9172-c0d9-42af-97ac-8ff87462b5ed",
   "metadata": {},
   "outputs": [
    {
     "data": {
      "text/plain": [
       "array([[9211,  302],\n",
       "       [2004, 6621]], dtype=int64)"
      ]
     },
     "execution_count": 58,
     "metadata": {},
     "output_type": "execute_result"
    }
   ],
   "source": [
    "confusion_matrix(y_test,predict)\n"
   ]
  },
  {
   "cell_type": "code",
   "execution_count": 59,
   "id": "c213a151-2298-4b8e-8150-0aac9359c50f",
   "metadata": {},
   "outputs": [
    {
     "name": "stdout",
     "output_type": "stream",
     "text": [
      "              precision    recall  f1-score   support\n",
      "\n",
      "           0       0.82      0.97      0.89      9513\n",
      "           1       0.96      0.77      0.85      8625\n",
      "\n",
      "    accuracy                           0.87     18138\n",
      "   macro avg       0.89      0.87      0.87     18138\n",
      "weighted avg       0.89      0.87      0.87     18138\n",
      "\n"
     ]
    }
   ],
   "source": [
    "\n",
    "print(classification_report(y_test,predict))"
   ]
  },
  {
   "cell_type": "markdown",
   "id": "7e4465f7-37ff-475a-becf-9acbe5ebf851",
   "metadata": {},
   "source": [
    "K-Nearest Neighbors : Classifier"
   ]
  },
  {
   "cell_type": "code",
   "execution_count": 61,
   "id": "f2f2e325-a72b-475e-9f46-3623b56ff142",
   "metadata": {},
   "outputs": [],
   "source": [
    "from sklearn.neighbors import KNeighborsClassifier\n",
    "knn = KNeighborsClassifier()\n",
    "Knn=knn.fit(X_train,y_train)\n",
    "k_predict=Knn.predict(X_test)"
   ]
  },
  {
   "cell_type": "code",
   "execution_count": 62,
   "id": "1f0b839a-7d6f-49b5-8fbd-52fe87d2a253",
   "metadata": {},
   "outputs": [
    {
     "data": {
      "text/plain": [
       "0.8857646929099129"
      ]
     },
     "execution_count": 62,
     "metadata": {},
     "output_type": "execute_result"
    }
   ],
   "source": [
    "accuracy_score(y_test,k_predict)"
   ]
  },
  {
   "cell_type": "code",
   "execution_count": 63,
   "id": "4dcb72b2-5b5f-4e49-bf9c-2dbea14d7deb",
   "metadata": {},
   "outputs": [
    {
     "data": {
      "text/plain": [
       "array([[8658,  855],\n",
       "       [1217, 7408]], dtype=int64)"
      ]
     },
     "execution_count": 63,
     "metadata": {},
     "output_type": "execute_result"
    }
   ],
   "source": [
    "confusion_matrix(y_test,k_predict)"
   ]
  },
  {
   "cell_type": "code",
   "execution_count": 64,
   "id": "fda9499e-b31c-42ce-a7e4-835dadcb72ca",
   "metadata": {},
   "outputs": [
    {
     "name": "stdout",
     "output_type": "stream",
     "text": [
      "              precision    recall  f1-score   support\n",
      "\n",
      "           0       0.88      0.91      0.89      9513\n",
      "           1       0.90      0.86      0.88      8625\n",
      "\n",
      "    accuracy                           0.89     18138\n",
      "   macro avg       0.89      0.88      0.89     18138\n",
      "weighted avg       0.89      0.89      0.89     18138\n",
      "\n"
     ]
    }
   ],
   "source": [
    "print(classification_report(y_test,k_predict))"
   ]
  },
  {
   "cell_type": "markdown",
   "id": "d88bc17d-aa37-402f-a577-eae0de3f8b71",
   "metadata": {},
   "source": [
    "Naive Bayes : Classifier"
   ]
  },
  {
   "cell_type": "code",
   "execution_count": 65,
   "id": "e0adfd55-937c-4ee8-9d3f-e8986dec99ab",
   "metadata": {},
   "outputs": [],
   "source": [
    "# Naive Bayes Classifier Model\n",
    "from sklearn.naive_bayes import GaussianNB\n",
    "\n",
    "# instantiate the model\n",
    "nb = GaussianNB()\n",
    "\n",
    "# fit the model \n",
    "Nb=nb.fit(X_train,y_train)\n",
    "n_predict=nb.predict(X_test)"
   ]
  },
  {
   "cell_type": "code",
   "execution_count": 66,
   "id": "ab3b910a-d15f-45e4-a120-0341cfcd917b",
   "metadata": {},
   "outputs": [
    {
     "data": {
      "text/plain": [
       "0.8573161318778255"
      ]
     },
     "execution_count": 66,
     "metadata": {},
     "output_type": "execute_result"
    }
   ],
   "source": [
    "accuracy_score(y_test,n_predict)"
   ]
  },
  {
   "cell_type": "code",
   "execution_count": 67,
   "id": "af320b9f-d572-4efd-979a-144686137943",
   "metadata": {},
   "outputs": [
    {
     "data": {
      "text/plain": [
       "array([[9416,   97],\n",
       "       [2491, 6134]], dtype=int64)"
      ]
     },
     "execution_count": 67,
     "metadata": {},
     "output_type": "execute_result"
    }
   ],
   "source": [
    "confusion_matrix(y_test,n_predict)"
   ]
  },
  {
   "cell_type": "code",
   "execution_count": 68,
   "id": "9591ed0e-a28d-4be7-888d-a3a4c1d4cd04",
   "metadata": {},
   "outputs": [
    {
     "name": "stdout",
     "output_type": "stream",
     "text": [
      "              precision    recall  f1-score   support\n",
      "\n",
      "           0       0.79      0.99      0.88      9513\n",
      "           1       0.98      0.71      0.83      8625\n",
      "\n",
      "    accuracy                           0.86     18138\n",
      "   macro avg       0.89      0.85      0.85     18138\n",
      "weighted avg       0.88      0.86      0.85     18138\n",
      "\n"
     ]
    }
   ],
   "source": [
    "print(classification_report(y_test,n_predict))"
   ]
  },
  {
   "cell_type": "markdown",
   "id": "b655143d-8270-4ebd-a587-f3329d25bc27",
   "metadata": {},
   "source": [
    "Decision Trees : Classifier"
   ]
  },
  {
   "cell_type": "code",
   "execution_count": 70,
   "id": "0b79bfe4-8287-43d3-b880-08eb08615db8",
   "metadata": {},
   "outputs": [],
   "source": [
    "# Decision Tree Classifier model \n",
    "from sklearn.tree import DecisionTreeClassifier\n",
    "\n",
    "# instantiate the model \n",
    "dt = DecisionTreeClassifier(max_depth=30)\n",
    "\n",
    "# fit the model \n",
    "Dt=dt.fit(X_train, y_train)\n",
    "d_predict=Dt.predict(X_test)"
   ]
  },
  {
   "cell_type": "code",
   "execution_count": 71,
   "id": "ab46a302-f2f9-4b72-8542-ed5d0e294d8d",
   "metadata": {},
   "outputs": [
    {
     "data": {
      "text/plain": [
       "0.8595765795567317"
      ]
     },
     "execution_count": 71,
     "metadata": {},
     "output_type": "execute_result"
    }
   ],
   "source": [
    "accuracy_score(y_test,d_predict)"
   ]
  },
  {
   "cell_type": "code",
   "execution_count": 72,
   "id": "63787c01-3522-4b41-8021-3767532c7254",
   "metadata": {},
   "outputs": [
    {
     "data": {
      "text/plain": [
       "array([[8272, 1241],\n",
       "       [1306, 7319]], dtype=int64)"
      ]
     },
     "execution_count": 72,
     "metadata": {},
     "output_type": "execute_result"
    }
   ],
   "source": [
    "confusion_matrix(y_test,d_predict)"
   ]
  },
  {
   "cell_type": "code",
   "execution_count": 73,
   "id": "959c4e1b-47a6-4439-a8aa-6fdadb1f6d0b",
   "metadata": {},
   "outputs": [
    {
     "name": "stdout",
     "output_type": "stream",
     "text": [
      "              precision    recall  f1-score   support\n",
      "\n",
      "           0       0.86      0.87      0.87      9513\n",
      "           1       0.86      0.85      0.85      8625\n",
      "\n",
      "    accuracy                           0.86     18138\n",
      "   macro avg       0.86      0.86      0.86     18138\n",
      "weighted avg       0.86      0.86      0.86     18138\n",
      "\n"
     ]
    }
   ],
   "source": [
    "print(classification_report(y_test,d_predict))"
   ]
  },
  {
   "cell_type": "markdown",
   "id": "ebff2014-58c4-4d56-b32f-2fa8f624701b",
   "metadata": {},
   "source": [
    "Random Forest : Classifier"
   ]
  },
  {
   "cell_type": "code",
   "execution_count": 75,
   "id": "6606a423-b6bc-4c87-87bf-19db55330aea",
   "metadata": {},
   "outputs": [],
   "source": [
    "# Random Forest Classifier Model\n",
    "from sklearn.ensemble import RandomForestClassifier\n",
    "\n",
    "# instantiate the model\n",
    "forest = RandomForestClassifier(n_estimators=10)\n",
    "\n",
    "# fit the model \n",
    "Forest=forest.fit(X_train,y_train)\n",
    "f_predict=Forest.predict(X_test)"
   ]
  },
  {
   "cell_type": "code",
   "execution_count": 76,
   "id": "bb26f6b9-c5a5-44f5-a397-48bc3a1ff324",
   "metadata": {},
   "outputs": [
    {
     "data": {
      "text/plain": [
       "0.8672400485169258"
      ]
     },
     "execution_count": 76,
     "metadata": {},
     "output_type": "execute_result"
    }
   ],
   "source": [
    "accuracy_score(y_test,f_predict)"
   ]
  },
  {
   "cell_type": "code",
   "execution_count": 77,
   "id": "69bfa741-2547-48c1-b3ce-7d0067e8c052",
   "metadata": {},
   "outputs": [
    {
     "data": {
      "text/plain": [
       "array([[8419, 1094],\n",
       "       [1314, 7311]], dtype=int64)"
      ]
     },
     "execution_count": 77,
     "metadata": {},
     "output_type": "execute_result"
    }
   ],
   "source": [
    "confusion_matrix(y_test,f_predict)"
   ]
  },
  {
   "cell_type": "code",
   "execution_count": 78,
   "id": "7a39ba40-4916-476b-a32d-4586df713283",
   "metadata": {},
   "outputs": [
    {
     "name": "stdout",
     "output_type": "stream",
     "text": [
      "              precision    recall  f1-score   support\n",
      "\n",
      "           0       0.86      0.88      0.87      9513\n",
      "           1       0.87      0.85      0.86      8625\n",
      "\n",
      "    accuracy                           0.87     18138\n",
      "   macro avg       0.87      0.87      0.87     18138\n",
      "weighted avg       0.87      0.87      0.87     18138\n",
      "\n"
     ]
    }
   ],
   "source": [
    "print(classification_report(y_test,f_predict))"
   ]
  },
  {
   "cell_type": "code",
   "execution_count": 79,
   "id": "de5173d3-fbbc-4c47-88d0-0d06aa3e1d4c",
   "metadata": {},
   "outputs": [
    {
     "data": {
      "text/plain": [
       "0.8741245549398069"
      ]
     },
     "execution_count": 79,
     "metadata": {},
     "output_type": "execute_result"
    }
   ],
   "source": [
    "from sklearn.model_selection import cross_val_score\n",
    "cv=cross_val_score(Forest,X_train,y_train,cv=11)\n",
    "np.mean(cv)"
   ]
  },
  {
   "cell_type": "markdown",
   "id": "023b9eea-7354-4ebd-8ac1-d9dd0d6d74b3",
   "metadata": {},
   "source": [
    "Gradient Boosting Classifier\n"
   ]
  },
  {
   "cell_type": "code",
   "execution_count": 39,
   "id": "a412f4e3-715d-40ae-a81d-b9bb0d85f78a",
   "metadata": {},
   "outputs": [],
   "source": [
    "# Gradient Boosting Classifier Model\n",
    "from sklearn.ensemble import GradientBoostingClassifier\n",
    "\n",
    "# instantiate the model\n",
    "gbc = GradientBoostingClassifier(max_depth=4,learning_rate=0.7)\n",
    "\n",
    "# fit the model \n",
    "Gbc=gbc.fit(X_train,y_train)\n",
    "g_predict=Gbc.predict(X_test)"
   ]
  },
  {
   "cell_type": "code",
   "execution_count": 40,
   "id": "32f49804-41e8-418b-a226-07965fef5eec",
   "metadata": {},
   "outputs": [
    {
     "data": {
      "text/plain": [
       "0.906770316462675"
      ]
     },
     "execution_count": 40,
     "metadata": {},
     "output_type": "execute_result"
    }
   ],
   "source": [
    "accuracy_score(y_test,g_predict)"
   ]
  },
  {
   "cell_type": "code",
   "execution_count": 41,
   "id": "5a66c1a5-b0ca-4b5c-89f4-b41350209de6",
   "metadata": {},
   "outputs": [
    {
     "data": {
      "text/plain": [
       "array([[8989,  524],\n",
       "       [1167, 7458]], dtype=int64)"
      ]
     },
     "execution_count": 41,
     "metadata": {},
     "output_type": "execute_result"
    }
   ],
   "source": [
    "confusion_matrix(y_test,g_predict)"
   ]
  },
  {
   "cell_type": "code",
   "execution_count": 42,
   "id": "592315d0-7dfe-4f3f-a02e-18a87cae5251",
   "metadata": {},
   "outputs": [
    {
     "name": "stdout",
     "output_type": "stream",
     "text": [
      "              precision    recall  f1-score   support\n",
      "\n",
      "           0       0.89      0.94      0.91      9513\n",
      "           1       0.93      0.86      0.90      8625\n",
      "\n",
      "    accuracy                           0.91     18138\n",
      "   macro avg       0.91      0.90      0.91     18138\n",
      "weighted avg       0.91      0.91      0.91     18138\n",
      "\n"
     ]
    }
   ],
   "source": [
    "print(classification_report(y_test, g_predict))"
   ]
  },
  {
   "cell_type": "markdown",
   "id": "03c072f1-8519-4aaf-8fe9-10ffbaf8246a",
   "metadata": {},
   "source": [
    "Multi-layer Perceptron classifier"
   ]
  },
  {
   "cell_type": "code",
   "execution_count": 51,
   "id": "b5823826-f3a4-46d3-89fa-8639d83c71bd",
   "metadata": {},
   "outputs": [
    {
     "ename": "NameError",
     "evalue": "name 'GridSearchCV' is not defined",
     "output_type": "error",
     "traceback": [
      "\u001b[1;31m---------------------------------------------------------------------------\u001b[0m",
      "\u001b[1;31mNameError\u001b[0m                                 Traceback (most recent call last)",
      "Cell \u001b[1;32mIn[51], line 6\u001b[0m\n\u001b[0;32m      4\u001b[0m \u001b[38;5;66;03m# instantiate the model\u001b[39;00m\n\u001b[0;32m      5\u001b[0m mlp \u001b[38;5;241m=\u001b[39m MLPClassifier()\n\u001b[1;32m----> 6\u001b[0m mlp \u001b[38;5;241m=\u001b[39m \u001b[43mGridSearchCV\u001b[49m(mlpc, parameter_space)\n\u001b[0;32m      8\u001b[0m \u001b[38;5;66;03m# fit the model \u001b[39;00m\n\u001b[0;32m      9\u001b[0m Mlp\u001b[38;5;241m=\u001b[39mmlp\u001b[38;5;241m.\u001b[39mfit(X_train,y_train)\n",
      "\u001b[1;31mNameError\u001b[0m: name 'GridSearchCV' is not defined"
     ]
    }
   ],
   "source": [
    "# Multi-layer Perceptron Classifier Model\n",
    "from sklearn.neural_network import MLPClassifier\n",
    "\n",
    "# instantiate the model\n",
    "mlp = MLPClassifier()\n",
    "mlp = GridSearchCV(mlpc, parameter_space)\n",
    "\n",
    "# fit the model \n",
    "Mlp=mlp.fit(X_train,y_train)\n",
    "m_predict=Mlp.predict(X_test)"
   ]
  },
  {
   "cell_type": "code",
   "execution_count": 86,
   "id": "c7a2af5c-0ba1-4e15-9b1f-549ea166e5c8",
   "metadata": {},
   "outputs": [
    {
     "data": {
      "text/plain": [
       "0.9073216451648473"
      ]
     },
     "execution_count": 86,
     "metadata": {},
     "output_type": "execute_result"
    }
   ],
   "source": [
    "accuracy_score(y_test,m_predict)"
   ]
  },
  {
   "cell_type": "code",
   "execution_count": 87,
   "id": "31bc6abf-7bf6-4f14-8a14-96664acd9c24",
   "metadata": {},
   "outputs": [
    {
     "data": {
      "text/plain": [
       "array([[8807,  706],\n",
       "       [ 975, 7650]], dtype=int64)"
      ]
     },
     "execution_count": 87,
     "metadata": {},
     "output_type": "execute_result"
    }
   ],
   "source": [
    "confusion_matrix(y_test,m_predict)"
   ]
  },
  {
   "cell_type": "code",
   "execution_count": 88,
   "id": "acc08fc3-0918-4e2b-b28f-c921aff84152",
   "metadata": {},
   "outputs": [
    {
     "name": "stdout",
     "output_type": "stream",
     "text": [
      "              precision    recall  f1-score   support\n",
      "\n",
      "           0       0.90      0.93      0.91      9513\n",
      "           1       0.92      0.89      0.90      8625\n",
      "\n",
      "    accuracy                           0.91     18138\n",
      "   macro avg       0.91      0.91      0.91     18138\n",
      "weighted avg       0.91      0.91      0.91     18138\n",
      "\n"
     ]
    }
   ],
   "source": [
    "print(classification_report(y_test,m_predict))"
   ]
  },
  {
   "cell_type": "markdown",
   "id": "bef5e0f2-77ae-4ded-8d73-c0a6df5c778e",
   "metadata": {},
   "source": [
    "Support Vector Machine : Classifier"
   ]
  },
  {
   "cell_type": "code",
   "execution_count": 89,
   "id": "0a8b1d7b-2f6c-43cf-b790-e53fd556043d",
   "metadata": {},
   "outputs": [],
   "source": [
    "# Support Vector Classifier model \n",
    "from sklearn.svm import SVC\n",
    "from sklearn.model_selection import GridSearchCV\n",
    "\n",
    "# defining parameter range\n",
    "param_grid = {'gamma': [0.1],'kernel': ['rbf','linear']}\n",
    "\n",
    "svc = GridSearchCV(SVC(), param_grid)\n",
    "\n",
    "# fitting the model for grid search\n",
    "Svc=svc.fit(X_train, y_train)\n",
    "s_predict=Svc.predict(X_test)"
   ]
  },
  {
   "cell_type": "code",
   "execution_count": 90,
   "id": "48c6cc5e-8c51-4b9e-a810-367a312421a0",
   "metadata": {},
   "outputs": [
    {
     "data": {
      "text/plain": [
       "0.9039585400815966"
      ]
     },
     "execution_count": 90,
     "metadata": {},
     "output_type": "execute_result"
    }
   ],
   "source": [
    "accuracy_score(y_test,s_predict)"
   ]
  },
  {
   "cell_type": "code",
   "execution_count": 91,
   "id": "47f01519-ae48-4cbe-9051-c9c855fd7e7c",
   "metadata": {},
   "outputs": [
    {
     "data": {
      "text/plain": [
       "array([[9206,  307],\n",
       "       [1435, 7190]], dtype=int64)"
      ]
     },
     "execution_count": 91,
     "metadata": {},
     "output_type": "execute_result"
    }
   ],
   "source": [
    "confusion_matrix(y_test,s_predict)"
   ]
  },
  {
   "cell_type": "code",
   "execution_count": 92,
   "id": "5c237578-ad84-4f0e-9020-88ebc451774d",
   "metadata": {},
   "outputs": [
    {
     "name": "stdout",
     "output_type": "stream",
     "text": [
      "              precision    recall  f1-score   support\n",
      "\n",
      "           0       0.87      0.97      0.91      9513\n",
      "           1       0.96      0.83      0.89      8625\n",
      "\n",
      "    accuracy                           0.90     18138\n",
      "   macro avg       0.91      0.90      0.90     18138\n",
      "weighted avg       0.91      0.90      0.90     18138\n",
      "\n"
     ]
    }
   ],
   "source": [
    "print(classification_report(y_test, s_predict))"
   ]
  },
  {
   "cell_type": "markdown",
   "id": "42bcc50a-9de4-4349-b6c8-3011a353d7c5",
   "metadata": {},
   "source": [
    "Comparision of Models"
   ]
  },
  {
   "cell_type": "code",
   "execution_count": 93,
   "id": "f35a9da1-420a-42cb-91a4-84afb3d75c54",
   "metadata": {},
   "outputs": [
    {
     "name": "stdout",
     "output_type": "stream",
     "text": [
      "Model: Logistic Regression\n",
      "Accuracy: 0.8728636012790826\n",
      "Confusion Matrix:\n",
      "[[9211  302]\n",
      " [2004 6621]]\n",
      "Classification Report:\n",
      "              precision    recall  f1-score   support\n",
      "\n",
      "           0       0.82      0.97      0.89      9513\n",
      "           1       0.96      0.77      0.85      8625\n",
      "\n",
      "    accuracy                           0.87     18138\n",
      "   macro avg       0.89      0.87      0.87     18138\n",
      "weighted avg       0.89      0.87      0.87     18138\n",
      "\n",
      "--------------------------------------------------\n",
      "Model: K-Nearest Neighbors\n",
      "Accuracy: 0.8857646929099129\n",
      "Confusion Matrix:\n",
      "[[8658  855]\n",
      " [1217 7408]]\n",
      "Classification Report:\n",
      "              precision    recall  f1-score   support\n",
      "\n",
      "           0       0.88      0.91      0.89      9513\n",
      "           1       0.90      0.86      0.88      8625\n",
      "\n",
      "    accuracy                           0.89     18138\n",
      "   macro avg       0.89      0.88      0.89     18138\n",
      "weighted avg       0.89      0.89      0.89     18138\n",
      "\n",
      "--------------------------------------------------\n",
      "Model: Naive Bayes\n",
      "Accuracy: 0.8573161318778255\n",
      "Confusion Matrix:\n",
      "[[9416   97]\n",
      " [2491 6134]]\n",
      "Classification Report:\n",
      "              precision    recall  f1-score   support\n",
      "\n",
      "           0       0.79      0.99      0.88      9513\n",
      "           1       0.98      0.71      0.83      8625\n",
      "\n",
      "    accuracy                           0.86     18138\n",
      "   macro avg       0.89      0.85      0.85     18138\n",
      "weighted avg       0.88      0.86      0.85     18138\n",
      "\n",
      "--------------------------------------------------\n",
      "Model: Decision Tree\n",
      "Accuracy: 0.85941118094608\n",
      "Confusion Matrix:\n",
      "[[8274 1239]\n",
      " [1311 7314]]\n",
      "Classification Report:\n",
      "              precision    recall  f1-score   support\n",
      "\n",
      "           0       0.86      0.87      0.87      9513\n",
      "           1       0.86      0.85      0.85      8625\n",
      "\n",
      "    accuracy                           0.86     18138\n",
      "   macro avg       0.86      0.86      0.86     18138\n",
      "weighted avg       0.86      0.86      0.86     18138\n",
      "\n",
      "--------------------------------------------------\n",
      "Model: Random Forest\n",
      "Accuracy: 0.8679567758297497\n",
      "Confusion Matrix:\n",
      "[[8411 1102]\n",
      " [1293 7332]]\n",
      "Classification Report:\n",
      "              precision    recall  f1-score   support\n",
      "\n",
      "           0       0.87      0.88      0.88      9513\n",
      "           1       0.87      0.85      0.86      8625\n",
      "\n",
      "    accuracy                           0.87     18138\n",
      "   macro avg       0.87      0.87      0.87     18138\n",
      "weighted avg       0.87      0.87      0.87     18138\n",
      "\n",
      "--------------------------------------------------\n",
      "Model: Gradient Boosting\n",
      "Accuracy: 0.9076524423861506\n",
      "Confusion Matrix:\n",
      "[[9028  485]\n",
      " [1190 7435]]\n",
      "Classification Report:\n",
      "              precision    recall  f1-score   support\n",
      "\n",
      "           0       0.88      0.95      0.92      9513\n",
      "           1       0.94      0.86      0.90      8625\n",
      "\n",
      "    accuracy                           0.91     18138\n",
      "   macro avg       0.91      0.91      0.91     18138\n",
      "weighted avg       0.91      0.91      0.91     18138\n",
      "\n",
      "--------------------------------------------------\n",
      "Model: Multi-Layer Perceptron\n",
      "Accuracy: 0.9093064284926673\n",
      "Confusion Matrix:\n",
      "[[9063  450]\n",
      " [1195 7430]]\n",
      "Classification Report:\n",
      "              precision    recall  f1-score   support\n",
      "\n",
      "           0       0.88      0.95      0.92      9513\n",
      "           1       0.94      0.86      0.90      8625\n",
      "\n",
      "    accuracy                           0.91     18138\n",
      "   macro avg       0.91      0.91      0.91     18138\n",
      "weighted avg       0.91      0.91      0.91     18138\n",
      "\n",
      "--------------------------------------------------\n",
      "Model: Support Vector\n",
      "Accuracy: 0.9024148197155144\n",
      "Confusion Matrix:\n",
      "[[9213  300]\n",
      " [1470 7155]]\n",
      "Classification Report:\n",
      "              precision    recall  f1-score   support\n",
      "\n",
      "           0       0.86      0.97      0.91      9513\n",
      "           1       0.96      0.83      0.89      8625\n",
      "\n",
      "    accuracy                           0.90     18138\n",
      "   macro avg       0.91      0.90      0.90     18138\n",
      "weighted avg       0.91      0.90      0.90     18138\n",
      "\n",
      "--------------------------------------------------\n"
     ]
    }
   ],
   "source": [
    "# Instantiate the models\n",
    "logistic_regression = LogisticRegression()\n",
    "knn = KNeighborsClassifier()\n",
    "naive_bayes = GaussianNB()\n",
    "decision_tree = DecisionTreeClassifier(max_depth=30)\n",
    "random_forest = RandomForestClassifier(n_estimators=10)\n",
    "gradient_boosting = GradientBoostingClassifier(max_depth=4, learning_rate=0.7)\n",
    "mlp = MLPClassifier()\n",
    "svc = SVC()\n",
    "\n",
    "# Train and predict for each model\n",
    "models = [\n",
    "    (\"Logistic Regression\", logistic_regression),\n",
    "    (\"K-Nearest Neighbors\", knn),\n",
    "    (\"Naive Bayes\", naive_bayes),\n",
    "    (\"Decision Tree\", decision_tree),\n",
    "    (\"Random Forest\", random_forest),\n",
    "    (\"Gradient Boosting\", gradient_boosting),\n",
    "    (\"Multi-Layer Perceptron\", mlp),\n",
    "    (\"Support Vector\", svc)\n",
    "]\n",
    "\n",
    "for model_name, model in models:\n",
    "    print(f\"Model: {model_name}\")\n",
    "    \n",
    "    # Fit the model\n",
    "    model.fit(X_train, y_train)\n",
    "    \n",
    "    # Predict\n",
    "    y_pred = model.predict(X_test)\n",
    "    \n",
    "    # Evaluation metrics\n",
    "    accuracy = accuracy_score(y_test, y_pred)\n",
    "    confusion = confusion_matrix(y_test, y_pred)\n",
    "    classification = classification_report(y_test, y_pred)\n",
    "    \n",
    "    print(f\"Accuracy: {accuracy}\")\n",
    "    print(f\"Confusion Matrix:\\n{confusion}\")\n",
    "    print(f\"Classification Report:\\n{classification}\")\n",
    "    print(\"-\" * 50)"
   ]
  },
  {
   "cell_type": "markdown",
   "id": "21f3752a-fb83-4287-8e93-70a7d6e3035c",
   "metadata": {},
   "source": [
    "Testing the Model"
   ]
  },
  {
   "cell_type": "code",
   "execution_count": 94,
   "id": "6d053ba7-f986-4f8b-ae87-9d903f206f81",
   "metadata": {},
   "outputs": [
    {
     "data": {
      "text/html": [
       "<div>\n",
       "<style scoped>\n",
       "    .dataframe tbody tr th:only-of-type {\n",
       "        vertical-align: middle;\n",
       "    }\n",
       "\n",
       "    .dataframe tbody tr th {\n",
       "        vertical-align: top;\n",
       "    }\n",
       "\n",
       "    .dataframe thead th {\n",
       "        text-align: right;\n",
       "    }\n",
       "</style>\n",
       "<table border=\"1\" class=\"dataframe\">\n",
       "  <thead>\n",
       "    <tr style=\"text-align: right;\">\n",
       "      <th></th>\n",
       "      <th>url_length</th>\n",
       "      <th>url_has_http//</th>\n",
       "      <th>url_has_https//</th>\n",
       "      <th>url_contains_num</th>\n",
       "      <th>url_num_dots</th>\n",
       "      <th>url_num_slashes</th>\n",
       "      <th>number_of_dash</th>\n",
       "      <th>has_at_symbol</th>\n",
       "      <th>has_tilde_symbol</th>\n",
       "      <th>number_of_underscore</th>\n",
       "      <th>number_of_numpercent</th>\n",
       "      <th>number_of_ampersand</th>\n",
       "      <th>number_of_hash</th>\n",
       "      <th>url_contains_ip</th>\n",
       "    </tr>\n",
       "  </thead>\n",
       "  <tbody>\n",
       "    <tr>\n",
       "      <th>0</th>\n",
       "      <td>-0.229294</td>\n",
       "      <td>-0.680061</td>\n",
       "      <td>0.670074</td>\n",
       "      <td>0.622208</td>\n",
       "      <td>0.364170</td>\n",
       "      <td>-0.133377</td>\n",
       "      <td>0.329885</td>\n",
       "      <td>-0.208349</td>\n",
       "      <td>-0.149128</td>\n",
       "      <td>-0.407268</td>\n",
       "      <td>-0.153354</td>\n",
       "      <td>-0.295187</td>\n",
       "      <td>-0.036462</td>\n",
       "      <td>-0.126707</td>\n",
       "    </tr>\n",
       "    <tr>\n",
       "      <th>1</th>\n",
       "      <td>-0.411485</td>\n",
       "      <td>1.470457</td>\n",
       "      <td>-1.492371</td>\n",
       "      <td>0.622208</td>\n",
       "      <td>0.364170</td>\n",
       "      <td>0.302183</td>\n",
       "      <td>-0.576583</td>\n",
       "      <td>-0.208349</td>\n",
       "      <td>-0.149128</td>\n",
       "      <td>-0.407268</td>\n",
       "      <td>-0.153354</td>\n",
       "      <td>-0.295187</td>\n",
       "      <td>-0.036462</td>\n",
       "      <td>7.892199</td>\n",
       "    </tr>\n",
       "    <tr>\n",
       "      <th>2</th>\n",
       "      <td>-0.330511</td>\n",
       "      <td>1.470457</td>\n",
       "      <td>-1.492371</td>\n",
       "      <td>0.622208</td>\n",
       "      <td>-0.587180</td>\n",
       "      <td>0.302183</td>\n",
       "      <td>-0.576583</td>\n",
       "      <td>-0.208349</td>\n",
       "      <td>-0.149128</td>\n",
       "      <td>0.372053</td>\n",
       "      <td>-0.153354</td>\n",
       "      <td>-0.295187</td>\n",
       "      <td>-0.036462</td>\n",
       "      <td>-0.126707</td>\n",
       "    </tr>\n",
       "    <tr>\n",
       "      <th>3</th>\n",
       "      <td>-0.269781</td>\n",
       "      <td>-0.680061</td>\n",
       "      <td>0.670074</td>\n",
       "      <td>0.622208</td>\n",
       "      <td>-0.111505</td>\n",
       "      <td>0.302183</td>\n",
       "      <td>-0.349966</td>\n",
       "      <td>-0.208349</td>\n",
       "      <td>-0.149128</td>\n",
       "      <td>-0.407268</td>\n",
       "      <td>-0.153354</td>\n",
       "      <td>-0.295187</td>\n",
       "      <td>-0.036462</td>\n",
       "      <td>-0.126707</td>\n",
       "    </tr>\n",
       "    <tr>\n",
       "      <th>4</th>\n",
       "      <td>-0.013363</td>\n",
       "      <td>-0.680061</td>\n",
       "      <td>0.670074</td>\n",
       "      <td>-1.607180</td>\n",
       "      <td>-0.111505</td>\n",
       "      <td>-0.133377</td>\n",
       "      <td>-0.576583</td>\n",
       "      <td>-0.208349</td>\n",
       "      <td>-0.149128</td>\n",
       "      <td>-0.017608</td>\n",
       "      <td>-0.153354</td>\n",
       "      <td>0.263428</td>\n",
       "      <td>-0.036462</td>\n",
       "      <td>-0.126707</td>\n",
       "    </tr>\n",
       "    <tr>\n",
       "      <th>5</th>\n",
       "      <td>-0.094337</td>\n",
       "      <td>-0.680061</td>\n",
       "      <td>0.670074</td>\n",
       "      <td>0.622208</td>\n",
       "      <td>-0.111505</td>\n",
       "      <td>-0.568937</td>\n",
       "      <td>-0.576583</td>\n",
       "      <td>-0.208349</td>\n",
       "      <td>-0.149128</td>\n",
       "      <td>2.320354</td>\n",
       "      <td>-0.153354</td>\n",
       "      <td>-0.295187</td>\n",
       "      <td>-0.036462</td>\n",
       "      <td>-0.126707</td>\n",
       "    </tr>\n",
       "    <tr>\n",
       "      <th>6</th>\n",
       "      <td>0.634428</td>\n",
       "      <td>1.470457</td>\n",
       "      <td>-1.492371</td>\n",
       "      <td>0.622208</td>\n",
       "      <td>1.791196</td>\n",
       "      <td>-0.568937</td>\n",
       "      <td>-0.123349</td>\n",
       "      <td>4.799643</td>\n",
       "      <td>-0.149128</td>\n",
       "      <td>0.761713</td>\n",
       "      <td>-0.153354</td>\n",
       "      <td>1.380659</td>\n",
       "      <td>-0.036462</td>\n",
       "      <td>-0.126707</td>\n",
       "    </tr>\n",
       "    <tr>\n",
       "      <th>7</th>\n",
       "      <td>0.094602</td>\n",
       "      <td>-0.680061</td>\n",
       "      <td>0.670074</td>\n",
       "      <td>0.622208</td>\n",
       "      <td>-0.587180</td>\n",
       "      <td>-0.133377</td>\n",
       "      <td>1.009736</td>\n",
       "      <td>-0.208349</td>\n",
       "      <td>-0.149128</td>\n",
       "      <td>-0.407268</td>\n",
       "      <td>-0.153354</td>\n",
       "      <td>-0.295187</td>\n",
       "      <td>-0.036462</td>\n",
       "      <td>-0.126707</td>\n",
       "    </tr>\n",
       "    <tr>\n",
       "      <th>8</th>\n",
       "      <td>-0.155068</td>\n",
       "      <td>-0.680061</td>\n",
       "      <td>0.670074</td>\n",
       "      <td>0.622208</td>\n",
       "      <td>-0.587180</td>\n",
       "      <td>-0.133377</td>\n",
       "      <td>0.783119</td>\n",
       "      <td>-0.208349</td>\n",
       "      <td>-0.149128</td>\n",
       "      <td>-0.017608</td>\n",
       "      <td>-0.153354</td>\n",
       "      <td>-0.295187</td>\n",
       "      <td>-0.036462</td>\n",
       "      <td>-0.126707</td>\n",
       "    </tr>\n",
       "    <tr>\n",
       "      <th>9</th>\n",
       "      <td>0.890845</td>\n",
       "      <td>-0.680061</td>\n",
       "      <td>0.670074</td>\n",
       "      <td>0.622208</td>\n",
       "      <td>1.315521</td>\n",
       "      <td>2.044423</td>\n",
       "      <td>-0.349966</td>\n",
       "      <td>-0.208349</td>\n",
       "      <td>-0.149128</td>\n",
       "      <td>0.372053</td>\n",
       "      <td>1.553732</td>\n",
       "      <td>1.939275</td>\n",
       "      <td>-0.036462</td>\n",
       "      <td>-0.126707</td>\n",
       "    </tr>\n",
       "    <tr>\n",
       "      <th>10</th>\n",
       "      <td>-0.384494</td>\n",
       "      <td>-0.680061</td>\n",
       "      <td>0.670074</td>\n",
       "      <td>0.622208</td>\n",
       "      <td>-0.587180</td>\n",
       "      <td>-1.440057</td>\n",
       "      <td>-0.349966</td>\n",
       "      <td>-0.208349</td>\n",
       "      <td>-0.149128</td>\n",
       "      <td>-0.407268</td>\n",
       "      <td>-0.153354</td>\n",
       "      <td>-0.295187</td>\n",
       "      <td>-0.036462</td>\n",
       "      <td>-0.126707</td>\n",
       "    </tr>\n",
       "    <tr>\n",
       "      <th>11</th>\n",
       "      <td>-0.242789</td>\n",
       "      <td>1.470457</td>\n",
       "      <td>-1.492371</td>\n",
       "      <td>-1.607180</td>\n",
       "      <td>-0.587180</td>\n",
       "      <td>0.737743</td>\n",
       "      <td>-0.576583</td>\n",
       "      <td>-0.208349</td>\n",
       "      <td>-0.149128</td>\n",
       "      <td>0.372053</td>\n",
       "      <td>-0.153354</td>\n",
       "      <td>-0.295187</td>\n",
       "      <td>-0.036462</td>\n",
       "      <td>-0.126707</td>\n",
       "    </tr>\n",
       "    <tr>\n",
       "      <th>12</th>\n",
       "      <td>0.081106</td>\n",
       "      <td>1.470457</td>\n",
       "      <td>-1.492371</td>\n",
       "      <td>-1.607180</td>\n",
       "      <td>0.839846</td>\n",
       "      <td>1.608863</td>\n",
       "      <td>-0.349966</td>\n",
       "      <td>4.799643</td>\n",
       "      <td>-0.149128</td>\n",
       "      <td>-0.407268</td>\n",
       "      <td>-0.153354</td>\n",
       "      <td>-0.295187</td>\n",
       "      <td>-0.036462</td>\n",
       "      <td>-0.126707</td>\n",
       "    </tr>\n",
       "    <tr>\n",
       "      <th>13</th>\n",
       "      <td>-0.242789</td>\n",
       "      <td>1.470457</td>\n",
       "      <td>-1.492371</td>\n",
       "      <td>-1.607180</td>\n",
       "      <td>-0.587180</td>\n",
       "      <td>0.737743</td>\n",
       "      <td>-0.349966</td>\n",
       "      <td>-0.208349</td>\n",
       "      <td>-0.149128</td>\n",
       "      <td>0.372053</td>\n",
       "      <td>-0.153354</td>\n",
       "      <td>-0.295187</td>\n",
       "      <td>-0.036462</td>\n",
       "      <td>-0.126707</td>\n",
       "    </tr>\n",
       "    <tr>\n",
       "      <th>14</th>\n",
       "      <td>-0.229294</td>\n",
       "      <td>-0.680061</td>\n",
       "      <td>0.670074</td>\n",
       "      <td>-1.607180</td>\n",
       "      <td>0.839846</td>\n",
       "      <td>-0.568937</td>\n",
       "      <td>-0.576583</td>\n",
       "      <td>-0.208349</td>\n",
       "      <td>-0.149128</td>\n",
       "      <td>-0.017608</td>\n",
       "      <td>-0.153354</td>\n",
       "      <td>-0.295187</td>\n",
       "      <td>-0.036462</td>\n",
       "      <td>-0.126707</td>\n",
       "    </tr>\n",
       "    <tr>\n",
       "      <th>15</th>\n",
       "      <td>-0.168563</td>\n",
       "      <td>-0.680061</td>\n",
       "      <td>0.670074</td>\n",
       "      <td>-1.607180</td>\n",
       "      <td>-0.111505</td>\n",
       "      <td>-0.568937</td>\n",
       "      <td>0.329885</td>\n",
       "      <td>-0.208349</td>\n",
       "      <td>-0.149128</td>\n",
       "      <td>-0.407268</td>\n",
       "      <td>-0.153354</td>\n",
       "      <td>-0.295187</td>\n",
       "      <td>-0.036462</td>\n",
       "      <td>-0.126707</td>\n",
       "    </tr>\n",
       "    <tr>\n",
       "      <th>16</th>\n",
       "      <td>-0.370998</td>\n",
       "      <td>-0.680061</td>\n",
       "      <td>0.670074</td>\n",
       "      <td>0.622208</td>\n",
       "      <td>-1.062856</td>\n",
       "      <td>-0.133377</td>\n",
       "      <td>-0.576583</td>\n",
       "      <td>-0.208349</td>\n",
       "      <td>-0.149128</td>\n",
       "      <td>-0.407268</td>\n",
       "      <td>-0.153354</td>\n",
       "      <td>-0.295187</td>\n",
       "      <td>-0.036462</td>\n",
       "      <td>-0.126707</td>\n",
       "    </tr>\n",
       "    <tr>\n",
       "      <th>17</th>\n",
       "      <td>0.054115</td>\n",
       "      <td>-0.680061</td>\n",
       "      <td>0.670074</td>\n",
       "      <td>0.622208</td>\n",
       "      <td>-0.111505</td>\n",
       "      <td>0.302183</td>\n",
       "      <td>-0.576583</td>\n",
       "      <td>-0.208349</td>\n",
       "      <td>-0.149128</td>\n",
       "      <td>-0.407268</td>\n",
       "      <td>-0.153354</td>\n",
       "      <td>-0.295187</td>\n",
       "      <td>-0.036462</td>\n",
       "      <td>-0.126707</td>\n",
       "    </tr>\n",
       "    <tr>\n",
       "      <th>18</th>\n",
       "      <td>-0.188807</td>\n",
       "      <td>-0.680061</td>\n",
       "      <td>0.670074</td>\n",
       "      <td>-1.607180</td>\n",
       "      <td>-0.111505</td>\n",
       "      <td>-0.133377</td>\n",
       "      <td>-0.576583</td>\n",
       "      <td>-0.208349</td>\n",
       "      <td>-0.149128</td>\n",
       "      <td>-0.407268</td>\n",
       "      <td>-0.153354</td>\n",
       "      <td>-0.295187</td>\n",
       "      <td>-0.036462</td>\n",
       "      <td>-0.126707</td>\n",
       "    </tr>\n",
       "    <tr>\n",
       "      <th>19</th>\n",
       "      <td>-0.107833</td>\n",
       "      <td>-0.680061</td>\n",
       "      <td>0.670074</td>\n",
       "      <td>0.622208</td>\n",
       "      <td>-0.111505</td>\n",
       "      <td>-0.568937</td>\n",
       "      <td>-0.349966</td>\n",
       "      <td>-0.208349</td>\n",
       "      <td>-0.149128</td>\n",
       "      <td>-0.407268</td>\n",
       "      <td>-0.153354</td>\n",
       "      <td>0.822044</td>\n",
       "      <td>-0.036462</td>\n",
       "      <td>-0.126707</td>\n",
       "    </tr>\n",
       "  </tbody>\n",
       "</table>\n",
       "</div>"
      ],
      "text/plain": [
       "    url_length  url_has_http//  url_has_https//  url_contains_num  \\\n",
       "0    -0.229294       -0.680061         0.670074          0.622208   \n",
       "1    -0.411485        1.470457        -1.492371          0.622208   \n",
       "2    -0.330511        1.470457        -1.492371          0.622208   \n",
       "3    -0.269781       -0.680061         0.670074          0.622208   \n",
       "4    -0.013363       -0.680061         0.670074         -1.607180   \n",
       "5    -0.094337       -0.680061         0.670074          0.622208   \n",
       "6     0.634428        1.470457        -1.492371          0.622208   \n",
       "7     0.094602       -0.680061         0.670074          0.622208   \n",
       "8    -0.155068       -0.680061         0.670074          0.622208   \n",
       "9     0.890845       -0.680061         0.670074          0.622208   \n",
       "10   -0.384494       -0.680061         0.670074          0.622208   \n",
       "11   -0.242789        1.470457        -1.492371         -1.607180   \n",
       "12    0.081106        1.470457        -1.492371         -1.607180   \n",
       "13   -0.242789        1.470457        -1.492371         -1.607180   \n",
       "14   -0.229294       -0.680061         0.670074         -1.607180   \n",
       "15   -0.168563       -0.680061         0.670074         -1.607180   \n",
       "16   -0.370998       -0.680061         0.670074          0.622208   \n",
       "17    0.054115       -0.680061         0.670074          0.622208   \n",
       "18   -0.188807       -0.680061         0.670074         -1.607180   \n",
       "19   -0.107833       -0.680061         0.670074          0.622208   \n",
       "\n",
       "    url_num_dots  url_num_slashes  number_of_dash  has_at_symbol  \\\n",
       "0       0.364170        -0.133377        0.329885      -0.208349   \n",
       "1       0.364170         0.302183       -0.576583      -0.208349   \n",
       "2      -0.587180         0.302183       -0.576583      -0.208349   \n",
       "3      -0.111505         0.302183       -0.349966      -0.208349   \n",
       "4      -0.111505        -0.133377       -0.576583      -0.208349   \n",
       "5      -0.111505        -0.568937       -0.576583      -0.208349   \n",
       "6       1.791196        -0.568937       -0.123349       4.799643   \n",
       "7      -0.587180        -0.133377        1.009736      -0.208349   \n",
       "8      -0.587180        -0.133377        0.783119      -0.208349   \n",
       "9       1.315521         2.044423       -0.349966      -0.208349   \n",
       "10     -0.587180        -1.440057       -0.349966      -0.208349   \n",
       "11     -0.587180         0.737743       -0.576583      -0.208349   \n",
       "12      0.839846         1.608863       -0.349966       4.799643   \n",
       "13     -0.587180         0.737743       -0.349966      -0.208349   \n",
       "14      0.839846        -0.568937       -0.576583      -0.208349   \n",
       "15     -0.111505        -0.568937        0.329885      -0.208349   \n",
       "16     -1.062856        -0.133377       -0.576583      -0.208349   \n",
       "17     -0.111505         0.302183       -0.576583      -0.208349   \n",
       "18     -0.111505        -0.133377       -0.576583      -0.208349   \n",
       "19     -0.111505        -0.568937       -0.349966      -0.208349   \n",
       "\n",
       "    has_tilde_symbol  number_of_underscore  number_of_numpercent  \\\n",
       "0          -0.149128             -0.407268             -0.153354   \n",
       "1          -0.149128             -0.407268             -0.153354   \n",
       "2          -0.149128              0.372053             -0.153354   \n",
       "3          -0.149128             -0.407268             -0.153354   \n",
       "4          -0.149128             -0.017608             -0.153354   \n",
       "5          -0.149128              2.320354             -0.153354   \n",
       "6          -0.149128              0.761713             -0.153354   \n",
       "7          -0.149128             -0.407268             -0.153354   \n",
       "8          -0.149128             -0.017608             -0.153354   \n",
       "9          -0.149128              0.372053              1.553732   \n",
       "10         -0.149128             -0.407268             -0.153354   \n",
       "11         -0.149128              0.372053             -0.153354   \n",
       "12         -0.149128             -0.407268             -0.153354   \n",
       "13         -0.149128              0.372053             -0.153354   \n",
       "14         -0.149128             -0.017608             -0.153354   \n",
       "15         -0.149128             -0.407268             -0.153354   \n",
       "16         -0.149128             -0.407268             -0.153354   \n",
       "17         -0.149128             -0.407268             -0.153354   \n",
       "18         -0.149128             -0.407268             -0.153354   \n",
       "19         -0.149128             -0.407268             -0.153354   \n",
       "\n",
       "    number_of_ampersand  number_of_hash  url_contains_ip  \n",
       "0             -0.295187       -0.036462        -0.126707  \n",
       "1             -0.295187       -0.036462         7.892199  \n",
       "2             -0.295187       -0.036462        -0.126707  \n",
       "3             -0.295187       -0.036462        -0.126707  \n",
       "4              0.263428       -0.036462        -0.126707  \n",
       "5             -0.295187       -0.036462        -0.126707  \n",
       "6              1.380659       -0.036462        -0.126707  \n",
       "7             -0.295187       -0.036462        -0.126707  \n",
       "8             -0.295187       -0.036462        -0.126707  \n",
       "9              1.939275       -0.036462        -0.126707  \n",
       "10            -0.295187       -0.036462        -0.126707  \n",
       "11            -0.295187       -0.036462        -0.126707  \n",
       "12            -0.295187       -0.036462        -0.126707  \n",
       "13            -0.295187       -0.036462        -0.126707  \n",
       "14            -0.295187       -0.036462        -0.126707  \n",
       "15            -0.295187       -0.036462        -0.126707  \n",
       "16            -0.295187       -0.036462        -0.126707  \n",
       "17            -0.295187       -0.036462        -0.126707  \n",
       "18            -0.295187       -0.036462        -0.126707  \n",
       "19             0.822044       -0.036462        -0.126707  "
      ]
     },
     "execution_count": 94,
     "metadata": {},
     "output_type": "execute_result"
    }
   ],
   "source": [
    "X_train.head(20)"
   ]
  },
  {
   "cell_type": "code",
   "execution_count": 95,
   "id": "5957f109-3e17-4058-a896-4d86d57a89f7",
   "metadata": {},
   "outputs": [
    {
     "data": {
      "text/plain": [
       "url_length             -0.134824\n",
       "url_has_http//         -0.680061\n",
       "url_has_https//         0.670074\n",
       "url_contains_num        0.622208\n",
       "url_num_dots           -0.111505\n",
       "url_num_slashes        -0.568937\n",
       "number_of_dash         -0.576583\n",
       "has_at_symbol          -0.208349\n",
       "has_tilde_symbol       -0.149128\n",
       "number_of_underscore   -0.017608\n",
       "number_of_numpercent   -0.153354\n",
       "number_of_ampersand     0.263428\n",
       "number_of_hash         -0.036462\n",
       "url_contains_ip        -0.126707\n",
       "Name: 480, dtype: float64"
      ]
     },
     "execution_count": 95,
     "metadata": {},
     "output_type": "execute_result"
    }
   ],
   "source": [
    "X_train.iloc[480]"
   ]
  },
  {
   "cell_type": "code",
   "execution_count": 43,
   "id": "3f87c2ee-230f-44a9-9ca5-f2ee22cd1fa2",
   "metadata": {},
   "outputs": [
    {
     "data": {
      "text/plain": [
       "array([1], dtype=int64)"
      ]
     },
     "execution_count": 43,
     "metadata": {},
     "output_type": "execute_result"
    }
   ],
   "source": [
    "Gbc.predict([[36,\t0,\t1,\t0,\t2,\t5,\t0,\t0,\t0,\t0,\t0,\t0,\t0,\t0]])"
   ]
  },
  {
   "cell_type": "markdown",
   "id": "00dfa835-6e6a-4f6a-a874-6b2655c94205",
   "metadata": {},
   "source": [
    "Storing Best Model"
   ]
  },
  {
   "cell_type": "code",
   "execution_count": 115,
   "id": "a4551261-12ab-4a56-a196-5010dfa96b05",
   "metadata": {},
   "outputs": [],
   "source": [
    "import pickle\n",
    "\n",
    "# dump information to that file\n",
    "pickle.dump(Gbc, open('PhisLex.pkl', 'wb'))"
   ]
  },
  {
   "cell_type": "code",
   "execution_count": null,
   "id": "49f8123d-b04c-4f32-ac1f-c8d33c6f5ccb",
   "metadata": {},
   "outputs": [],
   "source": []
  },
  {
   "cell_type": "code",
   "execution_count": null,
   "id": "05aa129f-f3e5-4ef2-8a78-b5911b7a9d05",
   "metadata": {},
   "outputs": [],
   "source": []
  },
  {
   "cell_type": "code",
   "execution_count": 50,
   "id": "67eeed30-4f31-4564-920b-df33bce0f41b",
   "metadata": {},
   "outputs": [
    {
     "name": "stdin",
     "output_type": "stream",
     "text": [
      "Enter a URL:  www.jhhsjfhjfh?jfkjk####fsjfksjf/!!!?fksjfkjskfj/899898\n"
     ]
    },
    {
     "name": "stdout",
     "output_type": "stream",
     "text": [
      "[1]\n"
     ]
    }
   ],
   "source": [
    "import pandas as pd\n",
    "import re\n",
    "from sklearn.ensemble import GradientBoostingClassifier\n",
    "\n",
    "# Define the process_url function\n",
    "def process_url(user_input_url):\n",
    "    data = {'url': [user_input_url]}\n",
    "    df = pd.DataFrame(data)\n",
    "    \n",
    "    # Calculating various features\n",
    "    df['url_length'] = df['url'].apply(lambda x: len(x))\n",
    "    df['url_has_http'] = df['url'].apply(lambda x: 1 if 'http://' in x else 0)\n",
    "    df['url_has_https'] = df['url'].apply(lambda x: 1 if 'https://' in x else 0)\n",
    "    df['url_contains_num'] = df['url'].apply(lambda url: 1 if re.search(r'\\d', url) else 0)\n",
    "    df['url_num_dots'] = df['url'].apply(lambda x: x.count('.'))\n",
    "    df['url_num_slashes'] = df['url'].apply(lambda x: x.count('/'))\n",
    "    df['number_of_dash'] = df['url'].apply(lambda x: x.count('-'))\n",
    "    df['has_at_symbol'] = df['url'].apply(lambda x: 1 if '@' in x else 0)\n",
    "    df['has_tilde_symbol'] = df['url'].apply(lambda x: 1 if '~' in x else 0)\n",
    "    df['number_of_underscore'] = df['url'].apply(lambda x: x.count('_'))\n",
    "    df['number_of_numpercent'] = df['url'].apply(lambda x: x.count('%'))\n",
    "    df['number_of_ampersand'] = df['url'].apply(lambda x: x.count('&'))\n",
    "    df['number_of_hash'] = df['url'].apply(lambda x: x.count('#'))\n",
    "    df['url_contains_ip'] = df['url'].apply(lambda url: 1 if re.search(r'\\b(?:[0-9]{1,3}\\.){3}[0-9]{1,3}\\b', url) else 0)\n",
    "    \n",
    "    # Create the output format\n",
    "    output_format = [df['url_length'].iloc[0],\n",
    "                     df['url_has_http'].iloc[0],\n",
    "                     df['url_has_https'].iloc[0],\n",
    "                     df['url_contains_num'].iloc[0],\n",
    "                     df['url_num_dots'].iloc[0],\n",
    "                     df['url_num_slashes'].iloc[0],\n",
    "                     df['number_of_dash'].iloc[0],\n",
    "                     df['has_at_symbol'].iloc[0],\n",
    "                     df['has_tilde_symbol'].iloc[0],\n",
    "                     df['number_of_underscore'].iloc[0],\n",
    "                     df['number_of_numpercent'].iloc[0],\n",
    "                     df['number_of_ampersand'].iloc[0],\n",
    "                     df['number_of_hash'].iloc[0],\n",
    "                     df['url_contains_ip'].iloc[0]]\n",
    "    \n",
    "    return output_format\n",
    "\n",
    "# Example of usage:\n",
    "user_input_url = input(\"Enter a URL: \")\n",
    "url_features = process_url(user_input_url)\n",
    "\n",
    "# Assuming Gbc is already trained and defined elsewhere\n",
    "# Gbc = GradientBoostingClassifier()  # This should be your trained classifier\n",
    "# Gbc.fit(X_train, y_train)  # You would normally fit your classifier with training data\n",
    "\n",
    "# Now use the processed URL features to predict\n",
    "prediction = Gbc.predict([url_features])\n",
    "print(prediction)\n"
   ]
  },
  {
   "cell_type": "code",
   "execution_count": null,
   "id": "52ec4f29-3cc5-453d-89d5-ee29570fe49d",
   "metadata": {},
   "outputs": [],
   "source": [
    "Gbc.predict([[36,\t0,\t1,\t0,\t2,\t5,\t0,\t0,\t0,\t0,\t0,\t0,\t0,\t0]])"
   ]
  },
  {
   "cell_type": "code",
   "execution_count": null,
   "id": "1a283c48-4324-46e7-8ce8-293dc3dce3f5",
   "metadata": {},
   "outputs": [],
   "source": []
  }
 ],
 "metadata": {
  "kernelspec": {
   "display_name": "Python 3 (ipykernel)",
   "language": "python",
   "name": "python3"
  },
  "language_info": {
   "codemirror_mode": {
    "name": "ipython",
    "version": 3
   },
   "file_extension": ".py",
   "mimetype": "text/x-python",
   "name": "python",
   "nbconvert_exporter": "python",
   "pygments_lexer": "ipython3",
   "version": "3.12.0"
  }
 },
 "nbformat": 4,
 "nbformat_minor": 5
}
