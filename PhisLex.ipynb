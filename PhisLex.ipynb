{
 "cells": [
  {
   "cell_type": "markdown",
   "id": "a50fc659-bec1-4979-9b59-1f71e543f4c3",
   "metadata": {},
   "source": [
    "Load libraries"
   ]
  },
  {
   "cell_type": "code",
   "execution_count": 45,
   "id": "56eae717-36b8-47e0-8d84-2121558bea1d",
   "metadata": {
    "id": "56eae717-36b8-47e0-8d84-2121558bea1d"
   },
   "outputs": [],
   "source": [
    "import pandas as pd\n",
    "import numpy as np\n",
    "import re\n",
    "from sklearn.ensemble import RandomForestClassifier\n",
    "from sklearn.model_selection import train_test_split\n",
    "from sklearn.metrics import confusion_matrix,classification_report,accuracy_score\n",
    "from xgboost.sklearn import XGBClassifier\n",
    "from sklearn.linear_model import LogisticRegression\n",
    "import matplotlib.pyplot as plt\n",
    "%matplotlib inline\n",
    "import seaborn as sns\n",
    "from sklearn import metrics\n",
    "import re\n",
    "import warnings\n",
    "warnings.filterwarnings('ignore')"
   ]
  },
  {
   "cell_type": "markdown",
   "id": "5986acd4-3db6-41d0-afeb-9a61394f69c3",
   "metadata": {},
   "source": [
    "Load URLs data"
   ]
  },
  {
   "cell_type": "code",
   "execution_count": 2,
   "id": "16179a43-d62e-4a61-b93d-3949f97336cd",
   "metadata": {
    "colab": {
     "base_uri": "https://localhost:8080/",
     "height": 304
    },
    "id": "16179a43-d62e-4a61-b93d-3949f97336cd",
    "outputId": "c22cb971-bc54-4797-8024-979f14d8e286"
   },
   "outputs": [],
   "source": [
    "df = pd.read_csv('urldataset.csv')"
   ]
  },
  {
   "cell_type": "code",
   "execution_count": 3,
   "id": "3677ed38-be92-4c3e-b432-50c7e6229afa",
   "metadata": {
    "id": "3677ed38-be92-4c3e-b432-50c7e6229afa",
    "outputId": "85eefd12-5a85-4483-9ffe-3ef12341c529"
   },
   "outputs": [
    {
     "data": {
      "text/html": [
       "<div>\n",
       "<style scoped>\n",
       "    .dataframe tbody tr th:only-of-type {\n",
       "        vertical-align: middle;\n",
       "    }\n",
       "\n",
       "    .dataframe tbody tr th {\n",
       "        vertical-align: top;\n",
       "    }\n",
       "\n",
       "    .dataframe thead th {\n",
       "        text-align: right;\n",
       "    }\n",
       "</style>\n",
       "<table border=\"1\" class=\"dataframe\">\n",
       "  <thead>\n",
       "    <tr style=\"text-align: right;\">\n",
       "      <th></th>\n",
       "      <th>url</th>\n",
       "      <th>result</th>\n",
       "    </tr>\n",
       "  </thead>\n",
       "  <tbody>\n",
       "    <tr>\n",
       "      <th>0</th>\n",
       "      <td>https://sellait.site/id/app/user.php</td>\n",
       "      <td>1</td>\n",
       "    </tr>\n",
       "    <tr>\n",
       "      <th>1</th>\n",
       "      <td>https://solucioneskinesicas.com/Sella/app/user...</td>\n",
       "      <td>1</td>\n",
       "    </tr>\n",
       "    <tr>\n",
       "      <th>2</th>\n",
       "      <td>https://open-spotify.site/it/Autenticazione/ap...</td>\n",
       "      <td>1</td>\n",
       "    </tr>\n",
       "    <tr>\n",
       "      <th>3</th>\n",
       "      <td>https://sellabanca.site/Autenticazione/app/use...</td>\n",
       "      <td>1</td>\n",
       "    </tr>\n",
       "    <tr>\n",
       "      <th>4</th>\n",
       "      <td>https://1r5applmnt.com</td>\n",
       "      <td>1</td>\n",
       "    </tr>\n",
       "  </tbody>\n",
       "</table>\n",
       "</div>"
      ],
      "text/plain": [
       "                                                 url  result\n",
       "0               https://sellait.site/id/app/user.php       1\n",
       "1  https://solucioneskinesicas.com/Sella/app/user...       1\n",
       "2  https://open-spotify.site/it/Autenticazione/ap...       1\n",
       "3  https://sellabanca.site/Autenticazione/app/use...       1\n",
       "4                             https://1r5applmnt.com       1"
      ]
     },
     "execution_count": 3,
     "metadata": {},
     "output_type": "execute_result"
    }
   ],
   "source": [
    "df.head()"
   ]
  },
  {
   "cell_type": "code",
   "execution_count": 4,
   "id": "5ba6e4e4-3efd-480d-9a8f-6b250dca957a",
   "metadata": {},
   "outputs": [
    {
     "data": {
      "text/plain": [
       "(740122, 2)"
      ]
     },
     "execution_count": 4,
     "metadata": {},
     "output_type": "execute_result"
    }
   ],
   "source": [
    "df.shape"
   ]
  },
  {
   "cell_type": "markdown",
   "id": "bf5b2ffa-8d5e-430c-b92f-c44ec5d12c21",
   "metadata": {},
   "source": [
    "Extract Features"
   ]
  },
  {
   "cell_type": "code",
   "execution_count": 5,
   "id": "75877df4-8fa1-4e92-ad62-04f6c16ff035",
   "metadata": {
    "id": "75877df4-8fa1-4e92-ad62-04f6c16ff035"
   },
   "outputs": [],
   "source": [
    "# Length of URL\n",
    "df['url_length'] = df['url'].apply(lambda x: len(x))\n",
    "\n",
    "# URL has http\n",
    "df['url_has_http//'] = df['url'].apply(lambda x: 1 if 'http://' in x else 0)\n",
    "\n",
    "# URL has https\n",
    "df['url_has_https//'] = df['url'].apply(lambda x: 1 if 'https://' in x else 0)\n",
    "\n",
    "# URL has num\n",
    "df['url_contains_num'] = df['url'].apply(lambda url: 1 if re.search(r'\\d', url) else 0)\n",
    "\n",
    "# Number of dots\n",
    "df['url_num_dots'] = df['url'].apply(lambda x: x.count('.'))\n",
    "\n",
    "# Number of slashes\n",
    "df['url_num_slashes'] = df['url'].apply(lambda x: x.count('/'))\n",
    "\n",
    "# Number of Dash\n",
    "df['number_of_dash'] = df['url'].apply(lambda x: x.count('-'))\n",
    "\n",
    "# @ Symbol\n",
    "df['has_at_symbol'] = df['url'].apply(lambda x: 1 if '@' in x else 0)\n",
    "\n",
    "# Tilde Symbol\n",
    "df['has_tilde_symbol'] = df['url'].apply(lambda x: 1 if '~' in x else 0)\n",
    "\n",
    "# Number of Underscore\n",
    "df['number_of_underscore'] = df['url'].apply(lambda x: x.count('_'))\n",
    "\n",
    "# Number of NumPercent\n",
    "df['number_of_numpercent'] = df['url'].apply(lambda x: x.count('%'))\n",
    "\n",
    "# Number of Ampersand\n",
    "df['number_of_ampersand'] = df['url'].apply(lambda x: x.count('&'))\n",
    "\n",
    "# Number of Hash\n",
    "df['number_of_hash'] = df['url'].apply(lambda x: x.count('#'))\n",
    "\n",
    "# URL contains IP address\n",
    "df['url_contains_ip'] = df['url'].apply(lambda url: 1 if re.search(r'\\b(?:[0-9]{1,3}\\.){3}[0-9]{1,3}\\b', url) else 0)\n"
   ]
  },
  {
   "cell_type": "code",
   "execution_count": 6,
   "id": "abbf2c15-5bc8-46a6-a3ad-6e7dd1e8a202",
   "metadata": {
    "id": "abbf2c15-5bc8-46a6-a3ad-6e7dd1e8a202",
    "outputId": "adab52e1-f789-4bb0-b299-0c2651f26763"
   },
   "outputs": [
    {
     "data": {
      "text/html": [
       "<div>\n",
       "<style scoped>\n",
       "    .dataframe tbody tr th:only-of-type {\n",
       "        vertical-align: middle;\n",
       "    }\n",
       "\n",
       "    .dataframe tbody tr th {\n",
       "        vertical-align: top;\n",
       "    }\n",
       "\n",
       "    .dataframe thead th {\n",
       "        text-align: right;\n",
       "    }\n",
       "</style>\n",
       "<table border=\"1\" class=\"dataframe\">\n",
       "  <thead>\n",
       "    <tr style=\"text-align: right;\">\n",
       "      <th></th>\n",
       "      <th>url</th>\n",
       "      <th>result</th>\n",
       "      <th>url_length</th>\n",
       "      <th>url_has_http//</th>\n",
       "      <th>url_has_https//</th>\n",
       "      <th>url_contains_num</th>\n",
       "      <th>url_num_dots</th>\n",
       "      <th>url_num_slashes</th>\n",
       "      <th>number_of_dash</th>\n",
       "      <th>has_at_symbol</th>\n",
       "      <th>has_tilde_symbol</th>\n",
       "      <th>number_of_underscore</th>\n",
       "      <th>number_of_numpercent</th>\n",
       "      <th>number_of_ampersand</th>\n",
       "      <th>number_of_hash</th>\n",
       "      <th>url_contains_ip</th>\n",
       "    </tr>\n",
       "  </thead>\n",
       "  <tbody>\n",
       "    <tr>\n",
       "      <th>0</th>\n",
       "      <td>https://sellait.site/id/app/user.php</td>\n",
       "      <td>1</td>\n",
       "      <td>36</td>\n",
       "      <td>0</td>\n",
       "      <td>1</td>\n",
       "      <td>0</td>\n",
       "      <td>2</td>\n",
       "      <td>5</td>\n",
       "      <td>0</td>\n",
       "      <td>0</td>\n",
       "      <td>0</td>\n",
       "      <td>0</td>\n",
       "      <td>0</td>\n",
       "      <td>0</td>\n",
       "      <td>0</td>\n",
       "      <td>0</td>\n",
       "    </tr>\n",
       "    <tr>\n",
       "      <th>1</th>\n",
       "      <td>https://solucioneskinesicas.com/Sella/app/user...</td>\n",
       "      <td>1</td>\n",
       "      <td>50</td>\n",
       "      <td>0</td>\n",
       "      <td>1</td>\n",
       "      <td>0</td>\n",
       "      <td>2</td>\n",
       "      <td>5</td>\n",
       "      <td>0</td>\n",
       "      <td>0</td>\n",
       "      <td>0</td>\n",
       "      <td>0</td>\n",
       "      <td>0</td>\n",
       "      <td>0</td>\n",
       "      <td>0</td>\n",
       "      <td>0</td>\n",
       "    </tr>\n",
       "    <tr>\n",
       "      <th>2</th>\n",
       "      <td>https://open-spotify.site/it/Autenticazione/ap...</td>\n",
       "      <td>1</td>\n",
       "      <td>56</td>\n",
       "      <td>0</td>\n",
       "      <td>1</td>\n",
       "      <td>0</td>\n",
       "      <td>2</td>\n",
       "      <td>6</td>\n",
       "      <td>1</td>\n",
       "      <td>0</td>\n",
       "      <td>0</td>\n",
       "      <td>0</td>\n",
       "      <td>0</td>\n",
       "      <td>0</td>\n",
       "      <td>0</td>\n",
       "      <td>0</td>\n",
       "    </tr>\n",
       "    <tr>\n",
       "      <th>3</th>\n",
       "      <td>https://sellabanca.site/Autenticazione/app/use...</td>\n",
       "      <td>1</td>\n",
       "      <td>51</td>\n",
       "      <td>0</td>\n",
       "      <td>1</td>\n",
       "      <td>0</td>\n",
       "      <td>2</td>\n",
       "      <td>5</td>\n",
       "      <td>0</td>\n",
       "      <td>0</td>\n",
       "      <td>0</td>\n",
       "      <td>0</td>\n",
       "      <td>0</td>\n",
       "      <td>0</td>\n",
       "      <td>0</td>\n",
       "      <td>0</td>\n",
       "    </tr>\n",
       "    <tr>\n",
       "      <th>4</th>\n",
       "      <td>https://1r5applmnt.com</td>\n",
       "      <td>1</td>\n",
       "      <td>22</td>\n",
       "      <td>0</td>\n",
       "      <td>1</td>\n",
       "      <td>1</td>\n",
       "      <td>1</td>\n",
       "      <td>2</td>\n",
       "      <td>0</td>\n",
       "      <td>0</td>\n",
       "      <td>0</td>\n",
       "      <td>0</td>\n",
       "      <td>0</td>\n",
       "      <td>0</td>\n",
       "      <td>0</td>\n",
       "      <td>0</td>\n",
       "    </tr>\n",
       "  </tbody>\n",
       "</table>\n",
       "</div>"
      ],
      "text/plain": [
       "                                                 url  result  url_length  \\\n",
       "0               https://sellait.site/id/app/user.php       1          36   \n",
       "1  https://solucioneskinesicas.com/Sella/app/user...       1          50   \n",
       "2  https://open-spotify.site/it/Autenticazione/ap...       1          56   \n",
       "3  https://sellabanca.site/Autenticazione/app/use...       1          51   \n",
       "4                             https://1r5applmnt.com       1          22   \n",
       "\n",
       "   url_has_http//  url_has_https//  url_contains_num  url_num_dots  \\\n",
       "0               0                1                 0             2   \n",
       "1               0                1                 0             2   \n",
       "2               0                1                 0             2   \n",
       "3               0                1                 0             2   \n",
       "4               0                1                 1             1   \n",
       "\n",
       "   url_num_slashes  number_of_dash  has_at_symbol  has_tilde_symbol  \\\n",
       "0                5               0              0                 0   \n",
       "1                5               0              0                 0   \n",
       "2                6               1              0                 0   \n",
       "3                5               0              0                 0   \n",
       "4                2               0              0                 0   \n",
       "\n",
       "   number_of_underscore  number_of_numpercent  number_of_ampersand  \\\n",
       "0                     0                     0                    0   \n",
       "1                     0                     0                    0   \n",
       "2                     0                     0                    0   \n",
       "3                     0                     0                    0   \n",
       "4                     0                     0                    0   \n",
       "\n",
       "   number_of_hash  url_contains_ip  \n",
       "0               0                0  \n",
       "1               0                0  \n",
       "2               0                0  \n",
       "3               0                0  \n",
       "4               0                0  "
      ]
     },
     "execution_count": 6,
     "metadata": {},
     "output_type": "execute_result"
    }
   ],
   "source": [
    "df.head()"
   ]
  },
  {
   "cell_type": "code",
   "execution_count": 7,
   "id": "24778831-bbd9-446e-b5e0-02d76dcaacbe",
   "metadata": {
    "id": "24778831-bbd9-446e-b5e0-02d76dcaacbe",
    "outputId": "4f8be50c-1ca7-45a0-f673-02b0a2837235"
   },
   "outputs": [
    {
     "data": {
      "text/plain": [
       "Index(['url', 'result', 'url_length', 'url_has_http//', 'url_has_https//',\n",
       "       'url_contains_num', 'url_num_dots', 'url_num_slashes', 'number_of_dash',\n",
       "       'has_at_symbol', 'has_tilde_symbol', 'number_of_underscore',\n",
       "       'number_of_numpercent', 'number_of_ampersand', 'number_of_hash',\n",
       "       'url_contains_ip'],\n",
       "      dtype='object')"
      ]
     },
     "execution_count": 7,
     "metadata": {},
     "output_type": "execute_result"
    }
   ],
   "source": [
    "df.columns"
   ]
  },
  {
   "cell_type": "code",
   "execution_count": 8,
   "id": "850449d5-af99-4382-9a63-74ac8eb025df",
   "metadata": {},
   "outputs": [],
   "source": [
    "df1 = df.drop(['url'], axis = 1)"
   ]
  },
  {
   "cell_type": "code",
   "execution_count": 9,
   "id": "3f07f2f7-961a-45b1-8221-41aa69e04ee7",
   "metadata": {},
   "outputs": [
    {
     "data": {
      "text/html": [
       "<div>\n",
       "<style scoped>\n",
       "    .dataframe tbody tr th:only-of-type {\n",
       "        vertical-align: middle;\n",
       "    }\n",
       "\n",
       "    .dataframe tbody tr th {\n",
       "        vertical-align: top;\n",
       "    }\n",
       "\n",
       "    .dataframe thead th {\n",
       "        text-align: right;\n",
       "    }\n",
       "</style>\n",
       "<table border=\"1\" class=\"dataframe\">\n",
       "  <thead>\n",
       "    <tr style=\"text-align: right;\">\n",
       "      <th></th>\n",
       "      <th>result</th>\n",
       "      <th>url_length</th>\n",
       "      <th>url_has_http//</th>\n",
       "      <th>url_has_https//</th>\n",
       "      <th>url_contains_num</th>\n",
       "      <th>url_num_dots</th>\n",
       "      <th>url_num_slashes</th>\n",
       "      <th>number_of_dash</th>\n",
       "      <th>has_at_symbol</th>\n",
       "      <th>has_tilde_symbol</th>\n",
       "      <th>number_of_underscore</th>\n",
       "      <th>number_of_numpercent</th>\n",
       "      <th>number_of_ampersand</th>\n",
       "      <th>number_of_hash</th>\n",
       "      <th>url_contains_ip</th>\n",
       "    </tr>\n",
       "  </thead>\n",
       "  <tbody>\n",
       "    <tr>\n",
       "      <th>0</th>\n",
       "      <td>1</td>\n",
       "      <td>36</td>\n",
       "      <td>0</td>\n",
       "      <td>1</td>\n",
       "      <td>0</td>\n",
       "      <td>2</td>\n",
       "      <td>5</td>\n",
       "      <td>0</td>\n",
       "      <td>0</td>\n",
       "      <td>0</td>\n",
       "      <td>0</td>\n",
       "      <td>0</td>\n",
       "      <td>0</td>\n",
       "      <td>0</td>\n",
       "      <td>0</td>\n",
       "    </tr>\n",
       "    <tr>\n",
       "      <th>1</th>\n",
       "      <td>1</td>\n",
       "      <td>50</td>\n",
       "      <td>0</td>\n",
       "      <td>1</td>\n",
       "      <td>0</td>\n",
       "      <td>2</td>\n",
       "      <td>5</td>\n",
       "      <td>0</td>\n",
       "      <td>0</td>\n",
       "      <td>0</td>\n",
       "      <td>0</td>\n",
       "      <td>0</td>\n",
       "      <td>0</td>\n",
       "      <td>0</td>\n",
       "      <td>0</td>\n",
       "    </tr>\n",
       "    <tr>\n",
       "      <th>2</th>\n",
       "      <td>1</td>\n",
       "      <td>56</td>\n",
       "      <td>0</td>\n",
       "      <td>1</td>\n",
       "      <td>0</td>\n",
       "      <td>2</td>\n",
       "      <td>6</td>\n",
       "      <td>1</td>\n",
       "      <td>0</td>\n",
       "      <td>0</td>\n",
       "      <td>0</td>\n",
       "      <td>0</td>\n",
       "      <td>0</td>\n",
       "      <td>0</td>\n",
       "      <td>0</td>\n",
       "    </tr>\n",
       "    <tr>\n",
       "      <th>3</th>\n",
       "      <td>1</td>\n",
       "      <td>51</td>\n",
       "      <td>0</td>\n",
       "      <td>1</td>\n",
       "      <td>0</td>\n",
       "      <td>2</td>\n",
       "      <td>5</td>\n",
       "      <td>0</td>\n",
       "      <td>0</td>\n",
       "      <td>0</td>\n",
       "      <td>0</td>\n",
       "      <td>0</td>\n",
       "      <td>0</td>\n",
       "      <td>0</td>\n",
       "      <td>0</td>\n",
       "    </tr>\n",
       "    <tr>\n",
       "      <th>4</th>\n",
       "      <td>1</td>\n",
       "      <td>22</td>\n",
       "      <td>0</td>\n",
       "      <td>1</td>\n",
       "      <td>1</td>\n",
       "      <td>1</td>\n",
       "      <td>2</td>\n",
       "      <td>0</td>\n",
       "      <td>0</td>\n",
       "      <td>0</td>\n",
       "      <td>0</td>\n",
       "      <td>0</td>\n",
       "      <td>0</td>\n",
       "      <td>0</td>\n",
       "      <td>0</td>\n",
       "    </tr>\n",
       "  </tbody>\n",
       "</table>\n",
       "</div>"
      ],
      "text/plain": [
       "   result  url_length  url_has_http//  url_has_https//  url_contains_num  \\\n",
       "0       1          36               0                1                 0   \n",
       "1       1          50               0                1                 0   \n",
       "2       1          56               0                1                 0   \n",
       "3       1          51               0                1                 0   \n",
       "4       1          22               0                1                 1   \n",
       "\n",
       "   url_num_dots  url_num_slashes  number_of_dash  has_at_symbol  \\\n",
       "0             2                5               0              0   \n",
       "1             2                5               0              0   \n",
       "2             2                6               1              0   \n",
       "3             2                5               0              0   \n",
       "4             1                2               0              0   \n",
       "\n",
       "   has_tilde_symbol  number_of_underscore  number_of_numpercent  \\\n",
       "0                 0                     0                     0   \n",
       "1                 0                     0                     0   \n",
       "2                 0                     0                     0   \n",
       "3                 0                     0                     0   \n",
       "4                 0                     0                     0   \n",
       "\n",
       "   number_of_ampersand  number_of_hash  url_contains_ip  \n",
       "0                    0               0                0  \n",
       "1                    0               0                0  \n",
       "2                    0               0                0  \n",
       "3                    0               0                0  \n",
       "4                    0               0                0  "
      ]
     },
     "execution_count": 9,
     "metadata": {},
     "output_type": "execute_result"
    }
   ],
   "source": [
    "df1.head()"
   ]
  },
  {
   "cell_type": "code",
   "execution_count": 10,
   "id": "a2981abf-6a82-4143-be02-bbe1382009b0",
   "metadata": {},
   "outputs": [
    {
     "data": {
      "text/plain": [
       "(740122, 15)"
      ]
     },
     "execution_count": 10,
     "metadata": {},
     "output_type": "execute_result"
    }
   ],
   "source": [
    "df1.shape"
   ]
  },
  {
   "cell_type": "code",
   "execution_count": 11,
   "id": "f801b061-fde1-490a-8c45-dc9c43dcc51a",
   "metadata": {},
   "outputs": [
    {
     "name": "stdout",
     "output_type": "stream",
     "text": [
      "<class 'pandas.core.frame.DataFrame'>\n",
      "RangeIndex: 740122 entries, 0 to 740121\n",
      "Data columns (total 15 columns):\n",
      " #   Column                Non-Null Count   Dtype\n",
      "---  ------                --------------   -----\n",
      " 0   result                740122 non-null  int64\n",
      " 1   url_length            740122 non-null  int64\n",
      " 2   url_has_http//        740122 non-null  int64\n",
      " 3   url_has_https//       740122 non-null  int64\n",
      " 4   url_contains_num      740122 non-null  int64\n",
      " 5   url_num_dots          740122 non-null  int64\n",
      " 6   url_num_slashes       740122 non-null  int64\n",
      " 7   number_of_dash        740122 non-null  int64\n",
      " 8   has_at_symbol         740122 non-null  int64\n",
      " 9   has_tilde_symbol      740122 non-null  int64\n",
      " 10  number_of_underscore  740122 non-null  int64\n",
      " 11  number_of_numpercent  740122 non-null  int64\n",
      " 12  number_of_ampersand   740122 non-null  int64\n",
      " 13  number_of_hash        740122 non-null  int64\n",
      " 14  url_contains_ip       740122 non-null  int64\n",
      "dtypes: int64(15)\n",
      "memory usage: 84.7 MB\n"
     ]
    }
   ],
   "source": [
    "df1.info()"
   ]
  },
  {
   "cell_type": "code",
   "execution_count": 12,
   "id": "0aee6e83-f24f-4843-a8fa-5b4aef3bffe0",
   "metadata": {},
   "outputs": [
    {
     "data": {
      "text/plain": [
       "Index(['result', 'url_length', 'url_has_http//', 'url_has_https//',\n",
       "       'url_contains_num', 'url_num_dots', 'url_num_slashes', 'number_of_dash',\n",
       "       'has_at_symbol', 'has_tilde_symbol', 'number_of_underscore',\n",
       "       'number_of_numpercent', 'number_of_ampersand', 'number_of_hash',\n",
       "       'url_contains_ip'],\n",
       "      dtype='object')"
      ]
     },
     "execution_count": 12,
     "metadata": {},
     "output_type": "execute_result"
    }
   ],
   "source": [
    "df1.columns"
   ]
  },
  {
   "cell_type": "code",
   "execution_count": 13,
   "id": "2bff45d9-34be-4a6e-9b7a-5a0cc37092bf",
   "metadata": {},
   "outputs": [
    {
     "data": {
      "image/png": "[encoded data removed]",
      "text/plain": [
       "<Figure size 640x480 with 1 Axes>"
      ]
     },
     "metadata": {},
     "output_type": "display_data"
    }
   ],
   "source": [
    "df1['result'].value_counts().plot(kind='pie',autopct='%1.2f%%')\n",
    "plt.title(\"Phishing Count\")\n",
    "plt.show()"
   ]
  },
  {
   "cell_type": "code",
   "execution_count": 14,
   "id": "fce5943a-c569-431a-a991-d9d2274139f5",
   "metadata": {
    "id": "fce5943a-c569-431a-a991-d9d2274139f5"
   },
   "outputs": [],
   "source": [
    "#Independent Variables\n",
    "X = df[['url_length', 'url_has_http//', 'url_has_https//', 'url_contains_num', 'url_num_dots', 'url_num_slashes', 'number_of_dash', 'has_at_symbol', 'has_tilde_symbol', 'number_of_underscore', 'number_of_numpercent', 'number_of_ampersand', 'number_of_hash', 'url_contains_ip']]\n",
    "\n",
    "#Dependent Variable\n",
    "y = df['result']"
   ]
  },
  {
   "cell_type": "markdown",
   "id": "5560757a-027e-44ab-b31e-434807fece23",
   "metadata": {
    "id": "5560757a-027e-44ab-b31e-434807fece23"
   },
   "source": [
    "Train test split"
   ]
  },
  {
   "cell_type": "code",
   "execution_count": 15,
   "id": "f4d24335-37ff-44ad-8675-880d7d578625",
   "metadata": {
    "id": "f4d24335-37ff-44ad-8675-880d7d578625",
    "outputId": "c912c71e-538f-4191-e2c3-2acf7e741510"
   },
   "outputs": [
    {
     "name": "stdout",
     "output_type": "stream",
     "text": [
      "Size of X-sample : (960648, 14)\n",
      "Size of y-sample : (960648, 1)\n"
     ]
    }
   ],
   "source": [
    "from imblearn.over_sampling import SMOTE\n",
    "\n",
    "X_sample, y_sample = SMOTE().fit_resample(X, y.values.ravel())\n",
    "\n",
    "X_sample = pd.DataFrame(X_sample)\n",
    "y_sample = pd.DataFrame(y_sample)\n",
    "\n",
    "print(\"Size of X-sample :\", X_sample.shape)\n",
    "print(\"Size of y-sample :\", y_sample.shape)"
   ]
  },
  {
   "cell_type": "code",
   "execution_count": 16,
   "id": "7c5ec3ee-ce6c-4e7e-b3fe-8b3a32879b5b",
   "metadata": {
    "id": "7c5ec3ee-ce6c-4e7e-b3fe-8b3a32879b5b",
    "outputId": "16bf86ba-0e52-4993-93a5-1a0d16d39dc0"
   },
   "outputs": [
    {
     "name": "stdout",
     "output_type": "stream",
     "text": [
      "Shape of X_train:  (768518, 14)\n",
      "Shape of X_valid:  (192130, 14)\n",
      "Shape of y_train:  (768518, 1)\n",
      "Shape of y_valid:  (192130, 1)\n"
     ]
    }
   ],
   "source": [
    "from sklearn.model_selection import train_test_split\n",
    "\n",
    "X_train, X_test, y_train, y_test = train_test_split(X_sample, y_sample, test_size = 0.2, random_state = 2529)\n",
    "print(\"Shape of X_train: \", X_train.shape)\n",
    "print(\"Shape of X_valid: \", X_test.shape)\n",
    "print(\"Shape of y_train: \", y_train.shape)\n",
    "print(\"Shape of y_valid: \", y_test.shape)"
   ]
  },
  {
   "cell_type": "markdown",
   "id": "16529dd7-15b4-46d9-8025-5f07cfe449d6",
   "metadata": {
    "id": "16529dd7-15b4-46d9-8025-5f07cfe449d6"
   },
   "source": [
    " XGBoost Classifier"
   ]
  },
  {
   "cell_type": "code",
   "execution_count": 17,
   "id": "b5dfb23f-2dfb-4e1f-b0dc-183c2e1fd85a",
   "metadata": {
    "id": "b5dfb23f-2dfb-4e1f-b0dc-183c2e1fd85a",
    "outputId": "e4cb5366-4329-4865-f5a6-b8d76b5b71a5"
   },
   "outputs": [
    {
     "data": {
      "text/plain": [
       "0.9297610992557123"
      ]
     },
     "execution_count": 17,
     "metadata": {},
     "output_type": "execute_result"
    }
   ],
   "source": [
    "#XGBoost Classifier\n",
    "xgb_model = XGBClassifier()\n",
    "xgb_model.fit(X_train,y_train)\n",
    "\n",
    "xg_predictions = xgb_model.predict(X_test)\n",
    "accuracy_score(y_test,xg_predictions)\n"
   ]
  },
  {
   "cell_type": "code",
   "execution_count": 18,
   "id": "980ce169-ba03-4e7e-bfb6-a18da78fa5c6",
   "metadata": {
    "id": "980ce169-ba03-4e7e-bfb6-a18da78fa5c6",
    "outputId": "d63c5896-7e41-4fdb-b381-1beaf13f82b1"
   },
   "outputs": [
    {
     "data": {
      "text/html": [
       "<div>\n",
       "<style scoped>\n",
       "    .dataframe tbody tr th:only-of-type {\n",
       "        vertical-align: middle;\n",
       "    }\n",
       "\n",
       "    .dataframe tbody tr th {\n",
       "        vertical-align: top;\n",
       "    }\n",
       "\n",
       "    .dataframe thead th {\n",
       "        text-align: right;\n",
       "    }\n",
       "</style>\n",
       "<table border=\"1\" class=\"dataframe\">\n",
       "  <thead>\n",
       "    <tr style=\"text-align: right;\">\n",
       "      <th></th>\n",
       "      <th>Predicted 0</th>\n",
       "      <th>Predicted 1</th>\n",
       "    </tr>\n",
       "  </thead>\n",
       "  <tbody>\n",
       "    <tr>\n",
       "      <th>Actual 0</th>\n",
       "      <td>92693</td>\n",
       "      <td>3409</td>\n",
       "    </tr>\n",
       "    <tr>\n",
       "      <th>Actual 1</th>\n",
       "      <td>10086</td>\n",
       "      <td>85942</td>\n",
       "    </tr>\n",
       "  </tbody>\n",
       "</table>\n",
       "</div>"
      ],
      "text/plain": [
       "          Predicted 0  Predicted 1\n",
       "Actual 0        92693         3409\n",
       "Actual 1        10086        85942"
      ]
     },
     "execution_count": 18,
     "metadata": {},
     "output_type": "execute_result"
    }
   ],
   "source": [
    "cm = pd.DataFrame(confusion_matrix(y_test,xg_predictions))\n",
    "cm.columns = ['Predicted 0', 'Predicted 1']\n",
    "cm = cm.rename(index = {0:'Actual 0',1:'Actual 1'})\n",
    "cm"
   ]
  },
  {
   "cell_type": "markdown",
   "id": "f81a3b5c-3dd1-4d8f-952b-c43c248578e2",
   "metadata": {
    "id": "f81a3b5c-3dd1-4d8f-952b-c43c248578e2"
   },
   "source": [
    "Random Forest"
   ]
  },
  {
   "cell_type": "code",
   "execution_count": 19,
   "id": "bd256702-db63-4976-bcd2-80c1b766d0cf",
   "metadata": {
    "id": "bd256702-db63-4976-bcd2-80c1b766d0cf",
    "outputId": "5fc7c9fe-6a28-4342-a22c-1278167501bf"
   },
   "outputs": [
    {
     "name": "stderr",
     "output_type": "stream",
     "text": [
      "C:\\Users\\MSI\\AppData\\Local\\Programs\\Python\\Python312\\Lib\\site-packages\\sklearn\\base.py:1474: DataConversionWarning: A column-vector y was passed when a 1d array was expected. Please change the shape of y to (n_samples,), for example using ravel().\n",
      "  return fit_method(estimator, *args, **kwargs)\n"
     ]
    },
    {
     "data": {
      "text/plain": [
       "0.9322542028834643"
      ]
     },
     "execution_count": 19,
     "metadata": {},
     "output_type": "execute_result"
    }
   ],
   "source": [
    "#Random Forest\n",
    "rfc = RandomForestClassifier()\n",
    "rfc.fit(X_train, y_train)\n",
    "\n",
    "rfc_predictions = rfc.predict(X_test)\n",
    "accuracy_score(y_test, rfc_predictions)"
   ]
  },
  {
   "cell_type": "code",
   "execution_count": 20,
   "id": "e33be45d-83de-404e-a8d5-2832a5594cf4",
   "metadata": {
    "id": "e33be45d-83de-404e-a8d5-2832a5594cf4",
    "outputId": "a0c0c403-1c78-4472-a212-fa7619ee80ae"
   },
   "outputs": [
    {
     "data": {
      "text/html": [
       "<div>\n",
       "<style scoped>\n",
       "    .dataframe tbody tr th:only-of-type {\n",
       "        vertical-align: middle;\n",
       "    }\n",
       "\n",
       "    .dataframe tbody tr th {\n",
       "        vertical-align: top;\n",
       "    }\n",
       "\n",
       "    .dataframe thead th {\n",
       "        text-align: right;\n",
       "    }\n",
       "</style>\n",
       "<table border=\"1\" class=\"dataframe\">\n",
       "  <thead>\n",
       "    <tr style=\"text-align: right;\">\n",
       "      <th></th>\n",
       "      <th>Predicted 0</th>\n",
       "      <th>Predicted 1</th>\n",
       "    </tr>\n",
       "  </thead>\n",
       "  <tbody>\n",
       "    <tr>\n",
       "      <th>Actual 0</th>\n",
       "      <td>92505</td>\n",
       "      <td>3597</td>\n",
       "    </tr>\n",
       "    <tr>\n",
       "      <th>Actual 1</th>\n",
       "      <td>9419</td>\n",
       "      <td>86609</td>\n",
       "    </tr>\n",
       "  </tbody>\n",
       "</table>\n",
       "</div>"
      ],
      "text/plain": [
       "          Predicted 0  Predicted 1\n",
       "Actual 0        92505         3597\n",
       "Actual 1         9419        86609"
      ]
     },
     "execution_count": 20,
     "metadata": {},
     "output_type": "execute_result"
    }
   ],
   "source": [
    "cm = pd.DataFrame(confusion_matrix(y_test,rfc_predictions))\n",
    "cm.columns = ['Predicted 0', 'Predicted 1']\n",
    "cm = cm.rename(index = {0:'Actual 0',1:'Actual 1'})\n",
    "cm"
   ]
  },
  {
   "cell_type": "markdown",
   "id": "4b6f7011-6824-429c-99e8-8d2f830b5d30",
   "metadata": {
    "id": "4b6f7011-6824-429c-99e8-8d2f830b5d30"
   },
   "source": [
    "Logistic Regression"
   ]
  },
  {
   "cell_type": "code",
   "execution_count": 21,
   "id": "99aba03e-15b4-4244-a208-2aa86a34e2fe",
   "metadata": {
    "id": "99aba03e-15b4-4244-a208-2aa86a34e2fe",
    "outputId": "51bc421d-27a3-4a49-cc69-00a16d1cfed2"
   },
   "outputs": [
    {
     "name": "stderr",
     "output_type": "stream",
     "text": [
      "C:\\Users\\MSI\\AppData\\Local\\Programs\\Python\\Python312\\Lib\\site-packages\\sklearn\\utils\\validation.py:1300: DataConversionWarning: A column-vector y was passed when a 1d array was expected. Please change the shape of y to (n_samples, ), for example using ravel().\n",
      "  y = column_or_1d(y, warn=True)\n",
      "C:\\Users\\MSI\\AppData\\Local\\Programs\\Python\\Python312\\Lib\\site-packages\\sklearn\\linear_model\\_logistic.py:469: ConvergenceWarning: lbfgs failed to converge (status=1):\n",
      "STOP: TOTAL NO. of ITERATIONS REACHED LIMIT.\n",
      "\n",
      "Increase the number of iterations (max_iter) or scale the data as shown in:\n",
      "    https://scikit-learn.org/stable/modules/preprocessing.html\n",
      "Please also refer to the documentation for alternative solver options:\n",
      "    https://scikit-learn.org/stable/modules/linear_model.html#logistic-regression\n",
      "  n_iter_i = _check_optimize_result(\n"
     ]
    },
    {
     "data": {
      "text/plain": [
       "0.8504866496642898"
      ]
     },
     "execution_count": 21,
     "metadata": {},
     "output_type": "execute_result"
    }
   ],
   "source": [
    "#Logistic Regression\n",
    "log_model = LogisticRegression()\n",
    "log_model.fit(X_train,y_train)\n",
    "\n",
    "log_predictions = log_model.predict(X_test)\n",
    "accuracy_score(y_test,log_predictions)"
   ]
  },
  {
   "cell_type": "code",
   "execution_count": 22,
   "id": "8675c263-b5fb-4abb-b3c0-604f84e765e5",
   "metadata": {
    "id": "8675c263-b5fb-4abb-b3c0-604f84e765e5",
    "outputId": "e3a6e62a-2a2c-444a-c928-f67ccbed8b03"
   },
   "outputs": [
    {
     "data": {
      "text/html": [
       "<div>\n",
       "<style scoped>\n",
       "    .dataframe tbody tr th:only-of-type {\n",
       "        vertical-align: middle;\n",
       "    }\n",
       "\n",
       "    .dataframe tbody tr th {\n",
       "        vertical-align: top;\n",
       "    }\n",
       "\n",
       "    .dataframe thead th {\n",
       "        text-align: right;\n",
       "    }\n",
       "</style>\n",
       "<table border=\"1\" class=\"dataframe\">\n",
       "  <thead>\n",
       "    <tr style=\"text-align: right;\">\n",
       "      <th></th>\n",
       "      <th>Predicted 0</th>\n",
       "      <th>Predicted 1</th>\n",
       "    </tr>\n",
       "  </thead>\n",
       "  <tbody>\n",
       "    <tr>\n",
       "      <th>Actual 0</th>\n",
       "      <td>90031</td>\n",
       "      <td>6071</td>\n",
       "    </tr>\n",
       "    <tr>\n",
       "      <th>Actual 1</th>\n",
       "      <td>22655</td>\n",
       "      <td>73373</td>\n",
       "    </tr>\n",
       "  </tbody>\n",
       "</table>\n",
       "</div>"
      ],
      "text/plain": [
       "          Predicted 0  Predicted 1\n",
       "Actual 0        90031         6071\n",
       "Actual 1        22655        73373"
      ]
     },
     "execution_count": 22,
     "metadata": {},
     "output_type": "execute_result"
    }
   ],
   "source": [
    "cm_df = pd.DataFrame(confusion_matrix(y_test,log_predictions))\n",
    "cm_df.columns = ['Predicted 0', 'Predicted 1']\n",
    "cm_df = cm_df.rename(index = {0:'Actual 0',1:'Actual 1'})\n",
    "cm_df"
   ]
  },
  {
   "cell_type": "markdown",
   "id": "67337c49-72f5-499a-85fb-6bc6a87bfb24",
   "metadata": {},
   "source": [
    "K-Nearest Neighbors Classifier"
   ]
  },
  {
   "cell_type": "code",
   "execution_count": 23,
   "id": "15c15649-8d46-422e-b76f-a238671c8863",
   "metadata": {},
   "outputs": [
    {
     "name": "stderr",
     "output_type": "stream",
     "text": [
      "C:\\Users\\MSI\\AppData\\Local\\Programs\\Python\\Python312\\Lib\\site-packages\\sklearn\\neighbors\\_classification.py:238: DataConversionWarning: A column-vector y was passed when a 1d array was expected. Please change the shape of y to (n_samples,), for example using ravel().\n",
      "  return self._fit(X, y)\n"
     ]
    },
    {
     "data": {
      "text/plain": [
       "0.9179826159371259"
      ]
     },
     "execution_count": 23,
     "metadata": {},
     "output_type": "execute_result"
    }
   ],
   "source": [
    "from sklearn.neighbors import KNeighborsClassifier\n",
    "knn = KNeighborsClassifier()\n",
    "Knn=knn.fit(X_train,y_train)\n",
    "k_predict=Knn.predict(X_test)\n",
    "accuracy_score(y_test,k_predict)"
   ]
  },
  {
   "cell_type": "code",
   "execution_count": 24,
   "id": "daa6566e-1209-4a15-b00e-6609ae8d2bb3",
   "metadata": {},
   "outputs": [
    {
     "data": {
      "text/plain": [
       "array([[90122,  5980],\n",
       "       [ 9778, 86250]], dtype=int64)"
      ]
     },
     "execution_count": 24,
     "metadata": {},
     "output_type": "execute_result"
    }
   ],
   "source": [
    "confusion_matrix(y_test,k_predict)"
   ]
  },
  {
   "cell_type": "markdown",
   "id": "9fdc7395-c4f5-4034-8b7e-edd40f749cf7",
   "metadata": {},
   "source": [
    "Naive Bayes Classifier"
   ]
  },
  {
   "cell_type": "code",
   "execution_count": 25,
   "id": "c87a271d-1512-4213-81cd-8adbdb64c55e",
   "metadata": {},
   "outputs": [
    {
     "name": "stderr",
     "output_type": "stream",
     "text": [
      "C:\\Users\\MSI\\AppData\\Local\\Programs\\Python\\Python312\\Lib\\site-packages\\sklearn\\utils\\validation.py:1300: DataConversionWarning: A column-vector y was passed when a 1d array was expected. Please change the shape of y to (n_samples, ), for example using ravel().\n",
      "  y = column_or_1d(y, warn=True)\n"
     ]
    },
    {
     "data": {
      "text/plain": [
       "0.8058085671160152"
      ]
     },
     "execution_count": 25,
     "metadata": {},
     "output_type": "execute_result"
    }
   ],
   "source": [
    "from sklearn.naive_bayes import GaussianNB\n",
    "\n",
    "nb = GaussianNB()\n",
    "Nb=nb.fit(X_train,y_train)\n",
    "n_predict=nb.predict(X_test)\n",
    "accuracy_score(y_test,n_predict)"
   ]
  },
  {
   "cell_type": "code",
   "execution_count": 26,
   "id": "fc5c9f36-d283-4157-8ce0-b72277cc45cb",
   "metadata": {},
   "outputs": [
    {
     "data": {
      "text/plain": [
       "array([[95437,   665],\n",
       "       [36645, 59383]], dtype=int64)"
      ]
     },
     "execution_count": 26,
     "metadata": {},
     "output_type": "execute_result"
    }
   ],
   "source": [
    "confusion_matrix(y_test,n_predict)"
   ]
  },
  {
   "cell_type": "markdown",
   "id": "607721ea-b4ca-4b1a-bce7-82587ff697fe",
   "metadata": {},
   "source": [
    "Decision Trees Classifier"
   ]
  },
  {
   "cell_type": "code",
   "execution_count": 30,
   "id": "690d861b-e343-4b5a-9465-c830173468c4",
   "metadata": {},
   "outputs": [
    {
     "data": {
      "text/plain": [
       "0.9313173372195909"
      ]
     },
     "execution_count": 30,
     "metadata": {},
     "output_type": "execute_result"
    }
   ],
   "source": [
    "from sklearn.tree import DecisionTreeClassifier\n",
    "\n",
    "dt = DecisionTreeClassifier(max_depth=30)\n",
    "Dt=dt.fit(X_train, y_train)\n",
    "d_predict=Dt.predict(X_test)\n",
    "accuracy_score(y_test,d_predict)"
   ]
  },
  {
   "cell_type": "code",
   "execution_count": 31,
   "id": "ab674f11-7185-4ba2-bf95-59a2fa1eaa5e",
   "metadata": {},
   "outputs": [
    {
     "data": {
      "text/plain": [
       "array([[92522,  3580],\n",
       "       [ 9616, 86412]], dtype=int64)"
      ]
     },
     "execution_count": 31,
     "metadata": {},
     "output_type": "execute_result"
    }
   ],
   "source": [
    "confusion_matrix(y_test,d_predict)"
   ]
  },
  {
   "cell_type": "markdown",
   "id": "a3b45d37-f6e9-4fe0-b6aa-cc9342d2cdf2",
   "metadata": {},
   "source": [
    "Gradient Boosting Classifier"
   ]
  },
  {
   "cell_type": "code",
   "execution_count": 32,
   "id": "cd787348-e292-4d71-b579-ecb39af5dc8a",
   "metadata": {},
   "outputs": [
    {
     "name": "stderr",
     "output_type": "stream",
     "text": [
      "C:\\Users\\MSI\\AppData\\Local\\Programs\\Python\\Python312\\Lib\\site-packages\\sklearn\\preprocessing\\_label.py:114: DataConversionWarning: A column-vector y was passed when a 1d array was expected. Please change the shape of y to (n_samples, ), for example using ravel().\n",
      "  y = column_or_1d(y, warn=True)\n"
     ]
    },
    {
     "data": {
      "text/plain": [
       "0.9284963306094831"
      ]
     },
     "execution_count": 32,
     "metadata": {},
     "output_type": "execute_result"
    }
   ],
   "source": [
    "from sklearn.ensemble import GradientBoostingClassifier\n",
    "\n",
    "gbc = GradientBoostingClassifier(max_depth=4,learning_rate=0.7)\n",
    "Gbc=gbc.fit(X_train,y_train)\n",
    "g_predict=Gbc.predict(X_test)\n",
    "accuracy_score(y_test,g_predict)"
   ]
  },
  {
   "cell_type": "code",
   "execution_count": 33,
   "id": "37f4f8ec-e2f5-4b36-a416-5dfd576ecb93",
   "metadata": {},
   "outputs": [
    {
     "data": {
      "text/plain": [
       "array([[92638,  3464],\n",
       "       [10274, 85754]], dtype=int64)"
      ]
     },
     "execution_count": 33,
     "metadata": {},
     "output_type": "execute_result"
    }
   ],
   "source": [
    "confusion_matrix(y_test,g_predict)"
   ]
  },
  {
   "cell_type": "code",
   "execution_count": 40,
   "id": "fc5c6cc1-d1d6-4af8-a72f-43ad51c1da89",
   "metadata": {
    "id": "fc5c6cc1-d1d6-4af8-a72f-43ad51c1da89",
    "outputId": "6a2201e0-9872-499d-d3d2-3d511f2a35e1"
   },
   "outputs": [
    {
     "data": {
      "text/html": [
       "<div>\n",
       "<style scoped>\n",
       "    .dataframe tbody tr th:only-of-type {\n",
       "        vertical-align: middle;\n",
       "    }\n",
       "\n",
       "    .dataframe tbody tr th {\n",
       "        vertical-align: top;\n",
       "    }\n",
       "\n",
       "    .dataframe thead th {\n",
       "        text-align: right;\n",
       "    }\n",
       "</style>\n",
       "<table border=\"1\" class=\"dataframe\">\n",
       "  <thead>\n",
       "    <tr style=\"text-align: right;\">\n",
       "      <th></th>\n",
       "      <th>Model</th>\n",
       "      <th>Accuracy Score</th>\n",
       "    </tr>\n",
       "  </thead>\n",
       "  <tbody>\n",
       "    <tr>\n",
       "      <th>0</th>\n",
       "      <td>XGBClassifier</td>\n",
       "      <td>92.976110</td>\n",
       "    </tr>\n",
       "    <tr>\n",
       "      <th>1</th>\n",
       "      <td>Random Forest</td>\n",
       "      <td>93.225420</td>\n",
       "    </tr>\n",
       "    <tr>\n",
       "      <th>2</th>\n",
       "      <td>Logistic Regression</td>\n",
       "      <td>85.048665</td>\n",
       "    </tr>\n",
       "    <tr>\n",
       "      <th>3</th>\n",
       "      <td>K-Nearest Neighbors</td>\n",
       "      <td>91.798262</td>\n",
       "    </tr>\n",
       "    <tr>\n",
       "      <th>4</th>\n",
       "      <td>Naive Bayes</td>\n",
       "      <td>80.580857</td>\n",
       "    </tr>\n",
       "    <tr>\n",
       "      <th>5</th>\n",
       "      <td>Decision Trees</td>\n",
       "      <td>93.131734</td>\n",
       "    </tr>\n",
       "    <tr>\n",
       "      <th>6</th>\n",
       "      <td>Gradient Boosting</td>\n",
       "      <td>92.849633</td>\n",
       "    </tr>\n",
       "  </tbody>\n",
       "</table>\n",
       "</div>"
      ],
      "text/plain": [
       "                 Model  Accuracy Score\n",
       "0        XGBClassifier       92.976110\n",
       "1        Random Forest       93.225420\n",
       "2  Logistic Regression       85.048665\n",
       "3  K-Nearest Neighbors       91.798262\n",
       "4          Naive Bayes       80.580857\n",
       "5       Decision Trees       93.131734\n",
       "6    Gradient Boosting       92.849633"
      ]
     },
     "execution_count": 40,
     "metadata": {},
     "output_type": "execute_result"
    }
   ],
   "source": [
    "#Overall Accuracy table\n",
    "import numpy as np\n",
    "model = np.array(['XGBClassifier', 'Random Forest', 'Logistic Regression', 'K-Nearest Neighbors', 'Naive Bayes', 'Decision Trees', 'Gradient Boosting'])\n",
    "scr = np.array([accuracy_score(y_test,xg_predictions)*100, accuracy_score(y_test, rfc_predictions)*100, accuracy_score(y_test,log_predictions)*100, accuracy_score(y_test,k_predict)*100, accuracy_score(y_test,n_predict)*100, accuracy_score(y_test,d_predict)*100, accuracy_score(y_test,g_predict)*100])\n",
    "tbl = pd.DataFrame({\"Model\": model,\"Accuracy Score\": scr})\n",
    "tbl"
   ]
  },
  {
   "cell_type": "code",
   "execution_count": null,
   "id": "b606942e-0064-4882-a3b6-4dd093b82e1a",
   "metadata": {
    "id": "b606942e-0064-4882-a3b6-4dd093b82e1a",
    "outputId": "beb89410-a258-45e0-fcd2-9157c0db1fd0"
   },
   "outputs": [],
   "source": [
    "df1.shape"
   ]
  },
  {
   "cell_type": "code",
   "execution_count": 50,
   "id": "3ad2460d-8fe7-4bf5-b606-ea848731da12",
   "metadata": {
    "id": "3ad2460d-8fe7-4bf5-b606-ea848731da12",
    "outputId": "893d9ea3-7e6e-4512-e658-fc5cb43ed921"
   },
   "outputs": [
    {
     "name": "stdout",
     "output_type": "stream",
     "text": [
      "Input Format: www.example.com\n"
     ]
    },
    {
     "name": "stdin",
     "output_type": "stream",
     "text": [
      "Enter a URL:  dwd\n"
     ]
    },
    {
     "name": "stdout",
     "output_type": "stream",
     "text": [
      "The URL is malicious.\n"
     ]
    }
   ],
   "source": [
    "def predict_url(url):\n",
    "  url_length = len(url)\n",
    "  url_has_http = 1 if 'http://' in url else 0\n",
    "  url_has_https = 1 if 'https://' in url else 0\n",
    "  url_contains_num = 1 if re.search(r'\\d', url) else 0\n",
    "  url_num_dots = url.count('.')\n",
    "  url_num_slashes = url.count('/')\n",
    "  number_of_dash = url.count('_')\n",
    "  has_at_symbol = 1 if '@' in url else 0\n",
    "  has_tilde_symbol = 1 if '~' in url else 0\n",
    "  number_of_underscore = url.count('_')\n",
    "  number_of_numpercent = url.count('%')\n",
    "  number_of_ampersand = url.count('&')\n",
    "  number_of_hash = url.count('#')\n",
    "  url_contains_ip = 1 if re.search(r'\\b(?:[0-9]{1,3}\\.){3}[0-9]{1,3}\\b', url) else 0\n",
    "\n",
    "  # Create a feature vector\n",
    "  features = [url_length, url_has_http, url_has_https, url_contains_num, url_num_dots,\n",
    "              url_num_slashes, number_of_dash, has_at_symbol, has_tilde_symbol,\n",
    "              number_of_underscore, number_of_numpercent, number_of_ampersand,\n",
    "              number_of_hash, url_contains_ip]\n",
    "\n",
    "  # Convert the feature vector to a NumPy array\n",
    "  features = np.array(features).reshape(1, -1)\n",
    "\n",
    "  # Predict the URL\n",
    "  # prediction = xgb_model.predict(features)[0]\n",
    "  prediction = rfc.predict(features)[0]\n",
    "  # prediction = log_model.predict(features)[0]\n",
    "  # prediction = Knn.predict(features)[0]\n",
    "  # prediction = nb.predict(features)[0]\n",
    "  # prediction = Dt.predict(features)[0]\n",
    "  # prediction = Gbc.predict(features)[0]\n",
    "\n",
    "\n",
    "\n",
    "  return prediction\n",
    "\n",
    "# Get the user input URL\n",
    "print(\"Input Format: www.example.com\")\n",
    "url = input(\"Enter a URL: \")\n",
    "\n",
    "# Predict the URL\n",
    "prediction = predict_url(url)\n",
    "\n",
    "# Print the prediction\n",
    "if prediction == 1:\n",
    "  print(\"The URL is malicious.\")\n",
    "else:\n",
    "  print(\"The URL is legitimate.\")\n"
   ]
  },
  {
   "cell_type": "code",
   "execution_count": null,
   "id": "7a1a5d28-5426-41d6-9d3f-c5d55e9fbf4b",
   "metadata": {},
   "outputs": [],
   "source": []
  }
 ],
 "metadata": {
  "colab": {
   "provenance": []
  },
  "kernelspec": {
   "display_name": "Python 3 (ipykernel)",
   "language": "python",
   "name": "python3"
  },
  "language_info": {
   "codemirror_mode": {
    "name": "ipython",
    "version": 3
   },
   "file_extension": ".py",
   "mimetype": "text/x-python",
   "name": "python",
   "nbconvert_exporter": "python",
   "pygments_lexer": "ipython3",
   "version": "3.12.0"
  }
 },
 "nbformat": 4,
 "nbformat_minor": 5
}
